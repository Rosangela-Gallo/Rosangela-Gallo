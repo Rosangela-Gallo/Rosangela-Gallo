{
  "cells": [
    {
      "cell_type": "markdown",
      "metadata": {
        "id": "view-in-github",
        "colab_type": "text"
      },
      "source": [
        "<a href=\"https://colab.research.google.com/github/Rosangela-Gallo/Rosangela-Gallo/blob/main/Analise_imoveis_de_aluguel.ipynb\" target=\"_parent\"><img src=\"https://colab.research.google.com/assets/colab-badge.svg\" alt=\"Open In Colab\"/></a>"
      ]
    },
    {
      "cell_type": "markdown",
      "metadata": {
        "id": "3BgsijaeB4_Y"
      },
      "source": [
        "\n",
        "                          Projeto Aprimoramento   -   Curso Engenheiro de Dados    -    Soulcode Academy\n",
        "\n",
        "\n",
        "\n",
        "**Nivel Pandas**       \n",
        "O arquivo que estiver em outra linguagem deverá ter seus dados traduzidos para Português-BR\n",
        "Realizar a extração corretamente para um dataframe\n",
        "Verificar a existência de dados inconsistentes e realizar a limpeza para NaN ou NA\n",
        "Realizar o drop(se necessário) de colunas do dataframe\n",
        "Todos os passos devem ser comentados\n",
        "Criar pelo menos uma plotagem\n",
        "\n",
        "\n",
        "\n",
        "\n",
        "\n"
      ]
    },
    {
      "cell_type": "markdown",
      "metadata": {
        "id": "bZbZqA9Qegbi"
      },
      "source": [
        "*Insights  iniciais* >>> \n",
        "1 - Alguém que vai utilizar este serviço, necessita saber se o imóvel está disponível pelo tempo que ela deseja, quanto vai custar e onde estão estes imóveis.\n",
        "2 - Supondo que os com maior numero de avaliaçoes são os mais procurados - vamos\n",
        "verificar a quantidade de imóveis que cada anfitrião possui e se estas avaliações estão ligadas a isso, ou ao preço, ou á localização."
      ]
    },
    {
      "cell_type": "markdown",
      "metadata": {
        "id": "FMo1sxtKuwYh"
      },
      "source": [
        "*Instalação das Bibliotecas necessárias* "
      ]
    },
    {
      "cell_type": "code",
      "execution_count": null,
      "metadata": {
        "colab": {
          "base_uri": "https://localhost:8080/"
        },
        "id": "nx2YwbX3Eait",
        "outputId": "991332e6-0aa4-4d9a-cda4-abd8ac9d136d"
      },
      "outputs": [
        {
          "output_type": "stream",
          "name": "stdout",
          "text": [
            "Requirement already satisfied: pandas in /usr/local/lib/python3.7/dist-packages (1.3.5)\n",
            "Requirement already satisfied: numpy>=1.17.3 in /usr/local/lib/python3.7/dist-packages (from pandas) (1.21.5)\n",
            "Requirement already satisfied: pytz>=2017.3 in /usr/local/lib/python3.7/dist-packages (from pandas) (2018.9)\n",
            "Requirement already satisfied: python-dateutil>=2.7.3 in /usr/local/lib/python3.7/dist-packages (from pandas) (2.8.2)\n",
            "Requirement already satisfied: six>=1.5 in /usr/local/lib/python3.7/dist-packages (from python-dateutil>=2.7.3->pandas) (1.15.0)\n"
          ]
        }
      ],
      "source": [
        "pip install pandas"
      ]
    },
    {
      "cell_type": "code",
      "source": [
        "# instalei a biblioteca esta biblioteca para realizar traduçoes em massa (versão Beta)\n",
        "!pip install googletrans==3.1.0a0"
      ],
      "metadata": {
        "colab": {
          "base_uri": "https://localhost:8080/"
        },
        "id": "7li4Z2RXf24V",
        "outputId": "66c3687e-86a4-4657-8733-d74e180889ef"
      },
      "execution_count": null,
      "outputs": [
        {
          "output_type": "stream",
          "name": "stdout",
          "text": [
            "Collecting googletrans==3.1.0a0\n",
            "  Downloading googletrans-3.1.0a0.tar.gz (19 kB)\n",
            "Collecting httpx==0.13.3\n",
            "  Downloading httpx-0.13.3-py3-none-any.whl (55 kB)\n",
            "\u001b[K     |████████████████████████████████| 55 kB 1.7 MB/s \n",
            "\u001b[?25hCollecting sniffio\n",
            "  Downloading sniffio-1.2.0-py3-none-any.whl (10 kB)\n",
            "Collecting rfc3986<2,>=1.3\n",
            "  Downloading rfc3986-1.5.0-py2.py3-none-any.whl (31 kB)\n",
            "Requirement already satisfied: idna==2.* in /usr/local/lib/python3.7/dist-packages (from httpx==0.13.3->googletrans==3.1.0a0) (2.10)\n",
            "Requirement already satisfied: certifi in /usr/local/lib/python3.7/dist-packages (from httpx==0.13.3->googletrans==3.1.0a0) (2021.10.8)\n",
            "Collecting hstspreload\n",
            "  Downloading hstspreload-2021.12.1-py3-none-any.whl (1.3 MB)\n",
            "\u001b[K     |████████████████████████████████| 1.3 MB 4.4 MB/s \n",
            "\u001b[?25hRequirement already satisfied: chardet==3.* in /usr/local/lib/python3.7/dist-packages (from httpx==0.13.3->googletrans==3.1.0a0) (3.0.4)\n",
            "Collecting httpcore==0.9.*\n",
            "  Downloading httpcore-0.9.1-py3-none-any.whl (42 kB)\n",
            "\u001b[K     |████████████████████████████████| 42 kB 761 kB/s \n",
            "\u001b[?25hCollecting h11<0.10,>=0.8\n",
            "  Downloading h11-0.9.0-py2.py3-none-any.whl (53 kB)\n",
            "\u001b[K     |████████████████████████████████| 53 kB 2.0 MB/s \n",
            "\u001b[?25hCollecting h2==3.*\n",
            "  Downloading h2-3.2.0-py2.py3-none-any.whl (65 kB)\n",
            "\u001b[K     |████████████████████████████████| 65 kB 1.9 MB/s \n",
            "\u001b[?25hCollecting hpack<4,>=3.0\n",
            "  Downloading hpack-3.0.0-py2.py3-none-any.whl (38 kB)\n",
            "Collecting hyperframe<6,>=5.2.0\n",
            "  Downloading hyperframe-5.2.0-py2.py3-none-any.whl (12 kB)\n",
            "Building wheels for collected packages: googletrans\n",
            "  Building wheel for googletrans (setup.py) ... \u001b[?25l\u001b[?25hdone\n",
            "  Created wheel for googletrans: filename=googletrans-3.1.0a0-py3-none-any.whl size=16367 sha256=2411bf6df126574c380363ebb75244e681d6cb3f703cb336fb2fa3169a47c3ad\n",
            "  Stored in directory: /root/.cache/pip/wheels/0c/be/fe/93a6a40ffe386e16089e44dad9018ebab9dc4cb9eb7eab65ae\n",
            "Successfully built googletrans\n",
            "Installing collected packages: hyperframe, hpack, sniffio, h2, h11, rfc3986, httpcore, hstspreload, httpx, googletrans\n",
            "Successfully installed googletrans-3.1.0a0 h11-0.9.0 h2-3.2.0 hpack-3.0.0 hstspreload-2021.12.1 httpcore-0.9.1 httpx-0.13.3 hyperframe-5.2.0 rfc3986-1.5.0 sniffio-1.2.0\n"
          ]
        }
      ]
    },
    {
      "cell_type": "markdown",
      "metadata": {
        "id": "NTb4FlNlvJ0k"
      },
      "source": [
        "importando a biblioteca pandas, googletrans e definindo variáveis"
      ]
    },
    {
      "cell_type": "code",
      "execution_count": null,
      "metadata": {
        "id": "JVUo3aOtE9Yn"
      },
      "outputs": [],
      "source": [
        "import pandas as pd\n",
        "import googletrans\n",
        "from googletrans import Translator\n",
        "tradutor = Translator(service_urls = ['translate.googleapis.com'])"
      ]
    },
    {
      "cell_type": "code",
      "source": [
        "#importando bibliotecas para a conecção com o GCP e definindo variáveis\n",
        "from google.colab import auth\n",
        "project_id = \"ingest-wallace\"   # conta compartilhada\n",
        "bucket_name = \"appspot.com\"\n",
        "!gcloud config set project {project_id}"
      ],
      "metadata": {
        "colab": {
          "base_uri": "https://localhost:8080/"
        },
        "id": "EpmwjnAZi6b-",
        "outputId": "82e167d5-1feb-4bc7-b209-850b11ed7454"
      },
      "execution_count": null,
      "outputs": [
        {
          "output_type": "stream",
          "name": "stdout",
          "text": [
            "Updated property [core/project].\n"
          ]
        }
      ]
    },
    {
      "cell_type": "markdown",
      "metadata": {
        "id": "cnRfhI0EvYn1"
      },
      "source": [
        "Fiz a leitura do arquivo disponibilizado no Classroom como    \"4.csv\"  para um dataframe"
      ]
    },
    {
      "cell_type": "code",
      "source": [
        "df_pandas = pd.read_xlsx(\"/content/gdrive/MyDrive/Projeto_Aprimoramento/4.csv\")"
      ],
      "metadata": {
        "id": "lZZK1Vea22V8"
      },
      "execution_count": null,
      "outputs": []
    },
    {
      "cell_type": "markdown",
      "source": [
        "\n",
        "\n",
        "Salvei o arquivo Bruto \"4.csv\" direto no bucket - Cloud Storage"
      ],
      "metadata": {
        "id": "w3BFgDYV3ad_"
      }
    },
    {
      "cell_type": "code",
      "source": [
        "#Autenticando conta do usuário\n",
        "auth.authenticate_user()"
      ],
      "metadata": {
        "id": "ppLzbeV2s2nz"
      },
      "execution_count": null,
      "outputs": []
    },
    {
      "cell_type": "code",
      "source": [
        "#salvando GCP\n",
        "!gsutil cp /content/4.csv gs://ingest-wallace.appspot.com/Entrada_Aprimoramento/4.csv"
      ],
      "metadata": {
        "id": "NAxZARu2yic8",
        "colab": {
          "base_uri": "https://localhost:8080/"
        },
        "outputId": "6c822104-9515-4aeb-edda-9f4377b93ff8"
      },
      "execution_count": null,
      "outputs": [
        {
          "output_type": "stream",
          "name": "stdout",
          "text": [
            "CommandException: No URLs matched: /content/4.csv\n"
          ]
        }
      ]
    },
    {
      "cell_type": "markdown",
      "source": [
        "Passo a carregar o arquivo diretamente do Bucket"
      ],
      "metadata": {
        "id": "vZLbJuOf6PTw"
      }
    },
    {
      "cell_type": "code",
      "execution_count": null,
      "metadata": {
        "id": "3BFGQ4lsEjW2",
        "colab": {
          "base_uri": "https://localhost:8080/"
        },
        "outputId": "ff3ca830-6f8a-42dd-f402-9e7fa4d1677a"
      },
      "outputs": [
        {
          "output_type": "stream",
          "name": "stdout",
          "text": [
            "Copying gs://ingest-wallace.appspot.com/Entrada_Aprimoramento/4.csv...\n",
            "- [1 files][  5.0 MiB/  5.0 MiB]                                                \n",
            "Operation completed over 1 objects/5.0 MiB.                                      \n"
          ]
        }
      ],
      "source": [
        "!gsutil cp gs://ingest-wallace.appspot.com/Entrada_Aprimoramento/4.csv /content/4.csv"
      ]
    },
    {
      "cell_type": "code",
      "source": [
        "# Faço a leitura do arquivo que veio da Bucket num dataframe\n",
        "df_pandas = pd.read_csv(\"/content/4.csv\")"
      ],
      "metadata": {
        "id": "xb3Hdm5__GZX"
      },
      "execution_count": null,
      "outputs": []
    },
    {
      "cell_type": "markdown",
      "metadata": {
        "id": "XUkiX3VANIcO"
      },
      "source": [
        "Mostra o conteúdo inicial do arquivo ainda bruto"
      ]
    },
    {
      "cell_type": "code",
      "execution_count": null,
      "metadata": {
        "id": "LJkA__atGP3N"
      },
      "outputs": [],
      "source": [
        "df_pandas.head(4)"
      ]
    },
    {
      "cell_type": "code",
      "execution_count": null,
      "metadata": {
        "id": "KzaHhDZTDP4N",
        "colab": {
          "base_uri": "https://localhost:8080/"
        },
        "outputId": "a5bec580-1ec1-4e2f-d398-cd97707b1df2"
      },
      "outputs": [
        {
          "output_type": "execute_result",
          "data": {
            "text/plain": [
              "id                                  int64\n",
              "name                               object\n",
              "host_id                             int64\n",
              "host_name                          object\n",
              "neighbourhood_group                object\n",
              "neighbourhood                      object\n",
              "latitude                          float64\n",
              "longitude                         float64\n",
              "room_type                          object\n",
              "price                             float64\n",
              "minimum_nights                    float64\n",
              "number_of_reviews                 float64\n",
              "last_review                        object\n",
              "reviews_per_month                 float64\n",
              "calculated_host_listings_count    float64\n",
              "availability_365                  float64\n",
              "dtype: object"
            ]
          },
          "metadata": {},
          "execution_count": 12
        }
      ],
      "source": [
        "# Verificar como os  campos estão definidos\n",
        "df_pandas.dtypes"
      ]
    },
    {
      "cell_type": "markdown",
      "metadata": {
        "id": "mMeBvjaoHRcW"
      },
      "source": [
        "Criei um df backup para garantir a segurança dos dados"
      ]
    },
    {
      "cell_type": "code",
      "execution_count": null,
      "metadata": {
        "id": "oGsHXcA7wjdC",
        "colab": {
          "base_uri": "https://localhost:8080/",
          "height": 377
        },
        "outputId": "3fac0869-812e-478f-8200-f477f177a1b0"
      },
      "outputs": [
        {
          "output_type": "execute_result",
          "data": {
            "text/html": [
              "\n",
              "  <div id=\"df-b7569de6-453b-41ba-91fd-3b177fa4c251\">\n",
              "    <div class=\"colab-df-container\">\n",
              "      <div>\n",
              "<style scoped>\n",
              "    .dataframe tbody tr th:only-of-type {\n",
              "        vertical-align: middle;\n",
              "    }\n",
              "\n",
              "    .dataframe tbody tr th {\n",
              "        vertical-align: top;\n",
              "    }\n",
              "\n",
              "    .dataframe thead th {\n",
              "        text-align: right;\n",
              "    }\n",
              "</style>\n",
              "<table border=\"1\" class=\"dataframe\">\n",
              "  <thead>\n",
              "    <tr style=\"text-align: right;\">\n",
              "      <th></th>\n",
              "      <th>id</th>\n",
              "      <th>name</th>\n",
              "      <th>host_id</th>\n",
              "      <th>host_name</th>\n",
              "      <th>neighbourhood_group</th>\n",
              "      <th>neighbourhood</th>\n",
              "      <th>latitude</th>\n",
              "      <th>longitude</th>\n",
              "      <th>room_type</th>\n",
              "      <th>price</th>\n",
              "      <th>minimum_nights</th>\n",
              "      <th>number_of_reviews</th>\n",
              "      <th>last_review</th>\n",
              "      <th>reviews_per_month</th>\n",
              "      <th>calculated_host_listings_count</th>\n",
              "      <th>availability_365</th>\n",
              "    </tr>\n",
              "  </thead>\n",
              "  <tbody>\n",
              "    <tr>\n",
              "      <th>0</th>\n",
              "      <td>2539</td>\n",
              "      <td>Clean &amp; quiet apt home by the park</td>\n",
              "      <td>2787</td>\n",
              "      <td>John</td>\n",
              "      <td>Brooklyn</td>\n",
              "      <td>Kensington</td>\n",
              "      <td>40.64749</td>\n",
              "      <td>-73.97237</td>\n",
              "      <td>Private room</td>\n",
              "      <td>149.0</td>\n",
              "      <td>1.0</td>\n",
              "      <td>9.0</td>\n",
              "      <td>2018-10-19</td>\n",
              "      <td>0.21</td>\n",
              "      <td>6.0</td>\n",
              "      <td>365.0</td>\n",
              "    </tr>\n",
              "    <tr>\n",
              "      <th>1</th>\n",
              "      <td>2595</td>\n",
              "      <td>Skylit Midtown Castle</td>\n",
              "      <td>2845</td>\n",
              "      <td>Jennifer</td>\n",
              "      <td>Manhattan</td>\n",
              "      <td>Midtown</td>\n",
              "      <td>40.75362</td>\n",
              "      <td>-73.98377</td>\n",
              "      <td>Entire home/apt</td>\n",
              "      <td>225.0</td>\n",
              "      <td>1.0</td>\n",
              "      <td>45.0</td>\n",
              "      <td>2019-05-21</td>\n",
              "      <td>0.38</td>\n",
              "      <td>2.0</td>\n",
              "      <td>355.0</td>\n",
              "    </tr>\n",
              "    <tr>\n",
              "      <th>2</th>\n",
              "      <td>3647</td>\n",
              "      <td>THE VILLAGE OF HARLEM....NEW YORK !</td>\n",
              "      <td>4632</td>\n",
              "      <td>Elisabeth</td>\n",
              "      <td>Manhattan</td>\n",
              "      <td>Harlem</td>\n",
              "      <td>40.80902</td>\n",
              "      <td>-73.94190</td>\n",
              "      <td>Private room</td>\n",
              "      <td>150.0</td>\n",
              "      <td>3.0</td>\n",
              "      <td>0.0</td>\n",
              "      <td>NaN</td>\n",
              "      <td>NaN</td>\n",
              "      <td>1.0</td>\n",
              "      <td>365.0</td>\n",
              "    </tr>\n",
              "    <tr>\n",
              "      <th>3</th>\n",
              "      <td>3831</td>\n",
              "      <td>Cozy Entire Floor of Brownstone</td>\n",
              "      <td>4869</td>\n",
              "      <td>LisaRoxanne</td>\n",
              "      <td>Brooklyn</td>\n",
              "      <td>Clinton Hill</td>\n",
              "      <td>40.68514</td>\n",
              "      <td>-73.95976</td>\n",
              "      <td>Entire home/apt</td>\n",
              "      <td>89.0</td>\n",
              "      <td>1.0</td>\n",
              "      <td>270.0</td>\n",
              "      <td>2019-07-05</td>\n",
              "      <td>4.64</td>\n",
              "      <td>1.0</td>\n",
              "      <td>194.0</td>\n",
              "    </tr>\n",
              "  </tbody>\n",
              "</table>\n",
              "</div>\n",
              "      <button class=\"colab-df-convert\" onclick=\"convertToInteractive('df-b7569de6-453b-41ba-91fd-3b177fa4c251')\"\n",
              "              title=\"Convert this dataframe to an interactive table.\"\n",
              "              style=\"display:none;\">\n",
              "        \n",
              "  <svg xmlns=\"http://www.w3.org/2000/svg\" height=\"24px\"viewBox=\"0 0 24 24\"\n",
              "       width=\"24px\">\n",
              "    <path d=\"M0 0h24v24H0V0z\" fill=\"none\"/>\n",
              "    <path d=\"M18.56 5.44l.94 2.06.94-2.06 2.06-.94-2.06-.94-.94-2.06-.94 2.06-2.06.94zm-11 1L8.5 8.5l.94-2.06 2.06-.94-2.06-.94L8.5 2.5l-.94 2.06-2.06.94zm10 10l.94 2.06.94-2.06 2.06-.94-2.06-.94-.94-2.06-.94 2.06-2.06.94z\"/><path d=\"M17.41 7.96l-1.37-1.37c-.4-.4-.92-.59-1.43-.59-.52 0-1.04.2-1.43.59L10.3 9.45l-7.72 7.72c-.78.78-.78 2.05 0 2.83L4 21.41c.39.39.9.59 1.41.59.51 0 1.02-.2 1.41-.59l7.78-7.78 2.81-2.81c.8-.78.8-2.07 0-2.86zM5.41 20L4 18.59l7.72-7.72 1.47 1.35L5.41 20z\"/>\n",
              "  </svg>\n",
              "      </button>\n",
              "      \n",
              "  <style>\n",
              "    .colab-df-container {\n",
              "      display:flex;\n",
              "      flex-wrap:wrap;\n",
              "      gap: 12px;\n",
              "    }\n",
              "\n",
              "    .colab-df-convert {\n",
              "      background-color: #E8F0FE;\n",
              "      border: none;\n",
              "      border-radius: 50%;\n",
              "      cursor: pointer;\n",
              "      display: none;\n",
              "      fill: #1967D2;\n",
              "      height: 32px;\n",
              "      padding: 0 0 0 0;\n",
              "      width: 32px;\n",
              "    }\n",
              "\n",
              "    .colab-df-convert:hover {\n",
              "      background-color: #E2EBFA;\n",
              "      box-shadow: 0px 1px 2px rgba(60, 64, 67, 0.3), 0px 1px 3px 1px rgba(60, 64, 67, 0.15);\n",
              "      fill: #174EA6;\n",
              "    }\n",
              "\n",
              "    [theme=dark] .colab-df-convert {\n",
              "      background-color: #3B4455;\n",
              "      fill: #D2E3FC;\n",
              "    }\n",
              "\n",
              "    [theme=dark] .colab-df-convert:hover {\n",
              "      background-color: #434B5C;\n",
              "      box-shadow: 0px 1px 3px 1px rgba(0, 0, 0, 0.15);\n",
              "      filter: drop-shadow(0px 1px 2px rgba(0, 0, 0, 0.3));\n",
              "      fill: #FFFFFF;\n",
              "    }\n",
              "  </style>\n",
              "\n",
              "      <script>\n",
              "        const buttonEl =\n",
              "          document.querySelector('#df-b7569de6-453b-41ba-91fd-3b177fa4c251 button.colab-df-convert');\n",
              "        buttonEl.style.display =\n",
              "          google.colab.kernel.accessAllowed ? 'block' : 'none';\n",
              "\n",
              "        async function convertToInteractive(key) {\n",
              "          const element = document.querySelector('#df-b7569de6-453b-41ba-91fd-3b177fa4c251');\n",
              "          const dataTable =\n",
              "            await google.colab.kernel.invokeFunction('convertToInteractive',\n",
              "                                                     [key], {});\n",
              "          if (!dataTable) return;\n",
              "\n",
              "          const docLinkHtml = 'Like what you see? Visit the ' +\n",
              "            '<a target=\"_blank\" href=https://colab.research.google.com/notebooks/data_table.ipynb>data table notebook</a>'\n",
              "            + ' to learn more about interactive tables.';\n",
              "          element.innerHTML = '';\n",
              "          dataTable['output_type'] = 'display_data';\n",
              "          await google.colab.output.renderOutput(dataTable, element);\n",
              "          const docLink = document.createElement('div');\n",
              "          docLink.innerHTML = docLinkHtml;\n",
              "          element.appendChild(docLink);\n",
              "        }\n",
              "      </script>\n",
              "    </div>\n",
              "  </div>\n",
              "  "
            ],
            "text/plain": [
              "     id  ... availability_365\n",
              "0  2539  ...            365.0\n",
              "1  2595  ...            355.0\n",
              "2  3647  ...            365.0\n",
              "3  3831  ...            194.0\n",
              "\n",
              "[4 rows x 16 columns]"
            ]
          },
          "metadata": {},
          "execution_count": 13
        }
      ],
      "source": [
        "df_backup = df_pandas\n",
        "df_backup.head(4)"
      ]
    },
    {
      "cell_type": "code",
      "source": [
        "df_pandas.dtypes\n"
      ],
      "metadata": {
        "colab": {
          "base_uri": "https://localhost:8080/"
        },
        "id": "lJUpVdWhLdZ-",
        "outputId": "5a03ada8-321a-4f37-9675-e1c802db6abd"
      },
      "execution_count": null,
      "outputs": [
        {
          "output_type": "execute_result",
          "data": {
            "text/plain": [
              "id                                  int64\n",
              "name                               object\n",
              "host_id                             int64\n",
              "host_name                          object\n",
              "neighbourhood_group                object\n",
              "neighbourhood                      object\n",
              "latitude                          float64\n",
              "longitude                         float64\n",
              "room_type                          object\n",
              "price                             float64\n",
              "minimum_nights                    float64\n",
              "number_of_reviews                 float64\n",
              "last_review                        object\n",
              "reviews_per_month                 float64\n",
              "calculated_host_listings_count    float64\n",
              "availability_365                  float64\n",
              "dtype: object"
            ]
          },
          "metadata": {},
          "execution_count": 14
        }
      ]
    },
    {
      "cell_type": "markdown",
      "metadata": {
        "id": "tPSSX_-7Nw_e"
      },
      "source": [
        "O comando abaixo mostra uma descrição geral dos dados do dataframe"
      ]
    },
    {
      "cell_type": "code",
      "execution_count": null,
      "metadata": {
        "id": "SVV3B-L0KxAt",
        "colab": {
          "base_uri": "https://localhost:8080/",
          "height": 475
        },
        "outputId": "36161edf-d5d5-4bf9-b3f9-e1fa18f59d8e"
      },
      "outputs": [
        {
          "output_type": "execute_result",
          "data": {
            "text/html": [
              "\n",
              "  <div id=\"df-1c22c693-df15-45cc-9093-85cb1261fe1e\">\n",
              "    <div class=\"colab-df-container\">\n",
              "      <div>\n",
              "<style scoped>\n",
              "    .dataframe tbody tr th:only-of-type {\n",
              "        vertical-align: middle;\n",
              "    }\n",
              "\n",
              "    .dataframe tbody tr th {\n",
              "        vertical-align: top;\n",
              "    }\n",
              "\n",
              "    .dataframe thead th {\n",
              "        text-align: right;\n",
              "    }\n",
              "</style>\n",
              "<table border=\"1\" class=\"dataframe\">\n",
              "  <thead>\n",
              "    <tr style=\"text-align: right;\">\n",
              "      <th></th>\n",
              "      <th>id</th>\n",
              "      <th>name</th>\n",
              "      <th>host_id</th>\n",
              "      <th>host_name</th>\n",
              "      <th>neighbourhood_group</th>\n",
              "      <th>neighbourhood</th>\n",
              "      <th>latitude</th>\n",
              "      <th>longitude</th>\n",
              "      <th>room_type</th>\n",
              "      <th>price</th>\n",
              "      <th>minimum_nights</th>\n",
              "      <th>number_of_reviews</th>\n",
              "      <th>last_review</th>\n",
              "      <th>reviews_per_month</th>\n",
              "      <th>calculated_host_listings_count</th>\n",
              "      <th>availability_365</th>\n",
              "    </tr>\n",
              "  </thead>\n",
              "  <tbody>\n",
              "    <tr>\n",
              "      <th>count</th>\n",
              "      <td>3.633400e+04</td>\n",
              "      <td>36318</td>\n",
              "      <td>3.633400e+04</td>\n",
              "      <td>36313</td>\n",
              "      <td>36333</td>\n",
              "      <td>36333</td>\n",
              "      <td>36333.000000</td>\n",
              "      <td>36333.000000</td>\n",
              "      <td>36333</td>\n",
              "      <td>36333.000000</td>\n",
              "      <td>36333.000000</td>\n",
              "      <td>36333.000000</td>\n",
              "      <td>30532</td>\n",
              "      <td>30532.000000</td>\n",
              "      <td>36333.000000</td>\n",
              "      <td>36333.000000</td>\n",
              "    </tr>\n",
              "    <tr>\n",
              "      <th>unique</th>\n",
              "      <td>NaN</td>\n",
              "      <td>35671</td>\n",
              "      <td>NaN</td>\n",
              "      <td>9273</td>\n",
              "      <td>5</td>\n",
              "      <td>221</td>\n",
              "      <td>NaN</td>\n",
              "      <td>NaN</td>\n",
              "      <td>3</td>\n",
              "      <td>NaN</td>\n",
              "      <td>NaN</td>\n",
              "      <td>NaN</td>\n",
              "      <td>1764</td>\n",
              "      <td>NaN</td>\n",
              "      <td>NaN</td>\n",
              "      <td>NaN</td>\n",
              "    </tr>\n",
              "    <tr>\n",
              "      <th>top</th>\n",
              "      <td>NaN</td>\n",
              "      <td>Hillside Hotel</td>\n",
              "      <td>NaN</td>\n",
              "      <td>Michael</td>\n",
              "      <td>Manhattan</td>\n",
              "      <td>Williamsburg</td>\n",
              "      <td>NaN</td>\n",
              "      <td>NaN</td>\n",
              "      <td>Entire home/apt</td>\n",
              "      <td>NaN</td>\n",
              "      <td>NaN</td>\n",
              "      <td>NaN</td>\n",
              "      <td>2019-06-23</td>\n",
              "      <td>NaN</td>\n",
              "      <td>NaN</td>\n",
              "      <td>NaN</td>\n",
              "    </tr>\n",
              "    <tr>\n",
              "      <th>freq</th>\n",
              "      <td>NaN</td>\n",
              "      <td>18</td>\n",
              "      <td>NaN</td>\n",
              "      <td>328</td>\n",
              "      <td>15928</td>\n",
              "      <td>3097</td>\n",
              "      <td>NaN</td>\n",
              "      <td>NaN</td>\n",
              "      <td>19014</td>\n",
              "      <td>NaN</td>\n",
              "      <td>NaN</td>\n",
              "      <td>NaN</td>\n",
              "      <td>993</td>\n",
              "      <td>NaN</td>\n",
              "      <td>NaN</td>\n",
              "      <td>NaN</td>\n",
              "    </tr>\n",
              "    <tr>\n",
              "      <th>mean</th>\n",
              "      <td>1.422079e+07</td>\n",
              "      <td>NaN</td>\n",
              "      <td>4.471385e+07</td>\n",
              "      <td>NaN</td>\n",
              "      <td>NaN</td>\n",
              "      <td>NaN</td>\n",
              "      <td>40.728640</td>\n",
              "      <td>-73.953169</td>\n",
              "      <td>NaN</td>\n",
              "      <td>147.358022</td>\n",
              "      <td>6.905651</td>\n",
              "      <td>29.448793</td>\n",
              "      <td>NaN</td>\n",
              "      <td>1.142241</td>\n",
              "      <td>3.941761</td>\n",
              "      <td>101.593427</td>\n",
              "    </tr>\n",
              "    <tr>\n",
              "      <th>std</th>\n",
              "      <td>8.427656e+06</td>\n",
              "      <td>NaN</td>\n",
              "      <td>5.381382e+07</td>\n",
              "      <td>NaN</td>\n",
              "      <td>NaN</td>\n",
              "      <td>NaN</td>\n",
              "      <td>0.054364</td>\n",
              "      <td>0.044079</td>\n",
              "      <td>NaN</td>\n",
              "      <td>230.736064</td>\n",
              "      <td>21.098663</td>\n",
              "      <td>49.930208</td>\n",
              "      <td>NaN</td>\n",
              "      <td>1.480552</td>\n",
              "      <td>13.425832</td>\n",
              "      <td>129.733033</td>\n",
              "    </tr>\n",
              "    <tr>\n",
              "      <th>min</th>\n",
              "      <td>2.539000e+03</td>\n",
              "      <td>NaN</td>\n",
              "      <td>2.438000e+03</td>\n",
              "      <td>NaN</td>\n",
              "      <td>NaN</td>\n",
              "      <td>NaN</td>\n",
              "      <td>40.499790</td>\n",
              "      <td>-74.242850</td>\n",
              "      <td>NaN</td>\n",
              "      <td>0.000000</td>\n",
              "      <td>1.000000</td>\n",
              "      <td>0.000000</td>\n",
              "      <td>NaN</td>\n",
              "      <td>0.010000</td>\n",
              "      <td>1.000000</td>\n",
              "      <td>0.000000</td>\n",
              "    </tr>\n",
              "    <tr>\n",
              "      <th>25%</th>\n",
              "      <td>6.967039e+06</td>\n",
              "      <td>NaN</td>\n",
              "      <td>5.905590e+06</td>\n",
              "      <td>NaN</td>\n",
              "      <td>NaN</td>\n",
              "      <td>NaN</td>\n",
              "      <td>40.689100</td>\n",
              "      <td>-73.982400</td>\n",
              "      <td>NaN</td>\n",
              "      <td>69.000000</td>\n",
              "      <td>2.000000</td>\n",
              "      <td>1.000000</td>\n",
              "      <td>NaN</td>\n",
              "      <td>0.140000</td>\n",
              "      <td>1.000000</td>\n",
              "      <td>0.000000</td>\n",
              "    </tr>\n",
              "    <tr>\n",
              "      <th>50%</th>\n",
              "      <td>1.421927e+07</td>\n",
              "      <td>NaN</td>\n",
              "      <td>2.213123e+07</td>\n",
              "      <td>NaN</td>\n",
              "      <td>NaN</td>\n",
              "      <td>NaN</td>\n",
              "      <td>40.722280</td>\n",
              "      <td>-73.955970</td>\n",
              "      <td>NaN</td>\n",
              "      <td>105.000000</td>\n",
              "      <td>3.000000</td>\n",
              "      <td>8.000000</td>\n",
              "      <td>NaN</td>\n",
              "      <td>0.490000</td>\n",
              "      <td>1.000000</td>\n",
              "      <td>18.000000</td>\n",
              "    </tr>\n",
              "    <tr>\n",
              "      <th>75%</th>\n",
              "      <td>2.152909e+07</td>\n",
              "      <td>NaN</td>\n",
              "      <td>6.139196e+07</td>\n",
              "      <td>NaN</td>\n",
              "      <td>NaN</td>\n",
              "      <td>NaN</td>\n",
              "      <td>40.763490</td>\n",
              "      <td>-73.938240</td>\n",
              "      <td>NaN</td>\n",
              "      <td>170.000000</td>\n",
              "      <td>5.000000</td>\n",
              "      <td>35.000000</td>\n",
              "      <td>NaN</td>\n",
              "      <td>1.660000</td>\n",
              "      <td>2.000000</td>\n",
              "      <td>201.000000</td>\n",
              "    </tr>\n",
              "    <tr>\n",
              "      <th>max</th>\n",
              "      <td>2.891183e+07</td>\n",
              "      <td>NaN</td>\n",
              "      <td>2.179093e+08</td>\n",
              "      <td>NaN</td>\n",
              "      <td>NaN</td>\n",
              "      <td>NaN</td>\n",
              "      <td>40.911690</td>\n",
              "      <td>-73.712990</td>\n",
              "      <td>NaN</td>\n",
              "      <td>10000.000000</td>\n",
              "      <td>1250.000000</td>\n",
              "      <td>629.000000</td>\n",
              "      <td>NaN</td>\n",
              "      <td>19.750000</td>\n",
              "      <td>232.000000</td>\n",
              "      <td>365.000000</td>\n",
              "    </tr>\n",
              "  </tbody>\n",
              "</table>\n",
              "</div>\n",
              "      <button class=\"colab-df-convert\" onclick=\"convertToInteractive('df-1c22c693-df15-45cc-9093-85cb1261fe1e')\"\n",
              "              title=\"Convert this dataframe to an interactive table.\"\n",
              "              style=\"display:none;\">\n",
              "        \n",
              "  <svg xmlns=\"http://www.w3.org/2000/svg\" height=\"24px\"viewBox=\"0 0 24 24\"\n",
              "       width=\"24px\">\n",
              "    <path d=\"M0 0h24v24H0V0z\" fill=\"none\"/>\n",
              "    <path d=\"M18.56 5.44l.94 2.06.94-2.06 2.06-.94-2.06-.94-.94-2.06-.94 2.06-2.06.94zm-11 1L8.5 8.5l.94-2.06 2.06-.94-2.06-.94L8.5 2.5l-.94 2.06-2.06.94zm10 10l.94 2.06.94-2.06 2.06-.94-2.06-.94-.94-2.06-.94 2.06-2.06.94z\"/><path d=\"M17.41 7.96l-1.37-1.37c-.4-.4-.92-.59-1.43-.59-.52 0-1.04.2-1.43.59L10.3 9.45l-7.72 7.72c-.78.78-.78 2.05 0 2.83L4 21.41c.39.39.9.59 1.41.59.51 0 1.02-.2 1.41-.59l7.78-7.78 2.81-2.81c.8-.78.8-2.07 0-2.86zM5.41 20L4 18.59l7.72-7.72 1.47 1.35L5.41 20z\"/>\n",
              "  </svg>\n",
              "      </button>\n",
              "      \n",
              "  <style>\n",
              "    .colab-df-container {\n",
              "      display:flex;\n",
              "      flex-wrap:wrap;\n",
              "      gap: 12px;\n",
              "    }\n",
              "\n",
              "    .colab-df-convert {\n",
              "      background-color: #E8F0FE;\n",
              "      border: none;\n",
              "      border-radius: 50%;\n",
              "      cursor: pointer;\n",
              "      display: none;\n",
              "      fill: #1967D2;\n",
              "      height: 32px;\n",
              "      padding: 0 0 0 0;\n",
              "      width: 32px;\n",
              "    }\n",
              "\n",
              "    .colab-df-convert:hover {\n",
              "      background-color: #E2EBFA;\n",
              "      box-shadow: 0px 1px 2px rgba(60, 64, 67, 0.3), 0px 1px 3px 1px rgba(60, 64, 67, 0.15);\n",
              "      fill: #174EA6;\n",
              "    }\n",
              "\n",
              "    [theme=dark] .colab-df-convert {\n",
              "      background-color: #3B4455;\n",
              "      fill: #D2E3FC;\n",
              "    }\n",
              "\n",
              "    [theme=dark] .colab-df-convert:hover {\n",
              "      background-color: #434B5C;\n",
              "      box-shadow: 0px 1px 3px 1px rgba(0, 0, 0, 0.15);\n",
              "      filter: drop-shadow(0px 1px 2px rgba(0, 0, 0, 0.3));\n",
              "      fill: #FFFFFF;\n",
              "    }\n",
              "  </style>\n",
              "\n",
              "      <script>\n",
              "        const buttonEl =\n",
              "          document.querySelector('#df-1c22c693-df15-45cc-9093-85cb1261fe1e button.colab-df-convert');\n",
              "        buttonEl.style.display =\n",
              "          google.colab.kernel.accessAllowed ? 'block' : 'none';\n",
              "\n",
              "        async function convertToInteractive(key) {\n",
              "          const element = document.querySelector('#df-1c22c693-df15-45cc-9093-85cb1261fe1e');\n",
              "          const dataTable =\n",
              "            await google.colab.kernel.invokeFunction('convertToInteractive',\n",
              "                                                     [key], {});\n",
              "          if (!dataTable) return;\n",
              "\n",
              "          const docLinkHtml = 'Like what you see? Visit the ' +\n",
              "            '<a target=\"_blank\" href=https://colab.research.google.com/notebooks/data_table.ipynb>data table notebook</a>'\n",
              "            + ' to learn more about interactive tables.';\n",
              "          element.innerHTML = '';\n",
              "          dataTable['output_type'] = 'display_data';\n",
              "          await google.colab.output.renderOutput(dataTable, element);\n",
              "          const docLink = document.createElement('div');\n",
              "          docLink.innerHTML = docLinkHtml;\n",
              "          element.appendChild(docLink);\n",
              "        }\n",
              "      </script>\n",
              "    </div>\n",
              "  </div>\n",
              "  "
            ],
            "text/plain": [
              "                  id  ... availability_365\n",
              "count   3.633400e+04  ...     36333.000000\n",
              "unique           NaN  ...              NaN\n",
              "top              NaN  ...              NaN\n",
              "freq             NaN  ...              NaN\n",
              "mean    1.422079e+07  ...       101.593427\n",
              "std     8.427656e+06  ...       129.733033\n",
              "min     2.539000e+03  ...         0.000000\n",
              "25%     6.967039e+06  ...         0.000000\n",
              "50%     1.421927e+07  ...        18.000000\n",
              "75%     2.152909e+07  ...       201.000000\n",
              "max     2.891183e+07  ...       365.000000\n",
              "\n",
              "[11 rows x 16 columns]"
            ]
          },
          "metadata": {},
          "execution_count": 15
        }
      ],
      "source": [
        "df_pandas.describe(include=\"all\")"
      ]
    },
    {
      "cell_type": "code",
      "source": [
        "df_pandas.dropna()"
      ],
      "metadata": {
        "id": "DxpvDJUfozVV",
        "colab": {
          "base_uri": "https://localhost:8080/",
          "height": 748
        },
        "outputId": "ae6c50a7-94bc-4e3d-eaae-c8b2a7716d2c"
      },
      "execution_count": null,
      "outputs": [
        {
          "output_type": "execute_result",
          "data": {
            "text/html": [
              "\n",
              "  <div id=\"df-fd619e2b-d817-4c9e-8e85-f318f190b3d2\">\n",
              "    <div class=\"colab-df-container\">\n",
              "      <div>\n",
              "<style scoped>\n",
              "    .dataframe tbody tr th:only-of-type {\n",
              "        vertical-align: middle;\n",
              "    }\n",
              "\n",
              "    .dataframe tbody tr th {\n",
              "        vertical-align: top;\n",
              "    }\n",
              "\n",
              "    .dataframe thead th {\n",
              "        text-align: right;\n",
              "    }\n",
              "</style>\n",
              "<table border=\"1\" class=\"dataframe\">\n",
              "  <thead>\n",
              "    <tr style=\"text-align: right;\">\n",
              "      <th></th>\n",
              "      <th>id</th>\n",
              "      <th>name</th>\n",
              "      <th>host_id</th>\n",
              "      <th>host_name</th>\n",
              "      <th>neighbourhood_group</th>\n",
              "      <th>neighbourhood</th>\n",
              "      <th>latitude</th>\n",
              "      <th>longitude</th>\n",
              "      <th>room_type</th>\n",
              "      <th>price</th>\n",
              "      <th>minimum_nights</th>\n",
              "      <th>number_of_reviews</th>\n",
              "      <th>last_review</th>\n",
              "      <th>reviews_per_month</th>\n",
              "      <th>calculated_host_listings_count</th>\n",
              "      <th>availability_365</th>\n",
              "    </tr>\n",
              "  </thead>\n",
              "  <tbody>\n",
              "    <tr>\n",
              "      <th>0</th>\n",
              "      <td>2539</td>\n",
              "      <td>Clean &amp; quiet apt home by the park</td>\n",
              "      <td>2787</td>\n",
              "      <td>John</td>\n",
              "      <td>Brooklyn</td>\n",
              "      <td>Kensington</td>\n",
              "      <td>40.64749</td>\n",
              "      <td>-73.97237</td>\n",
              "      <td>Private room</td>\n",
              "      <td>149.0</td>\n",
              "      <td>1.0</td>\n",
              "      <td>9.0</td>\n",
              "      <td>2018-10-19</td>\n",
              "      <td>0.21</td>\n",
              "      <td>6.0</td>\n",
              "      <td>365.0</td>\n",
              "    </tr>\n",
              "    <tr>\n",
              "      <th>1</th>\n",
              "      <td>2595</td>\n",
              "      <td>Skylit Midtown Castle</td>\n",
              "      <td>2845</td>\n",
              "      <td>Jennifer</td>\n",
              "      <td>Manhattan</td>\n",
              "      <td>Midtown</td>\n",
              "      <td>40.75362</td>\n",
              "      <td>-73.98377</td>\n",
              "      <td>Entire home/apt</td>\n",
              "      <td>225.0</td>\n",
              "      <td>1.0</td>\n",
              "      <td>45.0</td>\n",
              "      <td>2019-05-21</td>\n",
              "      <td>0.38</td>\n",
              "      <td>2.0</td>\n",
              "      <td>355.0</td>\n",
              "    </tr>\n",
              "    <tr>\n",
              "      <th>3</th>\n",
              "      <td>3831</td>\n",
              "      <td>Cozy Entire Floor of Brownstone</td>\n",
              "      <td>4869</td>\n",
              "      <td>LisaRoxanne</td>\n",
              "      <td>Brooklyn</td>\n",
              "      <td>Clinton Hill</td>\n",
              "      <td>40.68514</td>\n",
              "      <td>-73.95976</td>\n",
              "      <td>Entire home/apt</td>\n",
              "      <td>89.0</td>\n",
              "      <td>1.0</td>\n",
              "      <td>270.0</td>\n",
              "      <td>2019-07-05</td>\n",
              "      <td>4.64</td>\n",
              "      <td>1.0</td>\n",
              "      <td>194.0</td>\n",
              "    </tr>\n",
              "    <tr>\n",
              "      <th>4</th>\n",
              "      <td>5022</td>\n",
              "      <td>Entire Apt: Spacious Studio/Loft by central park</td>\n",
              "      <td>7192</td>\n",
              "      <td>Laura</td>\n",
              "      <td>Manhattan</td>\n",
              "      <td>East Harlem</td>\n",
              "      <td>40.79851</td>\n",
              "      <td>-73.94399</td>\n",
              "      <td>Entire home/apt</td>\n",
              "      <td>80.0</td>\n",
              "      <td>10.0</td>\n",
              "      <td>9.0</td>\n",
              "      <td>2018-11-19</td>\n",
              "      <td>0.10</td>\n",
              "      <td>1.0</td>\n",
              "      <td>0.0</td>\n",
              "    </tr>\n",
              "    <tr>\n",
              "      <th>5</th>\n",
              "      <td>5099</td>\n",
              "      <td>Large Cozy 1 BR Apartment In Midtown East</td>\n",
              "      <td>7322</td>\n",
              "      <td>Chris</td>\n",
              "      <td>Manhattan</td>\n",
              "      <td>Murray Hill</td>\n",
              "      <td>40.74767</td>\n",
              "      <td>-73.97500</td>\n",
              "      <td>Entire home/apt</td>\n",
              "      <td>200.0</td>\n",
              "      <td>3.0</td>\n",
              "      <td>74.0</td>\n",
              "      <td>2019-06-22</td>\n",
              "      <td>0.59</td>\n",
              "      <td>1.0</td>\n",
              "      <td>129.0</td>\n",
              "    </tr>\n",
              "    <tr>\n",
              "      <th>...</th>\n",
              "      <td>...</td>\n",
              "      <td>...</td>\n",
              "      <td>...</td>\n",
              "      <td>...</td>\n",
              "      <td>...</td>\n",
              "      <td>...</td>\n",
              "      <td>...</td>\n",
              "      <td>...</td>\n",
              "      <td>...</td>\n",
              "      <td>...</td>\n",
              "      <td>...</td>\n",
              "      <td>...</td>\n",
              "      <td>...</td>\n",
              "      <td>...</td>\n",
              "      <td>...</td>\n",
              "      <td>...</td>\n",
              "    </tr>\n",
              "    <tr>\n",
              "      <th>36328</th>\n",
              "      <td>28910248</td>\n",
              "      <td>❤️ Private Studio+Bath+Balcony, 15 mins to City</td>\n",
              "      <td>217844544</td>\n",
              "      <td>Mia</td>\n",
              "      <td>Brooklyn</td>\n",
              "      <td>Bushwick</td>\n",
              "      <td>40.69454</td>\n",
              "      <td>-73.92612</td>\n",
              "      <td>Private room</td>\n",
              "      <td>90.0</td>\n",
              "      <td>2.0</td>\n",
              "      <td>54.0</td>\n",
              "      <td>2019-07-07</td>\n",
              "      <td>5.79</td>\n",
              "      <td>2.0</td>\n",
              "      <td>118.0</td>\n",
              "    </tr>\n",
              "    <tr>\n",
              "      <th>36329</th>\n",
              "      <td>28910899</td>\n",
              "      <td>Private room in large, central Nolita penthouse!</td>\n",
              "      <td>153154549</td>\n",
              "      <td>Sarah</td>\n",
              "      <td>Manhattan</td>\n",
              "      <td>Nolita</td>\n",
              "      <td>40.72135</td>\n",
              "      <td>-73.99426</td>\n",
              "      <td>Private room</td>\n",
              "      <td>140.0</td>\n",
              "      <td>3.0</td>\n",
              "      <td>2.0</td>\n",
              "      <td>2018-10-15</td>\n",
              "      <td>0.22</td>\n",
              "      <td>1.0</td>\n",
              "      <td>0.0</td>\n",
              "    </tr>\n",
              "    <tr>\n",
              "      <th>36330</th>\n",
              "      <td>28910978</td>\n",
              "      <td>Artistic house with murals</td>\n",
              "      <td>52044518</td>\n",
              "      <td>Veronica</td>\n",
              "      <td>Queens</td>\n",
              "      <td>East Elmhurst</td>\n",
              "      <td>40.76173</td>\n",
              "      <td>-73.87417</td>\n",
              "      <td>Private room</td>\n",
              "      <td>65.0</td>\n",
              "      <td>1.0</td>\n",
              "      <td>58.0</td>\n",
              "      <td>2019-07-08</td>\n",
              "      <td>6.19</td>\n",
              "      <td>1.0</td>\n",
              "      <td>47.0</td>\n",
              "    </tr>\n",
              "    <tr>\n",
              "      <th>36331</th>\n",
              "      <td>28911697</td>\n",
              "      <td>Cozy Artist Room</td>\n",
              "      <td>70230403</td>\n",
              "      <td>Sonya</td>\n",
              "      <td>Brooklyn</td>\n",
              "      <td>Bushwick</td>\n",
              "      <td>40.69677</td>\n",
              "      <td>-73.92688</td>\n",
              "      <td>Private room</td>\n",
              "      <td>57.0</td>\n",
              "      <td>1.0</td>\n",
              "      <td>1.0</td>\n",
              "      <td>2018-10-22</td>\n",
              "      <td>0.12</td>\n",
              "      <td>1.0</td>\n",
              "      <td>0.0</td>\n",
              "    </tr>\n",
              "    <tr>\n",
              "      <th>36332</th>\n",
              "      <td>28911775</td>\n",
              "      <td>LUXURY PRIVATE BEDROOM &amp; Bath Mins from JFK</td>\n",
              "      <td>217621677</td>\n",
              "      <td>Joseph</td>\n",
              "      <td>Queens</td>\n",
              "      <td>St. Albans</td>\n",
              "      <td>40.68754</td>\n",
              "      <td>-73.77488</td>\n",
              "      <td>Private room</td>\n",
              "      <td>50.0</td>\n",
              "      <td>1.0</td>\n",
              "      <td>16.0</td>\n",
              "      <td>2019-07-07</td>\n",
              "      <td>1.78</td>\n",
              "      <td>4.0</td>\n",
              "      <td>137.0</td>\n",
              "    </tr>\n",
              "  </tbody>\n",
              "</table>\n",
              "<p>30510 rows × 16 columns</p>\n",
              "</div>\n",
              "      <button class=\"colab-df-convert\" onclick=\"convertToInteractive('df-fd619e2b-d817-4c9e-8e85-f318f190b3d2')\"\n",
              "              title=\"Convert this dataframe to an interactive table.\"\n",
              "              style=\"display:none;\">\n",
              "        \n",
              "  <svg xmlns=\"http://www.w3.org/2000/svg\" height=\"24px\"viewBox=\"0 0 24 24\"\n",
              "       width=\"24px\">\n",
              "    <path d=\"M0 0h24v24H0V0z\" fill=\"none\"/>\n",
              "    <path d=\"M18.56 5.44l.94 2.06.94-2.06 2.06-.94-2.06-.94-.94-2.06-.94 2.06-2.06.94zm-11 1L8.5 8.5l.94-2.06 2.06-.94-2.06-.94L8.5 2.5l-.94 2.06-2.06.94zm10 10l.94 2.06.94-2.06 2.06-.94-2.06-.94-.94-2.06-.94 2.06-2.06.94z\"/><path d=\"M17.41 7.96l-1.37-1.37c-.4-.4-.92-.59-1.43-.59-.52 0-1.04.2-1.43.59L10.3 9.45l-7.72 7.72c-.78.78-.78 2.05 0 2.83L4 21.41c.39.39.9.59 1.41.59.51 0 1.02-.2 1.41-.59l7.78-7.78 2.81-2.81c.8-.78.8-2.07 0-2.86zM5.41 20L4 18.59l7.72-7.72 1.47 1.35L5.41 20z\"/>\n",
              "  </svg>\n",
              "      </button>\n",
              "      \n",
              "  <style>\n",
              "    .colab-df-container {\n",
              "      display:flex;\n",
              "      flex-wrap:wrap;\n",
              "      gap: 12px;\n",
              "    }\n",
              "\n",
              "    .colab-df-convert {\n",
              "      background-color: #E8F0FE;\n",
              "      border: none;\n",
              "      border-radius: 50%;\n",
              "      cursor: pointer;\n",
              "      display: none;\n",
              "      fill: #1967D2;\n",
              "      height: 32px;\n",
              "      padding: 0 0 0 0;\n",
              "      width: 32px;\n",
              "    }\n",
              "\n",
              "    .colab-df-convert:hover {\n",
              "      background-color: #E2EBFA;\n",
              "      box-shadow: 0px 1px 2px rgba(60, 64, 67, 0.3), 0px 1px 3px 1px rgba(60, 64, 67, 0.15);\n",
              "      fill: #174EA6;\n",
              "    }\n",
              "\n",
              "    [theme=dark] .colab-df-convert {\n",
              "      background-color: #3B4455;\n",
              "      fill: #D2E3FC;\n",
              "    }\n",
              "\n",
              "    [theme=dark] .colab-df-convert:hover {\n",
              "      background-color: #434B5C;\n",
              "      box-shadow: 0px 1px 3px 1px rgba(0, 0, 0, 0.15);\n",
              "      filter: drop-shadow(0px 1px 2px rgba(0, 0, 0, 0.3));\n",
              "      fill: #FFFFFF;\n",
              "    }\n",
              "  </style>\n",
              "\n",
              "      <script>\n",
              "        const buttonEl =\n",
              "          document.querySelector('#df-fd619e2b-d817-4c9e-8e85-f318f190b3d2 button.colab-df-convert');\n",
              "        buttonEl.style.display =\n",
              "          google.colab.kernel.accessAllowed ? 'block' : 'none';\n",
              "\n",
              "        async function convertToInteractive(key) {\n",
              "          const element = document.querySelector('#df-fd619e2b-d817-4c9e-8e85-f318f190b3d2');\n",
              "          const dataTable =\n",
              "            await google.colab.kernel.invokeFunction('convertToInteractive',\n",
              "                                                     [key], {});\n",
              "          if (!dataTable) return;\n",
              "\n",
              "          const docLinkHtml = 'Like what you see? Visit the ' +\n",
              "            '<a target=\"_blank\" href=https://colab.research.google.com/notebooks/data_table.ipynb>data table notebook</a>'\n",
              "            + ' to learn more about interactive tables.';\n",
              "          element.innerHTML = '';\n",
              "          dataTable['output_type'] = 'display_data';\n",
              "          await google.colab.output.renderOutput(dataTable, element);\n",
              "          const docLink = document.createElement('div');\n",
              "          docLink.innerHTML = docLinkHtml;\n",
              "          element.appendChild(docLink);\n",
              "        }\n",
              "      </script>\n",
              "    </div>\n",
              "  </div>\n",
              "  "
            ],
            "text/plain": [
              "             id  ... availability_365\n",
              "0          2539  ...            365.0\n",
              "1          2595  ...            355.0\n",
              "3          3831  ...            194.0\n",
              "4          5022  ...              0.0\n",
              "5          5099  ...            129.0\n",
              "...         ...  ...              ...\n",
              "36328  28910248  ...            118.0\n",
              "36329  28910899  ...              0.0\n",
              "36330  28910978  ...             47.0\n",
              "36331  28911697  ...              0.0\n",
              "36332  28911775  ...            137.0\n",
              "\n",
              "[30510 rows x 16 columns]"
            ]
          },
          "metadata": {},
          "execution_count": 16
        }
      ]
    },
    {
      "cell_type": "markdown",
      "metadata": {
        "id": "5Yfye3W0ZslJ"
      },
      "source": [
        "# INICIO DA MANIPULAÇÃO DOS DADOS\n"
      ]
    },
    {
      "cell_type": "markdown",
      "metadata": {
        "id": "INaG-RFj1DDf"
      },
      "source": [
        "# **TRADUÇÕES DO INGLÊS PARA PT-BR**"
      ]
    },
    {
      "cell_type": "markdown",
      "metadata": {
        "id": "lvojyzooy44k"
      },
      "source": [
        "Iniciei renomeando as colunas para nomes traduzidos para o português (PT-BR) - isso torna mais fácil a familiarização com o conteúdo das colunas"
      ]
    },
    {
      "cell_type": "code",
      "execution_count": null,
      "metadata": {
        "id": "e9oXNfoHZ9DF",
        "colab": {
          "base_uri": "https://localhost:8080/",
          "height": 377
        },
        "outputId": "e8715396-85ce-4e49-eb96-80e1d28f69a3"
      },
      "outputs": [
        {
          "output_type": "execute_result",
          "data": {
            "text/html": [
              "\n",
              "  <div id=\"df-f0ab6ae6-852a-4d95-b8ff-64ad743d063e\">\n",
              "    <div class=\"colab-df-container\">\n",
              "      <div>\n",
              "<style scoped>\n",
              "    .dataframe tbody tr th:only-of-type {\n",
              "        vertical-align: middle;\n",
              "    }\n",
              "\n",
              "    .dataframe tbody tr th {\n",
              "        vertical-align: top;\n",
              "    }\n",
              "\n",
              "    .dataframe thead th {\n",
              "        text-align: right;\n",
              "    }\n",
              "</style>\n",
              "<table border=\"1\" class=\"dataframe\">\n",
              "  <thead>\n",
              "    <tr style=\"text-align: right;\">\n",
              "      <th></th>\n",
              "      <th>id</th>\n",
              "      <th>nome</th>\n",
              "      <th>id_anfitriao</th>\n",
              "      <th>nome_anfitriao</th>\n",
              "      <th>grupo_bairro</th>\n",
              "      <th>bairro</th>\n",
              "      <th>latitude</th>\n",
              "      <th>longitude</th>\n",
              "      <th>tipo_de_quarto</th>\n",
              "      <th>preco</th>\n",
              "      <th>minimo_de_noites</th>\n",
              "      <th>numero_de_avaliacoes</th>\n",
              "      <th>ultima_avaliacao</th>\n",
              "      <th>Qtde_avaliacoes_mes</th>\n",
              "      <th>soma_propriedades_anfitriao</th>\n",
              "      <th>disponibilidade_365</th>\n",
              "    </tr>\n",
              "  </thead>\n",
              "  <tbody>\n",
              "    <tr>\n",
              "      <th>0</th>\n",
              "      <td>2539</td>\n",
              "      <td>Clean &amp; quiet apt home by the park</td>\n",
              "      <td>2787</td>\n",
              "      <td>John</td>\n",
              "      <td>Brooklyn</td>\n",
              "      <td>Kensington</td>\n",
              "      <td>40.64749</td>\n",
              "      <td>-73.97237</td>\n",
              "      <td>Private room</td>\n",
              "      <td>149.0</td>\n",
              "      <td>1.0</td>\n",
              "      <td>9.0</td>\n",
              "      <td>2018-10-19</td>\n",
              "      <td>0.21</td>\n",
              "      <td>6.0</td>\n",
              "      <td>365.0</td>\n",
              "    </tr>\n",
              "    <tr>\n",
              "      <th>1</th>\n",
              "      <td>2595</td>\n",
              "      <td>Skylit Midtown Castle</td>\n",
              "      <td>2845</td>\n",
              "      <td>Jennifer</td>\n",
              "      <td>Manhattan</td>\n",
              "      <td>Midtown</td>\n",
              "      <td>40.75362</td>\n",
              "      <td>-73.98377</td>\n",
              "      <td>Entire home/apt</td>\n",
              "      <td>225.0</td>\n",
              "      <td>1.0</td>\n",
              "      <td>45.0</td>\n",
              "      <td>2019-05-21</td>\n",
              "      <td>0.38</td>\n",
              "      <td>2.0</td>\n",
              "      <td>355.0</td>\n",
              "    </tr>\n",
              "    <tr>\n",
              "      <th>2</th>\n",
              "      <td>3647</td>\n",
              "      <td>THE VILLAGE OF HARLEM....NEW YORK !</td>\n",
              "      <td>4632</td>\n",
              "      <td>Elisabeth</td>\n",
              "      <td>Manhattan</td>\n",
              "      <td>Harlem</td>\n",
              "      <td>40.80902</td>\n",
              "      <td>-73.94190</td>\n",
              "      <td>Private room</td>\n",
              "      <td>150.0</td>\n",
              "      <td>3.0</td>\n",
              "      <td>0.0</td>\n",
              "      <td>NaN</td>\n",
              "      <td>NaN</td>\n",
              "      <td>1.0</td>\n",
              "      <td>365.0</td>\n",
              "    </tr>\n",
              "    <tr>\n",
              "      <th>3</th>\n",
              "      <td>3831</td>\n",
              "      <td>Cozy Entire Floor of Brownstone</td>\n",
              "      <td>4869</td>\n",
              "      <td>LisaRoxanne</td>\n",
              "      <td>Brooklyn</td>\n",
              "      <td>Clinton Hill</td>\n",
              "      <td>40.68514</td>\n",
              "      <td>-73.95976</td>\n",
              "      <td>Entire home/apt</td>\n",
              "      <td>89.0</td>\n",
              "      <td>1.0</td>\n",
              "      <td>270.0</td>\n",
              "      <td>2019-07-05</td>\n",
              "      <td>4.64</td>\n",
              "      <td>1.0</td>\n",
              "      <td>194.0</td>\n",
              "    </tr>\n",
              "  </tbody>\n",
              "</table>\n",
              "</div>\n",
              "      <button class=\"colab-df-convert\" onclick=\"convertToInteractive('df-f0ab6ae6-852a-4d95-b8ff-64ad743d063e')\"\n",
              "              title=\"Convert this dataframe to an interactive table.\"\n",
              "              style=\"display:none;\">\n",
              "        \n",
              "  <svg xmlns=\"http://www.w3.org/2000/svg\" height=\"24px\"viewBox=\"0 0 24 24\"\n",
              "       width=\"24px\">\n",
              "    <path d=\"M0 0h24v24H0V0z\" fill=\"none\"/>\n",
              "    <path d=\"M18.56 5.44l.94 2.06.94-2.06 2.06-.94-2.06-.94-.94-2.06-.94 2.06-2.06.94zm-11 1L8.5 8.5l.94-2.06 2.06-.94-2.06-.94L8.5 2.5l-.94 2.06-2.06.94zm10 10l.94 2.06.94-2.06 2.06-.94-2.06-.94-.94-2.06-.94 2.06-2.06.94z\"/><path d=\"M17.41 7.96l-1.37-1.37c-.4-.4-.92-.59-1.43-.59-.52 0-1.04.2-1.43.59L10.3 9.45l-7.72 7.72c-.78.78-.78 2.05 0 2.83L4 21.41c.39.39.9.59 1.41.59.51 0 1.02-.2 1.41-.59l7.78-7.78 2.81-2.81c.8-.78.8-2.07 0-2.86zM5.41 20L4 18.59l7.72-7.72 1.47 1.35L5.41 20z\"/>\n",
              "  </svg>\n",
              "      </button>\n",
              "      \n",
              "  <style>\n",
              "    .colab-df-container {\n",
              "      display:flex;\n",
              "      flex-wrap:wrap;\n",
              "      gap: 12px;\n",
              "    }\n",
              "\n",
              "    .colab-df-convert {\n",
              "      background-color: #E8F0FE;\n",
              "      border: none;\n",
              "      border-radius: 50%;\n",
              "      cursor: pointer;\n",
              "      display: none;\n",
              "      fill: #1967D2;\n",
              "      height: 32px;\n",
              "      padding: 0 0 0 0;\n",
              "      width: 32px;\n",
              "    }\n",
              "\n",
              "    .colab-df-convert:hover {\n",
              "      background-color: #E2EBFA;\n",
              "      box-shadow: 0px 1px 2px rgba(60, 64, 67, 0.3), 0px 1px 3px 1px rgba(60, 64, 67, 0.15);\n",
              "      fill: #174EA6;\n",
              "    }\n",
              "\n",
              "    [theme=dark] .colab-df-convert {\n",
              "      background-color: #3B4455;\n",
              "      fill: #D2E3FC;\n",
              "    }\n",
              "\n",
              "    [theme=dark] .colab-df-convert:hover {\n",
              "      background-color: #434B5C;\n",
              "      box-shadow: 0px 1px 3px 1px rgba(0, 0, 0, 0.15);\n",
              "      filter: drop-shadow(0px 1px 2px rgba(0, 0, 0, 0.3));\n",
              "      fill: #FFFFFF;\n",
              "    }\n",
              "  </style>\n",
              "\n",
              "      <script>\n",
              "        const buttonEl =\n",
              "          document.querySelector('#df-f0ab6ae6-852a-4d95-b8ff-64ad743d063e button.colab-df-convert');\n",
              "        buttonEl.style.display =\n",
              "          google.colab.kernel.accessAllowed ? 'block' : 'none';\n",
              "\n",
              "        async function convertToInteractive(key) {\n",
              "          const element = document.querySelector('#df-f0ab6ae6-852a-4d95-b8ff-64ad743d063e');\n",
              "          const dataTable =\n",
              "            await google.colab.kernel.invokeFunction('convertToInteractive',\n",
              "                                                     [key], {});\n",
              "          if (!dataTable) return;\n",
              "\n",
              "          const docLinkHtml = 'Like what you see? Visit the ' +\n",
              "            '<a target=\"_blank\" href=https://colab.research.google.com/notebooks/data_table.ipynb>data table notebook</a>'\n",
              "            + ' to learn more about interactive tables.';\n",
              "          element.innerHTML = '';\n",
              "          dataTable['output_type'] = 'display_data';\n",
              "          await google.colab.output.renderOutput(dataTable, element);\n",
              "          const docLink = document.createElement('div');\n",
              "          docLink.innerHTML = docLinkHtml;\n",
              "          element.appendChild(docLink);\n",
              "        }\n",
              "      </script>\n",
              "    </div>\n",
              "  </div>\n",
              "  "
            ],
            "text/plain": [
              "     id  ... disponibilidade_365\n",
              "0  2539  ...               365.0\n",
              "1  2595  ...               355.0\n",
              "2  3647  ...               365.0\n",
              "3  3831  ...               194.0\n",
              "\n",
              "[4 rows x 16 columns]"
            ]
          },
          "metadata": {},
          "execution_count": 17
        }
      ],
      "source": [
        "df_pandas = df_pandas.rename({\"name\":\"nome\",\"host_id\":\"id_anfitriao\",\"host_name\":\"nome_anfitriao\",\"neighbourhood_group\":\"grupo_bairro\",\"neighbourhood\":\"bairro\",\"latitude \":\"latitude \",\"longitude\":\"longitude\",\"room_type\":\"tipo_de_quarto\",\"price\":\"preco\",\"minimum_nights\":\"minimo_de_noites\",\"number_of_reviews\":\"numero_de_avaliacoes\",\"last_review\":\"ultima_avaliacao\",\"reviews_per_month\":\"Qtde_avaliacoes_mes\",\"calculated_host_listings_count\":\"soma_propriedades_anfitriao\",\"availability_365\":\"disponibilidade_365\"}, axis='columns')\n",
        "df_pandas.head(4)"
      ]
    },
    {
      "cell_type": "markdown",
      "metadata": {
        "id": "gXSz82W7t-XY"
      },
      "source": [
        "\n",
        "\n",
        "Busquei de forma única os tipos de acomodações oferecidas.\n",
        "Depois fiz a tradução do conteúdo para PT-BR na coluna tipo_de_quarto"
      ]
    },
    {
      "cell_type": "code",
      "execution_count": null,
      "metadata": {
        "id": "sR-mqLCQKG8e"
      },
      "outputs": [],
      "source": [
        "#df_pandas.unique(df_pandas['tipo_de_quarto'])"
      ]
    },
    {
      "cell_type": "code",
      "execution_count": null,
      "metadata": {
        "id": "NgsG1vchVrwU"
      },
      "outputs": [],
      "source": [
        "# tradução dos dados de tipo de quarto\n",
        "df_pandas.tipo_de_quarto.replace(['Entire home/apt'], ['Casa / apto inteiro'], inplace = True)\n",
        "df_pandas.tipo_de_quarto.replace(['Private room'], ['Sala privada'], inplace = True)\n",
        "df_pandas.tipo_de_quarto.replace(['Shared room'], ['Quarto compartilhado'], inplace = True)"
      ]
    },
    {
      "cell_type": "code",
      "source": [
        "#Estes campos vazios foram dropados porque os dados \n",
        "#perdem o sentido sem a informação do objeto principal\n",
        "df_pandas.dropna(subset=['nome'],inplace=True)"
      ],
      "metadata": {
        "id": "GLS6OepGixS_"
      },
      "execution_count": null,
      "outputs": []
    },
    {
      "cell_type": "code",
      "source": [
        "'''\n",
        "# utilizei a função lambda junto com googletranslate para traduzir os textos da coluna nome. Deixo comentada\n",
        "porque leva horas pra concluir o processo\n",
        "df_pandas['nome_ptbr'] = df_pandas['nome'].apply(lambda x: tradutor.translate(x, src='en', dest='pt').text)\n",
        "df_pandas['nome_ptbr']\n",
        "'''"
      ],
      "metadata": {
        "id": "O9iepOBiei__",
        "colab": {
          "base_uri": "https://localhost:8080/",
          "height": 53
        },
        "outputId": "af5f94d1-e1c4-415a-832f-8ddf729274d6"
      },
      "execution_count": null,
      "outputs": [
        {
          "output_type": "execute_result",
          "data": {
            "application/vnd.google.colaboratory.intrinsic+json": {
              "type": "string"
            },
            "text/plain": [
              "\"\\n# utilizei a função lambda junto com googletranslate para traduzir os textos da coluna nome. Deixo comentada\\nporque leva horas pra concluir o processo\\ndf_pandas['nome_ptbr'] = df_pandas['nome'].apply(lambda x: tradutor.translate(x, src='en', dest='pt').text)\\ndf_pandas['nome_ptbr']\\n\""
            ]
          },
          "metadata": {},
          "execution_count": 21
        }
      ]
    },
    {
      "cell_type": "code",
      "source": [
        "#salvei a tradução num arquivo csv e já enviei para o Bucket porque a função acima levou cerca de 5 horas para ficar pronta\n",
        "#df_pandas.to_csv(\"4_pt_br.csv\", index=False)\n",
        "#!gsutil cp /content/4_pt_br.csv gs://ingest-wallace.appspot.com/Entrada_Aprimoramento/4_pt_br.csv"
      ],
      "metadata": {
        "id": "NlMdWgeohk-6"
      },
      "execution_count": null,
      "outputs": []
    },
    {
      "cell_type": "markdown",
      "source": [
        "Releitura do arquivo agora traduzido para PT-BR  \n"
      ],
      "metadata": {
        "id": "anJCHuy-tR5g"
      }
    },
    {
      "cell_type": "code",
      "source": [
        "#Trago o arquivo traduzido que foi salvo no GCP e leio num dataframe\n",
        "!gsutil cp gs://ingest-wallace.appspot.com/Entrada_Aprimoramento/4_pt_br.csv /content/4_pt_br.csv\n",
        "df4_traduzido = pd.read_csv('/content/4_pt_br.csv')"
      ],
      "metadata": {
        "id": "nVl88_OYs9re",
        "colab": {
          "base_uri": "https://localhost:8080/"
        },
        "outputId": "fe41267a-baf6-4adb-c821-a2d9cefe1740"
      },
      "execution_count": null,
      "outputs": [
        {
          "output_type": "stream",
          "name": "stdout",
          "text": [
            "Copying gs://ingest-wallace.appspot.com/Entrada_Aprimoramento/4_pt_br.csv...\n",
            "- [1 files][  9.7 MiB/  9.7 MiB]                                                \n",
            "Operation completed over 1 objects/9.7 MiB.                                      \n"
          ]
        }
      ]
    },
    {
      "cell_type": "code",
      "source": [
        "# mostra o arquivo gerado ainda com a coluna nome em ingles e outra em portugues no final\n",
        "df4_traduzido"
      ],
      "metadata": {
        "id": "Akga8s3uuEgn",
        "colab": {
          "base_uri": "https://localhost:8080/",
          "height": 991
        },
        "outputId": "9cda382f-21ff-437e-fd82-a9520c5dfba1"
      },
      "execution_count": null,
      "outputs": [
        {
          "output_type": "execute_result",
          "data": {
            "text/html": [
              "\n",
              "  <div id=\"df-4cdb815b-d53c-4d28-9d42-8824d7408f2c\">\n",
              "    <div class=\"colab-df-container\">\n",
              "      <div>\n",
              "<style scoped>\n",
              "    .dataframe tbody tr th:only-of-type {\n",
              "        vertical-align: middle;\n",
              "    }\n",
              "\n",
              "    .dataframe tbody tr th {\n",
              "        vertical-align: top;\n",
              "    }\n",
              "\n",
              "    .dataframe thead th {\n",
              "        text-align: right;\n",
              "    }\n",
              "</style>\n",
              "<table border=\"1\" class=\"dataframe\">\n",
              "  <thead>\n",
              "    <tr style=\"text-align: right;\">\n",
              "      <th></th>\n",
              "      <th>id</th>\n",
              "      <th>nome</th>\n",
              "      <th>id_anfitriao</th>\n",
              "      <th>nome_anfitriao</th>\n",
              "      <th>grupo_bairro</th>\n",
              "      <th>bairro</th>\n",
              "      <th>latitude</th>\n",
              "      <th>longitude</th>\n",
              "      <th>tipo_de_quarto</th>\n",
              "      <th>preco</th>\n",
              "      <th>minimo_de_noites</th>\n",
              "      <th>numero_de_avaliacoes</th>\n",
              "      <th>ultima_avaliacao</th>\n",
              "      <th>Qtde_avaliacoes_mes</th>\n",
              "      <th>soma_propriedades_anfitriao</th>\n",
              "      <th>disponibilidade_365</th>\n",
              "      <th>nome_ptbr</th>\n",
              "    </tr>\n",
              "  </thead>\n",
              "  <tbody>\n",
              "    <tr>\n",
              "      <th>0</th>\n",
              "      <td>2539</td>\n",
              "      <td>Clean &amp; quiet apt home by the park</td>\n",
              "      <td>2787</td>\n",
              "      <td>John</td>\n",
              "      <td>Brooklyn</td>\n",
              "      <td>Kensington</td>\n",
              "      <td>4,064749E+016</td>\n",
              "      <td>-7.397237e+06</td>\n",
              "      <td>Sala privada</td>\n",
              "      <td>149</td>\n",
              "      <td>1</td>\n",
              "      <td>9</td>\n",
              "      <td>2018-10-19</td>\n",
              "      <td>0.21</td>\n",
              "      <td>6</td>\n",
              "      <td>365</td>\n",
              "      <td>Limpo e tranquilo apto casa pelo parque</td>\n",
              "    </tr>\n",
              "    <tr>\n",
              "      <th>1</th>\n",
              "      <td>2595</td>\n",
              "      <td>Skylit Midtown Castle</td>\n",
              "      <td>2845</td>\n",
              "      <td>Jennifer</td>\n",
              "      <td>Manhattan</td>\n",
              "      <td>Midtown</td>\n",
              "      <td>4075362</td>\n",
              "      <td>-7.398377e+15</td>\n",
              "      <td>Casa / apto inteiro</td>\n",
              "      <td>225</td>\n",
              "      <td>1</td>\n",
              "      <td>45</td>\n",
              "      <td>2019-05-21</td>\n",
              "      <td>0.38</td>\n",
              "      <td>2</td>\n",
              "      <td>355</td>\n",
              "      <td>Castelo de Skylit Midtown.</td>\n",
              "    </tr>\n",
              "    <tr>\n",
              "      <th>2</th>\n",
              "      <td>3647</td>\n",
              "      <td>THE VILLAGE OF HARLEM....NEW YORK !</td>\n",
              "      <td>4632</td>\n",
              "      <td>Elisabeth</td>\n",
              "      <td>Manhattan</td>\n",
              "      <td>Harlem</td>\n",
              "      <td>4,080902E+016</td>\n",
              "      <td>-7.394190e+05</td>\n",
              "      <td>Sala privada</td>\n",
              "      <td>150</td>\n",
              "      <td>3</td>\n",
              "      <td>0</td>\n",
              "      <td>NaN</td>\n",
              "      <td>NaN</td>\n",
              "      <td>1</td>\n",
              "      <td>365</td>\n",
              "      <td>A aldeia de Harlem . Nova York!</td>\n",
              "    </tr>\n",
              "    <tr>\n",
              "      <th>3</th>\n",
              "      <td>3831</td>\n",
              "      <td>Cozy Entire Floor of Brownstone</td>\n",
              "      <td>4869</td>\n",
              "      <td>LisaRoxanne</td>\n",
              "      <td>Brooklyn</td>\n",
              "      <td>Clinton Hill</td>\n",
              "      <td>4,068514E+016</td>\n",
              "      <td>-7.395976e+06</td>\n",
              "      <td>Casa / apto inteiro</td>\n",
              "      <td>89</td>\n",
              "      <td>1</td>\n",
              "      <td>270</td>\n",
              "      <td>2019-07-05</td>\n",
              "      <td>4.64</td>\n",
              "      <td>1</td>\n",
              "      <td>194</td>\n",
              "      <td>Aconchegante inteiro de quartoownstone</td>\n",
              "    </tr>\n",
              "    <tr>\n",
              "      <th>4</th>\n",
              "      <td>5022</td>\n",
              "      <td>Entire Apt: Spacious Studio/Loft by central park</td>\n",
              "      <td>7192</td>\n",
              "      <td>Laura</td>\n",
              "      <td>Manhattan</td>\n",
              "      <td>East Harlem</td>\n",
              "      <td>4079851</td>\n",
              "      <td>-7.394399e+06</td>\n",
              "      <td>Casa / apto inteiro</td>\n",
              "      <td>80</td>\n",
              "      <td>10</td>\n",
              "      <td>9</td>\n",
              "      <td>2018-11-19</td>\n",
              "      <td>0.10</td>\n",
              "      <td>1</td>\n",
              "      <td>0</td>\n",
              "      <td>Inteiro aptoo: estúdio espaçoso  loft pelo Cen...</td>\n",
              "    </tr>\n",
              "    <tr>\n",
              "      <th>...</th>\n",
              "      <td>...</td>\n",
              "      <td>...</td>\n",
              "      <td>...</td>\n",
              "      <td>...</td>\n",
              "      <td>...</td>\n",
              "      <td>...</td>\n",
              "      <td>...</td>\n",
              "      <td>...</td>\n",
              "      <td>...</td>\n",
              "      <td>...</td>\n",
              "      <td>...</td>\n",
              "      <td>...</td>\n",
              "      <td>...</td>\n",
              "      <td>...</td>\n",
              "      <td>...</td>\n",
              "      <td>...</td>\n",
              "      <td>...</td>\n",
              "    </tr>\n",
              "    <tr>\n",
              "      <th>48874</th>\n",
              "      <td>36484665</td>\n",
              "      <td>Charming one bedroom - newly renovated rowhouse</td>\n",
              "      <td>8232441</td>\n",
              "      <td>Sabrina</td>\n",
              "      <td>Brooklyn</td>\n",
              "      <td>Bedford-Stuyvesant</td>\n",
              "      <td>4067853</td>\n",
              "      <td>-7.394995e+06</td>\n",
              "      <td>Sala privada</td>\n",
              "      <td>70</td>\n",
              "      <td>2</td>\n",
              "      <td>0</td>\n",
              "      <td>NaN</td>\n",
              "      <td>NaN</td>\n",
              "      <td>2</td>\n",
              "      <td>9</td>\n",
              "      <td>Encantador um quarto - Rowhouse recentemente r...</td>\n",
              "    </tr>\n",
              "    <tr>\n",
              "      <th>48875</th>\n",
              "      <td>36485057</td>\n",
              "      <td>Affordable room in Bushwick/East Williamsburg</td>\n",
              "      <td>6570630</td>\n",
              "      <td>Marisol</td>\n",
              "      <td>Brooklyn</td>\n",
              "      <td>Bushwick</td>\n",
              "      <td>4,070184E+016</td>\n",
              "      <td>-7.393317e+15</td>\n",
              "      <td>Sala privada</td>\n",
              "      <td>40</td>\n",
              "      <td>4</td>\n",
              "      <td>0</td>\n",
              "      <td>NaN</td>\n",
              "      <td>NaN</td>\n",
              "      <td>2</td>\n",
              "      <td>36</td>\n",
              "      <td>Quarto Acessível em Bushwick  East Williamsburg</td>\n",
              "    </tr>\n",
              "    <tr>\n",
              "      <th>48876</th>\n",
              "      <td>36485431</td>\n",
              "      <td>Sunny Studio at Historical Neighborhood</td>\n",
              "      <td>23492952</td>\n",
              "      <td>Ilgar &amp; Aysel</td>\n",
              "      <td>Manhattan</td>\n",
              "      <td>Harlem</td>\n",
              "      <td>4081475</td>\n",
              "      <td>-7.394867e+15</td>\n",
              "      <td>Casa / apto inteiro</td>\n",
              "      <td>115</td>\n",
              "      <td>10</td>\n",
              "      <td>0</td>\n",
              "      <td>NaN</td>\n",
              "      <td>NaN</td>\n",
              "      <td>1</td>\n",
              "      <td>27</td>\n",
              "      <td>Estúdio ensolarado na vizinhança histórica</td>\n",
              "    </tr>\n",
              "    <tr>\n",
              "      <th>48877</th>\n",
              "      <td>36485609</td>\n",
              "      <td>43rd St. Time Square cozy single bed</td>\n",
              "      <td>30985759</td>\n",
              "      <td>Taz</td>\n",
              "      <td>Manhattan</td>\n",
              "      <td>Hell's Kitchen</td>\n",
              "      <td>4,07575099999999E+016</td>\n",
              "      <td>-7.399112e+06</td>\n",
              "      <td>Quarto compartilhado</td>\n",
              "      <td>55</td>\n",
              "      <td>1</td>\n",
              "      <td>0</td>\n",
              "      <td>NaN</td>\n",
              "      <td>NaN</td>\n",
              "      <td>6</td>\n",
              "      <td>2</td>\n",
              "      <td>43rd St. Time Square Aconchegante Solteiro Cama</td>\n",
              "    </tr>\n",
              "    <tr>\n",
              "      <th>48878</th>\n",
              "      <td>36487245</td>\n",
              "      <td>Trendy duplex in the very heart of Hell's Kitchen</td>\n",
              "      <td>68119814</td>\n",
              "      <td>Christophe</td>\n",
              "      <td>Manhattan</td>\n",
              "      <td>Hell's Kitchen</td>\n",
              "      <td>4076404</td>\n",
              "      <td>-7.398933e+15</td>\n",
              "      <td>Sala privada</td>\n",
              "      <td>90</td>\n",
              "      <td>7</td>\n",
              "      <td>0</td>\n",
              "      <td>NaN</td>\n",
              "      <td>NaN</td>\n",
              "      <td>1</td>\n",
              "      <td>23</td>\n",
              "      <td>Duplex na moda no coração da cozinha do inferno</td>\n",
              "    </tr>\n",
              "  </tbody>\n",
              "</table>\n",
              "<p>48879 rows × 17 columns</p>\n",
              "</div>\n",
              "      <button class=\"colab-df-convert\" onclick=\"convertToInteractive('df-4cdb815b-d53c-4d28-9d42-8824d7408f2c')\"\n",
              "              title=\"Convert this dataframe to an interactive table.\"\n",
              "              style=\"display:none;\">\n",
              "        \n",
              "  <svg xmlns=\"http://www.w3.org/2000/svg\" height=\"24px\"viewBox=\"0 0 24 24\"\n",
              "       width=\"24px\">\n",
              "    <path d=\"M0 0h24v24H0V0z\" fill=\"none\"/>\n",
              "    <path d=\"M18.56 5.44l.94 2.06.94-2.06 2.06-.94-2.06-.94-.94-2.06-.94 2.06-2.06.94zm-11 1L8.5 8.5l.94-2.06 2.06-.94-2.06-.94L8.5 2.5l-.94 2.06-2.06.94zm10 10l.94 2.06.94-2.06 2.06-.94-2.06-.94-.94-2.06-.94 2.06-2.06.94z\"/><path d=\"M17.41 7.96l-1.37-1.37c-.4-.4-.92-.59-1.43-.59-.52 0-1.04.2-1.43.59L10.3 9.45l-7.72 7.72c-.78.78-.78 2.05 0 2.83L4 21.41c.39.39.9.59 1.41.59.51 0 1.02-.2 1.41-.59l7.78-7.78 2.81-2.81c.8-.78.8-2.07 0-2.86zM5.41 20L4 18.59l7.72-7.72 1.47 1.35L5.41 20z\"/>\n",
              "  </svg>\n",
              "      </button>\n",
              "      \n",
              "  <style>\n",
              "    .colab-df-container {\n",
              "      display:flex;\n",
              "      flex-wrap:wrap;\n",
              "      gap: 12px;\n",
              "    }\n",
              "\n",
              "    .colab-df-convert {\n",
              "      background-color: #E8F0FE;\n",
              "      border: none;\n",
              "      border-radius: 50%;\n",
              "      cursor: pointer;\n",
              "      display: none;\n",
              "      fill: #1967D2;\n",
              "      height: 32px;\n",
              "      padding: 0 0 0 0;\n",
              "      width: 32px;\n",
              "    }\n",
              "\n",
              "    .colab-df-convert:hover {\n",
              "      background-color: #E2EBFA;\n",
              "      box-shadow: 0px 1px 2px rgba(60, 64, 67, 0.3), 0px 1px 3px 1px rgba(60, 64, 67, 0.15);\n",
              "      fill: #174EA6;\n",
              "    }\n",
              "\n",
              "    [theme=dark] .colab-df-convert {\n",
              "      background-color: #3B4455;\n",
              "      fill: #D2E3FC;\n",
              "    }\n",
              "\n",
              "    [theme=dark] .colab-df-convert:hover {\n",
              "      background-color: #434B5C;\n",
              "      box-shadow: 0px 1px 3px 1px rgba(0, 0, 0, 0.15);\n",
              "      filter: drop-shadow(0px 1px 2px rgba(0, 0, 0, 0.3));\n",
              "      fill: #FFFFFF;\n",
              "    }\n",
              "  </style>\n",
              "\n",
              "      <script>\n",
              "        const buttonEl =\n",
              "          document.querySelector('#df-4cdb815b-d53c-4d28-9d42-8824d7408f2c button.colab-df-convert');\n",
              "        buttonEl.style.display =\n",
              "          google.colab.kernel.accessAllowed ? 'block' : 'none';\n",
              "\n",
              "        async function convertToInteractive(key) {\n",
              "          const element = document.querySelector('#df-4cdb815b-d53c-4d28-9d42-8824d7408f2c');\n",
              "          const dataTable =\n",
              "            await google.colab.kernel.invokeFunction('convertToInteractive',\n",
              "                                                     [key], {});\n",
              "          if (!dataTable) return;\n",
              "\n",
              "          const docLinkHtml = 'Like what you see? Visit the ' +\n",
              "            '<a target=\"_blank\" href=https://colab.research.google.com/notebooks/data_table.ipynb>data table notebook</a>'\n",
              "            + ' to learn more about interactive tables.';\n",
              "          element.innerHTML = '';\n",
              "          dataTable['output_type'] = 'display_data';\n",
              "          await google.colab.output.renderOutput(dataTable, element);\n",
              "          const docLink = document.createElement('div');\n",
              "          docLink.innerHTML = docLinkHtml;\n",
              "          element.appendChild(docLink);\n",
              "        }\n",
              "      </script>\n",
              "    </div>\n",
              "  </div>\n",
              "  "
            ],
            "text/plain": [
              "             id  ...                                          nome_ptbr\n",
              "0          2539  ...            Limpo e tranquilo apto casa pelo parque\n",
              "1          2595  ...                         Castelo de Skylit Midtown.\n",
              "2          3647  ...                    A aldeia de Harlem . Nova York!\n",
              "3          3831  ...             Aconchegante inteiro de quartoownstone\n",
              "4          5022  ...  Inteiro aptoo: estúdio espaçoso  loft pelo Cen...\n",
              "...         ...  ...                                                ...\n",
              "48874  36484665  ...  Encantador um quarto - Rowhouse recentemente r...\n",
              "48875  36485057  ...    Quarto Acessível em Bushwick  East Williamsburg\n",
              "48876  36485431  ...         Estúdio ensolarado na vizinhança histórica\n",
              "48877  36485609  ...    43rd St. Time Square Aconchegante Solteiro Cama\n",
              "48878  36487245  ...    Duplex na moda no coração da cozinha do inferno\n",
              "\n",
              "[48879 rows x 17 columns]"
            ]
          },
          "metadata": {},
          "execution_count": 24
        }
      ]
    },
    {
      "cell_type": "code",
      "source": [
        "# a tradução manteve a coluna \"nome\" original e criou mais uma coluna que nomeei \"nome_ptbr\"\n",
        "# por isso nesta celula  o campo nome recebe nome_ptbr e em seguida o campo nome_ptbr é deletado\n",
        "df4_traduzido['nome'] = df4_traduzido['nome_ptbr']\n",
        "df4_traduzido.drop(['nome_ptbr'], axis=1, inplace=True)"
      ],
      "metadata": {
        "id": "uDdsTYjrAk-i"
      },
      "execution_count": null,
      "outputs": []
    },
    {
      "cell_type": "code",
      "source": [
        "# mostra como ficou o dataframe\n",
        "df4_traduzido"
      ],
      "metadata": {
        "id": "xvMBGQatA54a",
        "colab": {
          "base_uri": "https://localhost:8080/",
          "height": 973
        },
        "outputId": "b14e1cff-6bdc-4ab9-bfb2-cc23897ca865"
      },
      "execution_count": null,
      "outputs": [
        {
          "output_type": "execute_result",
          "data": {
            "text/html": [
              "\n",
              "  <div id=\"df-e747852e-305f-4e15-97ae-d071563da7cc\">\n",
              "    <div class=\"colab-df-container\">\n",
              "      <div>\n",
              "<style scoped>\n",
              "    .dataframe tbody tr th:only-of-type {\n",
              "        vertical-align: middle;\n",
              "    }\n",
              "\n",
              "    .dataframe tbody tr th {\n",
              "        vertical-align: top;\n",
              "    }\n",
              "\n",
              "    .dataframe thead th {\n",
              "        text-align: right;\n",
              "    }\n",
              "</style>\n",
              "<table border=\"1\" class=\"dataframe\">\n",
              "  <thead>\n",
              "    <tr style=\"text-align: right;\">\n",
              "      <th></th>\n",
              "      <th>id</th>\n",
              "      <th>nome</th>\n",
              "      <th>id_anfitriao</th>\n",
              "      <th>nome_anfitriao</th>\n",
              "      <th>grupo_bairro</th>\n",
              "      <th>bairro</th>\n",
              "      <th>latitude</th>\n",
              "      <th>longitude</th>\n",
              "      <th>tipo_de_quarto</th>\n",
              "      <th>preco</th>\n",
              "      <th>minimo_de_noites</th>\n",
              "      <th>numero_de_avaliacoes</th>\n",
              "      <th>ultima_avaliacao</th>\n",
              "      <th>Qtde_avaliacoes_mes</th>\n",
              "      <th>soma_propriedades_anfitriao</th>\n",
              "      <th>disponibilidade_365</th>\n",
              "    </tr>\n",
              "  </thead>\n",
              "  <tbody>\n",
              "    <tr>\n",
              "      <th>0</th>\n",
              "      <td>2539</td>\n",
              "      <td>Limpo e tranquilo apto casa pelo parque</td>\n",
              "      <td>2787</td>\n",
              "      <td>John</td>\n",
              "      <td>Brooklyn</td>\n",
              "      <td>Kensington</td>\n",
              "      <td>4,064749E+016</td>\n",
              "      <td>-7.397237e+06</td>\n",
              "      <td>Sala privada</td>\n",
              "      <td>149</td>\n",
              "      <td>1</td>\n",
              "      <td>9</td>\n",
              "      <td>2018-10-19</td>\n",
              "      <td>0.21</td>\n",
              "      <td>6</td>\n",
              "      <td>365</td>\n",
              "    </tr>\n",
              "    <tr>\n",
              "      <th>1</th>\n",
              "      <td>2595</td>\n",
              "      <td>Castelo de Skylit Midtown.</td>\n",
              "      <td>2845</td>\n",
              "      <td>Jennifer</td>\n",
              "      <td>Manhattan</td>\n",
              "      <td>Midtown</td>\n",
              "      <td>4075362</td>\n",
              "      <td>-7.398377e+15</td>\n",
              "      <td>Casa / apto inteiro</td>\n",
              "      <td>225</td>\n",
              "      <td>1</td>\n",
              "      <td>45</td>\n",
              "      <td>2019-05-21</td>\n",
              "      <td>0.38</td>\n",
              "      <td>2</td>\n",
              "      <td>355</td>\n",
              "    </tr>\n",
              "    <tr>\n",
              "      <th>2</th>\n",
              "      <td>3647</td>\n",
              "      <td>A aldeia de Harlem . Nova York!</td>\n",
              "      <td>4632</td>\n",
              "      <td>Elisabeth</td>\n",
              "      <td>Manhattan</td>\n",
              "      <td>Harlem</td>\n",
              "      <td>4,080902E+016</td>\n",
              "      <td>-7.394190e+05</td>\n",
              "      <td>Sala privada</td>\n",
              "      <td>150</td>\n",
              "      <td>3</td>\n",
              "      <td>0</td>\n",
              "      <td>NaN</td>\n",
              "      <td>NaN</td>\n",
              "      <td>1</td>\n",
              "      <td>365</td>\n",
              "    </tr>\n",
              "    <tr>\n",
              "      <th>3</th>\n",
              "      <td>3831</td>\n",
              "      <td>Aconchegante inteiro de quartoownstone</td>\n",
              "      <td>4869</td>\n",
              "      <td>LisaRoxanne</td>\n",
              "      <td>Brooklyn</td>\n",
              "      <td>Clinton Hill</td>\n",
              "      <td>4,068514E+016</td>\n",
              "      <td>-7.395976e+06</td>\n",
              "      <td>Casa / apto inteiro</td>\n",
              "      <td>89</td>\n",
              "      <td>1</td>\n",
              "      <td>270</td>\n",
              "      <td>2019-07-05</td>\n",
              "      <td>4.64</td>\n",
              "      <td>1</td>\n",
              "      <td>194</td>\n",
              "    </tr>\n",
              "    <tr>\n",
              "      <th>4</th>\n",
              "      <td>5022</td>\n",
              "      <td>Inteiro aptoo: estúdio espaçoso  loft pelo Cen...</td>\n",
              "      <td>7192</td>\n",
              "      <td>Laura</td>\n",
              "      <td>Manhattan</td>\n",
              "      <td>East Harlem</td>\n",
              "      <td>4079851</td>\n",
              "      <td>-7.394399e+06</td>\n",
              "      <td>Casa / apto inteiro</td>\n",
              "      <td>80</td>\n",
              "      <td>10</td>\n",
              "      <td>9</td>\n",
              "      <td>2018-11-19</td>\n",
              "      <td>0.10</td>\n",
              "      <td>1</td>\n",
              "      <td>0</td>\n",
              "    </tr>\n",
              "    <tr>\n",
              "      <th>...</th>\n",
              "      <td>...</td>\n",
              "      <td>...</td>\n",
              "      <td>...</td>\n",
              "      <td>...</td>\n",
              "      <td>...</td>\n",
              "      <td>...</td>\n",
              "      <td>...</td>\n",
              "      <td>...</td>\n",
              "      <td>...</td>\n",
              "      <td>...</td>\n",
              "      <td>...</td>\n",
              "      <td>...</td>\n",
              "      <td>...</td>\n",
              "      <td>...</td>\n",
              "      <td>...</td>\n",
              "      <td>...</td>\n",
              "    </tr>\n",
              "    <tr>\n",
              "      <th>48874</th>\n",
              "      <td>36484665</td>\n",
              "      <td>Encantador um quarto - Rowhouse recentemente r...</td>\n",
              "      <td>8232441</td>\n",
              "      <td>Sabrina</td>\n",
              "      <td>Brooklyn</td>\n",
              "      <td>Bedford-Stuyvesant</td>\n",
              "      <td>4067853</td>\n",
              "      <td>-7.394995e+06</td>\n",
              "      <td>Sala privada</td>\n",
              "      <td>70</td>\n",
              "      <td>2</td>\n",
              "      <td>0</td>\n",
              "      <td>NaN</td>\n",
              "      <td>NaN</td>\n",
              "      <td>2</td>\n",
              "      <td>9</td>\n",
              "    </tr>\n",
              "    <tr>\n",
              "      <th>48875</th>\n",
              "      <td>36485057</td>\n",
              "      <td>Quarto Acessível em Bushwick  East Williamsburg</td>\n",
              "      <td>6570630</td>\n",
              "      <td>Marisol</td>\n",
              "      <td>Brooklyn</td>\n",
              "      <td>Bushwick</td>\n",
              "      <td>4,070184E+016</td>\n",
              "      <td>-7.393317e+15</td>\n",
              "      <td>Sala privada</td>\n",
              "      <td>40</td>\n",
              "      <td>4</td>\n",
              "      <td>0</td>\n",
              "      <td>NaN</td>\n",
              "      <td>NaN</td>\n",
              "      <td>2</td>\n",
              "      <td>36</td>\n",
              "    </tr>\n",
              "    <tr>\n",
              "      <th>48876</th>\n",
              "      <td>36485431</td>\n",
              "      <td>Estúdio ensolarado na vizinhança histórica</td>\n",
              "      <td>23492952</td>\n",
              "      <td>Ilgar &amp; Aysel</td>\n",
              "      <td>Manhattan</td>\n",
              "      <td>Harlem</td>\n",
              "      <td>4081475</td>\n",
              "      <td>-7.394867e+15</td>\n",
              "      <td>Casa / apto inteiro</td>\n",
              "      <td>115</td>\n",
              "      <td>10</td>\n",
              "      <td>0</td>\n",
              "      <td>NaN</td>\n",
              "      <td>NaN</td>\n",
              "      <td>1</td>\n",
              "      <td>27</td>\n",
              "    </tr>\n",
              "    <tr>\n",
              "      <th>48877</th>\n",
              "      <td>36485609</td>\n",
              "      <td>43rd St. Time Square Aconchegante Solteiro Cama</td>\n",
              "      <td>30985759</td>\n",
              "      <td>Taz</td>\n",
              "      <td>Manhattan</td>\n",
              "      <td>Hell's Kitchen</td>\n",
              "      <td>4,07575099999999E+016</td>\n",
              "      <td>-7.399112e+06</td>\n",
              "      <td>Quarto compartilhado</td>\n",
              "      <td>55</td>\n",
              "      <td>1</td>\n",
              "      <td>0</td>\n",
              "      <td>NaN</td>\n",
              "      <td>NaN</td>\n",
              "      <td>6</td>\n",
              "      <td>2</td>\n",
              "    </tr>\n",
              "    <tr>\n",
              "      <th>48878</th>\n",
              "      <td>36487245</td>\n",
              "      <td>Duplex na moda no coração da cozinha do inferno</td>\n",
              "      <td>68119814</td>\n",
              "      <td>Christophe</td>\n",
              "      <td>Manhattan</td>\n",
              "      <td>Hell's Kitchen</td>\n",
              "      <td>4076404</td>\n",
              "      <td>-7.398933e+15</td>\n",
              "      <td>Sala privada</td>\n",
              "      <td>90</td>\n",
              "      <td>7</td>\n",
              "      <td>0</td>\n",
              "      <td>NaN</td>\n",
              "      <td>NaN</td>\n",
              "      <td>1</td>\n",
              "      <td>23</td>\n",
              "    </tr>\n",
              "  </tbody>\n",
              "</table>\n",
              "<p>48879 rows × 16 columns</p>\n",
              "</div>\n",
              "      <button class=\"colab-df-convert\" onclick=\"convertToInteractive('df-e747852e-305f-4e15-97ae-d071563da7cc')\"\n",
              "              title=\"Convert this dataframe to an interactive table.\"\n",
              "              style=\"display:none;\">\n",
              "        \n",
              "  <svg xmlns=\"http://www.w3.org/2000/svg\" height=\"24px\"viewBox=\"0 0 24 24\"\n",
              "       width=\"24px\">\n",
              "    <path d=\"M0 0h24v24H0V0z\" fill=\"none\"/>\n",
              "    <path d=\"M18.56 5.44l.94 2.06.94-2.06 2.06-.94-2.06-.94-.94-2.06-.94 2.06-2.06.94zm-11 1L8.5 8.5l.94-2.06 2.06-.94-2.06-.94L8.5 2.5l-.94 2.06-2.06.94zm10 10l.94 2.06.94-2.06 2.06-.94-2.06-.94-.94-2.06-.94 2.06-2.06.94z\"/><path d=\"M17.41 7.96l-1.37-1.37c-.4-.4-.92-.59-1.43-.59-.52 0-1.04.2-1.43.59L10.3 9.45l-7.72 7.72c-.78.78-.78 2.05 0 2.83L4 21.41c.39.39.9.59 1.41.59.51 0 1.02-.2 1.41-.59l7.78-7.78 2.81-2.81c.8-.78.8-2.07 0-2.86zM5.41 20L4 18.59l7.72-7.72 1.47 1.35L5.41 20z\"/>\n",
              "  </svg>\n",
              "      </button>\n",
              "      \n",
              "  <style>\n",
              "    .colab-df-container {\n",
              "      display:flex;\n",
              "      flex-wrap:wrap;\n",
              "      gap: 12px;\n",
              "    }\n",
              "\n",
              "    .colab-df-convert {\n",
              "      background-color: #E8F0FE;\n",
              "      border: none;\n",
              "      border-radius: 50%;\n",
              "      cursor: pointer;\n",
              "      display: none;\n",
              "      fill: #1967D2;\n",
              "      height: 32px;\n",
              "      padding: 0 0 0 0;\n",
              "      width: 32px;\n",
              "    }\n",
              "\n",
              "    .colab-df-convert:hover {\n",
              "      background-color: #E2EBFA;\n",
              "      box-shadow: 0px 1px 2px rgba(60, 64, 67, 0.3), 0px 1px 3px 1px rgba(60, 64, 67, 0.15);\n",
              "      fill: #174EA6;\n",
              "    }\n",
              "\n",
              "    [theme=dark] .colab-df-convert {\n",
              "      background-color: #3B4455;\n",
              "      fill: #D2E3FC;\n",
              "    }\n",
              "\n",
              "    [theme=dark] .colab-df-convert:hover {\n",
              "      background-color: #434B5C;\n",
              "      box-shadow: 0px 1px 3px 1px rgba(0, 0, 0, 0.15);\n",
              "      filter: drop-shadow(0px 1px 2px rgba(0, 0, 0, 0.3));\n",
              "      fill: #FFFFFF;\n",
              "    }\n",
              "  </style>\n",
              "\n",
              "      <script>\n",
              "        const buttonEl =\n",
              "          document.querySelector('#df-e747852e-305f-4e15-97ae-d071563da7cc button.colab-df-convert');\n",
              "        buttonEl.style.display =\n",
              "          google.colab.kernel.accessAllowed ? 'block' : 'none';\n",
              "\n",
              "        async function convertToInteractive(key) {\n",
              "          const element = document.querySelector('#df-e747852e-305f-4e15-97ae-d071563da7cc');\n",
              "          const dataTable =\n",
              "            await google.colab.kernel.invokeFunction('convertToInteractive',\n",
              "                                                     [key], {});\n",
              "          if (!dataTable) return;\n",
              "\n",
              "          const docLinkHtml = 'Like what you see? Visit the ' +\n",
              "            '<a target=\"_blank\" href=https://colab.research.google.com/notebooks/data_table.ipynb>data table notebook</a>'\n",
              "            + ' to learn more about interactive tables.';\n",
              "          element.innerHTML = '';\n",
              "          dataTable['output_type'] = 'display_data';\n",
              "          await google.colab.output.renderOutput(dataTable, element);\n",
              "          const docLink = document.createElement('div');\n",
              "          docLink.innerHTML = docLinkHtml;\n",
              "          element.appendChild(docLink);\n",
              "        }\n",
              "      </script>\n",
              "    </div>\n",
              "  </div>\n",
              "  "
            ],
            "text/plain": [
              "             id  ... disponibilidade_365\n",
              "0          2539  ...                 365\n",
              "1          2595  ...                 355\n",
              "2          3647  ...                 365\n",
              "3          3831  ...                 194\n",
              "4          5022  ...                   0\n",
              "...         ...  ...                 ...\n",
              "48874  36484665  ...                   9\n",
              "48875  36485057  ...                  36\n",
              "48876  36485431  ...                  27\n",
              "48877  36485609  ...                   2\n",
              "48878  36487245  ...                  23\n",
              "\n",
              "[48879 rows x 16 columns]"
            ]
          },
          "metadata": {},
          "execution_count": 26
        }
      ]
    },
    {
      "cell_type": "markdown",
      "metadata": {
        "id": "SErTbTWkQHkw"
      },
      "source": [
        "# Tratamento dos NaN"
      ]
    },
    {
      "cell_type": "code",
      "execution_count": null,
      "metadata": {
        "id": "aTxAQuAvO1wu",
        "colab": {
          "base_uri": "https://localhost:8080/"
        },
        "outputId": "fd4ceaf1-2c5d-4365-ea85-67f4064493f3"
      },
      "outputs": [
        {
          "output_type": "execute_result",
          "data": {
            "text/plain": [
              "id                                 0\n",
              "nome                               4\n",
              "id_anfitriao                       0\n",
              "nome_anfitriao                    21\n",
              "grupo_bairro                       0\n",
              "bairro                             0\n",
              "latitude                           0\n",
              "longitude                          0\n",
              "tipo_de_quarto                     0\n",
              "preco                              0\n",
              "minimo_de_noites                   0\n",
              "numero_de_avaliacoes               0\n",
              "ultima_avaliacao               10042\n",
              "Qtde_avaliacoes_mes            10042\n",
              "soma_propriedades_anfitriao        0\n",
              "disponibilidade_365                0\n",
              "dtype: int64"
            ]
          },
          "metadata": {},
          "execution_count": 27
        }
      ],
      "source": [
        "#encontra e soma os campos que estão sem preenchimento em cada  coluna do  DF\n",
        "df4_traduzido.isna().sum()"
      ]
    },
    {
      "cell_type": "code",
      "source": [
        "# Os campos com valores em branco foram preenchidos com valores que não prejudicam o dataset para esta análise.\n",
        "df4_traduzido.nome_anfitriao.fillna(\"Anônimo\", inplace=True)\n",
        "df4_traduzido.Qtde_avaliacoes_mes.fillna(\"0\", inplace=True)\n",
        "df4_traduzido.ultima_avaliacao.fillna(\"1980-01-01\", inplace=True)"
      ],
      "metadata": {
        "id": "Yl9p_DHHRl4l"
      },
      "execution_count": null,
      "outputs": []
    },
    {
      "cell_type": "code",
      "source": [
        "df_pandas.fillna(\"0\", inplace=True)"
      ],
      "metadata": {
        "id": "B9ZHSgtcRuwR"
      },
      "execution_count": null,
      "outputs": []
    },
    {
      "cell_type": "markdown",
      "metadata": {
        "id": "3NRKJWAVYIVF"
      },
      "source": [
        "Tradução dos dados da *coluna nome*"
      ]
    },
    {
      "cell_type": "code",
      "execution_count": null,
      "metadata": {
        "id": "JZTrzj5wquRi"
      },
      "outputs": [],
      "source": [
        "# Durante o processo de tradução foram encontradas inconsistências que serão tratadas aqui como na.\n",
        "df4_traduzido.replace(['.', ',', '1', '2', '/', '#','2.','3.',\"\",' ','\"\"'], pd.NA, inplace=True)\n",
        "df4_traduzido.dropna(subset=['nome'],inplace=True)"
      ]
    },
    {
      "cell_type": "code",
      "execution_count": null,
      "metadata": {
        "id": "okC98scVPjyg",
        "colab": {
          "base_uri": "https://localhost:8080/"
        },
        "outputId": "e40fe844-14f1-49fa-e777-695b4f262a70"
      },
      "outputs": [
        {
          "output_type": "execute_result",
          "data": {
            "text/plain": [
              "id                             0\n",
              "nome                           0\n",
              "id_anfitriao                   0\n",
              "nome_anfitriao                 0\n",
              "grupo_bairro                   0\n",
              "bairro                         0\n",
              "latitude                       0\n",
              "longitude                      0\n",
              "tipo_de_quarto                 0\n",
              "preco                          0\n",
              "minimo_de_noites               0\n",
              "numero_de_avaliacoes           0\n",
              "ultima_avaliacao               0\n",
              "Qtde_avaliacoes_mes            0\n",
              "soma_propriedades_anfitriao    0\n",
              "disponibilidade_365            0\n",
              "dtype: int64"
            ]
          },
          "metadata": {},
          "execution_count": 31
        }
      ],
      "source": [
        "# Verificação de que não ha mais Na\n",
        "df4_traduzido.isna().sum()"
      ]
    },
    {
      "cell_type": "markdown",
      "metadata": {
        "id": "KXegziEI_Wz9"
      },
      "source": [
        "Dropei as colunas latitude e longitude por não serem relevantes para esta análise"
      ]
    },
    {
      "cell_type": "code",
      "execution_count": null,
      "metadata": {
        "id": "_L-eJhbu_VmM"
      },
      "outputs": [],
      "source": [
        "df4_traduzido.drop(['latitude'], axis=1, inplace=True)\n",
        "df4_traduzido.drop(['longitude'], axis=1, inplace=True)"
      ]
    },
    {
      "cell_type": "code",
      "source": [
        "df4_traduzido.head()"
      ],
      "metadata": {
        "id": "KrdSmM-Z-_j0",
        "colab": {
          "base_uri": "https://localhost:8080/",
          "height": 461
        },
        "outputId": "be554962-4b24-4af9-baef-3e727335a263"
      },
      "execution_count": null,
      "outputs": [
        {
          "output_type": "execute_result",
          "data": {
            "text/html": [
              "\n",
              "  <div id=\"df-3c47c754-eef1-4a83-b686-f5cd077ed2ab\">\n",
              "    <div class=\"colab-df-container\">\n",
              "      <div>\n",
              "<style scoped>\n",
              "    .dataframe tbody tr th:only-of-type {\n",
              "        vertical-align: middle;\n",
              "    }\n",
              "\n",
              "    .dataframe tbody tr th {\n",
              "        vertical-align: top;\n",
              "    }\n",
              "\n",
              "    .dataframe thead th {\n",
              "        text-align: right;\n",
              "    }\n",
              "</style>\n",
              "<table border=\"1\" class=\"dataframe\">\n",
              "  <thead>\n",
              "    <tr style=\"text-align: right;\">\n",
              "      <th></th>\n",
              "      <th>id</th>\n",
              "      <th>nome</th>\n",
              "      <th>id_anfitriao</th>\n",
              "      <th>nome_anfitriao</th>\n",
              "      <th>grupo_bairro</th>\n",
              "      <th>bairro</th>\n",
              "      <th>tipo_de_quarto</th>\n",
              "      <th>preco</th>\n",
              "      <th>minimo_de_noites</th>\n",
              "      <th>numero_de_avaliacoes</th>\n",
              "      <th>ultima_avaliacao</th>\n",
              "      <th>Qtde_avaliacoes_mes</th>\n",
              "      <th>soma_propriedades_anfitriao</th>\n",
              "      <th>disponibilidade_365</th>\n",
              "    </tr>\n",
              "  </thead>\n",
              "  <tbody>\n",
              "    <tr>\n",
              "      <th>0</th>\n",
              "      <td>2539</td>\n",
              "      <td>Limpo e tranquilo apto casa pelo parque</td>\n",
              "      <td>2787</td>\n",
              "      <td>John</td>\n",
              "      <td>Brooklyn</td>\n",
              "      <td>Kensington</td>\n",
              "      <td>Sala privada</td>\n",
              "      <td>149</td>\n",
              "      <td>1</td>\n",
              "      <td>9</td>\n",
              "      <td>2018-10-19</td>\n",
              "      <td>0.21</td>\n",
              "      <td>6</td>\n",
              "      <td>365</td>\n",
              "    </tr>\n",
              "    <tr>\n",
              "      <th>1</th>\n",
              "      <td>2595</td>\n",
              "      <td>Castelo de Skylit Midtown.</td>\n",
              "      <td>2845</td>\n",
              "      <td>Jennifer</td>\n",
              "      <td>Manhattan</td>\n",
              "      <td>Midtown</td>\n",
              "      <td>Casa / apto inteiro</td>\n",
              "      <td>225</td>\n",
              "      <td>1</td>\n",
              "      <td>45</td>\n",
              "      <td>2019-05-21</td>\n",
              "      <td>0.38</td>\n",
              "      <td>2</td>\n",
              "      <td>355</td>\n",
              "    </tr>\n",
              "    <tr>\n",
              "      <th>2</th>\n",
              "      <td>3647</td>\n",
              "      <td>A aldeia de Harlem . Nova York!</td>\n",
              "      <td>4632</td>\n",
              "      <td>Elisabeth</td>\n",
              "      <td>Manhattan</td>\n",
              "      <td>Harlem</td>\n",
              "      <td>Sala privada</td>\n",
              "      <td>150</td>\n",
              "      <td>3</td>\n",
              "      <td>0</td>\n",
              "      <td>1980-01-01</td>\n",
              "      <td>0</td>\n",
              "      <td>1</td>\n",
              "      <td>365</td>\n",
              "    </tr>\n",
              "    <tr>\n",
              "      <th>3</th>\n",
              "      <td>3831</td>\n",
              "      <td>Aconchegante inteiro de quartoownstone</td>\n",
              "      <td>4869</td>\n",
              "      <td>LisaRoxanne</td>\n",
              "      <td>Brooklyn</td>\n",
              "      <td>Clinton Hill</td>\n",
              "      <td>Casa / apto inteiro</td>\n",
              "      <td>89</td>\n",
              "      <td>1</td>\n",
              "      <td>270</td>\n",
              "      <td>2019-07-05</td>\n",
              "      <td>4.64</td>\n",
              "      <td>1</td>\n",
              "      <td>194</td>\n",
              "    </tr>\n",
              "    <tr>\n",
              "      <th>4</th>\n",
              "      <td>5022</td>\n",
              "      <td>Inteiro aptoo: estúdio espaçoso  loft pelo Cen...</td>\n",
              "      <td>7192</td>\n",
              "      <td>Laura</td>\n",
              "      <td>Manhattan</td>\n",
              "      <td>East Harlem</td>\n",
              "      <td>Casa / apto inteiro</td>\n",
              "      <td>80</td>\n",
              "      <td>10</td>\n",
              "      <td>9</td>\n",
              "      <td>2018-11-19</td>\n",
              "      <td>0.1</td>\n",
              "      <td>1</td>\n",
              "      <td>0</td>\n",
              "    </tr>\n",
              "  </tbody>\n",
              "</table>\n",
              "</div>\n",
              "      <button class=\"colab-df-convert\" onclick=\"convertToInteractive('df-3c47c754-eef1-4a83-b686-f5cd077ed2ab')\"\n",
              "              title=\"Convert this dataframe to an interactive table.\"\n",
              "              style=\"display:none;\">\n",
              "        \n",
              "  <svg xmlns=\"http://www.w3.org/2000/svg\" height=\"24px\"viewBox=\"0 0 24 24\"\n",
              "       width=\"24px\">\n",
              "    <path d=\"M0 0h24v24H0V0z\" fill=\"none\"/>\n",
              "    <path d=\"M18.56 5.44l.94 2.06.94-2.06 2.06-.94-2.06-.94-.94-2.06-.94 2.06-2.06.94zm-11 1L8.5 8.5l.94-2.06 2.06-.94-2.06-.94L8.5 2.5l-.94 2.06-2.06.94zm10 10l.94 2.06.94-2.06 2.06-.94-2.06-.94-.94-2.06-.94 2.06-2.06.94z\"/><path d=\"M17.41 7.96l-1.37-1.37c-.4-.4-.92-.59-1.43-.59-.52 0-1.04.2-1.43.59L10.3 9.45l-7.72 7.72c-.78.78-.78 2.05 0 2.83L4 21.41c.39.39.9.59 1.41.59.51 0 1.02-.2 1.41-.59l7.78-7.78 2.81-2.81c.8-.78.8-2.07 0-2.86zM5.41 20L4 18.59l7.72-7.72 1.47 1.35L5.41 20z\"/>\n",
              "  </svg>\n",
              "      </button>\n",
              "      \n",
              "  <style>\n",
              "    .colab-df-container {\n",
              "      display:flex;\n",
              "      flex-wrap:wrap;\n",
              "      gap: 12px;\n",
              "    }\n",
              "\n",
              "    .colab-df-convert {\n",
              "      background-color: #E8F0FE;\n",
              "      border: none;\n",
              "      border-radius: 50%;\n",
              "      cursor: pointer;\n",
              "      display: none;\n",
              "      fill: #1967D2;\n",
              "      height: 32px;\n",
              "      padding: 0 0 0 0;\n",
              "      width: 32px;\n",
              "    }\n",
              "\n",
              "    .colab-df-convert:hover {\n",
              "      background-color: #E2EBFA;\n",
              "      box-shadow: 0px 1px 2px rgba(60, 64, 67, 0.3), 0px 1px 3px 1px rgba(60, 64, 67, 0.15);\n",
              "      fill: #174EA6;\n",
              "    }\n",
              "\n",
              "    [theme=dark] .colab-df-convert {\n",
              "      background-color: #3B4455;\n",
              "      fill: #D2E3FC;\n",
              "    }\n",
              "\n",
              "    [theme=dark] .colab-df-convert:hover {\n",
              "      background-color: #434B5C;\n",
              "      box-shadow: 0px 1px 3px 1px rgba(0, 0, 0, 0.15);\n",
              "      filter: drop-shadow(0px 1px 2px rgba(0, 0, 0, 0.3));\n",
              "      fill: #FFFFFF;\n",
              "    }\n",
              "  </style>\n",
              "\n",
              "      <script>\n",
              "        const buttonEl =\n",
              "          document.querySelector('#df-3c47c754-eef1-4a83-b686-f5cd077ed2ab button.colab-df-convert');\n",
              "        buttonEl.style.display =\n",
              "          google.colab.kernel.accessAllowed ? 'block' : 'none';\n",
              "\n",
              "        async function convertToInteractive(key) {\n",
              "          const element = document.querySelector('#df-3c47c754-eef1-4a83-b686-f5cd077ed2ab');\n",
              "          const dataTable =\n",
              "            await google.colab.kernel.invokeFunction('convertToInteractive',\n",
              "                                                     [key], {});\n",
              "          if (!dataTable) return;\n",
              "\n",
              "          const docLinkHtml = 'Like what you see? Visit the ' +\n",
              "            '<a target=\"_blank\" href=https://colab.research.google.com/notebooks/data_table.ipynb>data table notebook</a>'\n",
              "            + ' to learn more about interactive tables.';\n",
              "          element.innerHTML = '';\n",
              "          dataTable['output_type'] = 'display_data';\n",
              "          await google.colab.output.renderOutput(dataTable, element);\n",
              "          const docLink = document.createElement('div');\n",
              "          docLink.innerHTML = docLinkHtml;\n",
              "          element.appendChild(docLink);\n",
              "        }\n",
              "      </script>\n",
              "    </div>\n",
              "  </div>\n",
              "  "
            ],
            "text/plain": [
              "     id  ... disponibilidade_365\n",
              "0  2539  ...                 365\n",
              "1  2595  ...                 355\n",
              "2  3647  ...                 365\n",
              "3  3831  ...                 194\n",
              "4  5022  ...                   0\n",
              "\n",
              "[5 rows x 14 columns]"
            ]
          },
          "metadata": {},
          "execution_count": 33
        }
      ]
    },
    {
      "cell_type": "code",
      "execution_count": null,
      "metadata": {
        "id": "WEk7CwlY7Qdf"
      },
      "outputs": [],
      "source": [
        "#também foram dropados registros onde a disponibilidade no ano ou o preço era igual a 0 (zero)\n",
        "df4_traduzido = df4_traduzido.drop(df4_traduzido[df4_traduzido.disponibilidade_365 == 0].index)\n",
        "df4_traduzido = df4_traduzido.drop(df4_traduzido[df4_traduzido.preco == 0].index)"
      ]
    },
    {
      "cell_type": "markdown",
      "metadata": {
        "id": "-ttzSEn4LYE_"
      },
      "source": [
        "Verifiquei que não são permitidos campos nulos em nenhuma coluna"
      ]
    },
    {
      "cell_type": "code",
      "execution_count": null,
      "metadata": {
        "id": "3YDQtrgNGJmN",
        "colab": {
          "base_uri": "https://localhost:8080/"
        },
        "outputId": "cfd8defa-a7e6-4745-8c6a-a0c3ffdba719"
      },
      "outputs": [
        {
          "output_type": "stream",
          "name": "stdout",
          "text": [
            "<class 'pandas.core.frame.DataFrame'>\n",
            "Int64Index: 31347 entries, 0 to 48878\n",
            "Data columns (total 14 columns):\n",
            " #   Column                       Non-Null Count  Dtype \n",
            "---  ------                       --------------  ----- \n",
            " 0   id                           31347 non-null  int64 \n",
            " 1   nome                         31347 non-null  object\n",
            " 2   id_anfitriao                 31347 non-null  int64 \n",
            " 3   nome_anfitriao               31347 non-null  object\n",
            " 4   grupo_bairro                 31347 non-null  object\n",
            " 5   bairro                       31347 non-null  object\n",
            " 6   tipo_de_quarto               31347 non-null  object\n",
            " 7   preco                        31347 non-null  int64 \n",
            " 8   minimo_de_noites             31347 non-null  int64 \n",
            " 9   numero_de_avaliacoes         31347 non-null  int64 \n",
            " 10  ultima_avaliacao             31347 non-null  object\n",
            " 11  Qtde_avaliacoes_mes          31347 non-null  object\n",
            " 12  soma_propriedades_anfitriao  31347 non-null  int64 \n",
            " 13  disponibilidade_365          31347 non-null  int64 \n",
            "dtypes: int64(7), object(7)\n",
            "memory usage: 3.6+ MB\n"
          ]
        }
      ],
      "source": [
        "df4_traduzido.info()"
      ]
    },
    {
      "cell_type": "code",
      "source": [
        "#Alterando os tipos das colunas\n",
        "df4_traduzido = df4_traduzido.astype({\"id\": int,\"nome\": object,\"id_anfitriao\": int,\"nome_anfitriao\": object,\"grupo_bairro\": object,\"bairro\": object,\n",
        "                                      \"tipo_de_quarto\": object,\"preco\": float,\"minimo_de_noites\": int,\"numero_de_avaliacoes\": int,\"ultima_avaliacao\": object,\"Qtde_avaliacoes_mes\": int,\"soma_propriedades_anfitriao\": int,\n",
        "\"disponibilidade_365\": int})"
      ],
      "metadata": {
        "id": "d8WXbMC-VS3t"
      },
      "execution_count": null,
      "outputs": []
    },
    {
      "cell_type": "code",
      "source": [
        "df4_traduzido"
      ],
      "metadata": {
        "id": "KHs_hmyzu8fK",
        "colab": {
          "base_uri": "https://localhost:8080/",
          "height": 973
        },
        "outputId": "f0b5511b-974c-43f6-8c3d-9d1bd95831a5"
      },
      "execution_count": null,
      "outputs": [
        {
          "output_type": "execute_result",
          "data": {
            "text/html": [
              "\n",
              "  <div id=\"df-df75bd1d-c3ae-4408-a9a4-064aebb4be97\">\n",
              "    <div class=\"colab-df-container\">\n",
              "      <div>\n",
              "<style scoped>\n",
              "    .dataframe tbody tr th:only-of-type {\n",
              "        vertical-align: middle;\n",
              "    }\n",
              "\n",
              "    .dataframe tbody tr th {\n",
              "        vertical-align: top;\n",
              "    }\n",
              "\n",
              "    .dataframe thead th {\n",
              "        text-align: right;\n",
              "    }\n",
              "</style>\n",
              "<table border=\"1\" class=\"dataframe\">\n",
              "  <thead>\n",
              "    <tr style=\"text-align: right;\">\n",
              "      <th></th>\n",
              "      <th>id</th>\n",
              "      <th>nome</th>\n",
              "      <th>id_anfitriao</th>\n",
              "      <th>nome_anfitriao</th>\n",
              "      <th>grupo_bairro</th>\n",
              "      <th>bairro</th>\n",
              "      <th>tipo_de_quarto</th>\n",
              "      <th>preco</th>\n",
              "      <th>minimo_de_noites</th>\n",
              "      <th>numero_de_avaliacoes</th>\n",
              "      <th>ultima_avaliacao</th>\n",
              "      <th>Qtde_avaliacoes_mes</th>\n",
              "      <th>soma_propriedades_anfitriao</th>\n",
              "      <th>disponibilidade_365</th>\n",
              "    </tr>\n",
              "  </thead>\n",
              "  <tbody>\n",
              "    <tr>\n",
              "      <th>0</th>\n",
              "      <td>2539</td>\n",
              "      <td>Limpo e tranquilo apto casa pelo parque</td>\n",
              "      <td>2787</td>\n",
              "      <td>John</td>\n",
              "      <td>Brooklyn</td>\n",
              "      <td>Kensington</td>\n",
              "      <td>Sala privada</td>\n",
              "      <td>149.0</td>\n",
              "      <td>1</td>\n",
              "      <td>9</td>\n",
              "      <td>2018-10-19</td>\n",
              "      <td>0</td>\n",
              "      <td>6</td>\n",
              "      <td>365</td>\n",
              "    </tr>\n",
              "    <tr>\n",
              "      <th>1</th>\n",
              "      <td>2595</td>\n",
              "      <td>Castelo de Skylit Midtown.</td>\n",
              "      <td>2845</td>\n",
              "      <td>Jennifer</td>\n",
              "      <td>Manhattan</td>\n",
              "      <td>Midtown</td>\n",
              "      <td>Casa / apto inteiro</td>\n",
              "      <td>225.0</td>\n",
              "      <td>1</td>\n",
              "      <td>45</td>\n",
              "      <td>2019-05-21</td>\n",
              "      <td>0</td>\n",
              "      <td>2</td>\n",
              "      <td>355</td>\n",
              "    </tr>\n",
              "    <tr>\n",
              "      <th>2</th>\n",
              "      <td>3647</td>\n",
              "      <td>A aldeia de Harlem . Nova York!</td>\n",
              "      <td>4632</td>\n",
              "      <td>Elisabeth</td>\n",
              "      <td>Manhattan</td>\n",
              "      <td>Harlem</td>\n",
              "      <td>Sala privada</td>\n",
              "      <td>150.0</td>\n",
              "      <td>3</td>\n",
              "      <td>0</td>\n",
              "      <td>1980-01-01</td>\n",
              "      <td>0</td>\n",
              "      <td>1</td>\n",
              "      <td>365</td>\n",
              "    </tr>\n",
              "    <tr>\n",
              "      <th>3</th>\n",
              "      <td>3831</td>\n",
              "      <td>Aconchegante inteiro de quartoownstone</td>\n",
              "      <td>4869</td>\n",
              "      <td>LisaRoxanne</td>\n",
              "      <td>Brooklyn</td>\n",
              "      <td>Clinton Hill</td>\n",
              "      <td>Casa / apto inteiro</td>\n",
              "      <td>89.0</td>\n",
              "      <td>1</td>\n",
              "      <td>270</td>\n",
              "      <td>2019-07-05</td>\n",
              "      <td>4</td>\n",
              "      <td>1</td>\n",
              "      <td>194</td>\n",
              "    </tr>\n",
              "    <tr>\n",
              "      <th>5</th>\n",
              "      <td>5099</td>\n",
              "      <td>Grande apartamento aconchegante 1 quarto em Mi...</td>\n",
              "      <td>7322</td>\n",
              "      <td>Chris</td>\n",
              "      <td>Manhattan</td>\n",
              "      <td>Murray Hill</td>\n",
              "      <td>Casa / apto inteiro</td>\n",
              "      <td>200.0</td>\n",
              "      <td>3</td>\n",
              "      <td>74</td>\n",
              "      <td>2019-06-22</td>\n",
              "      <td>0</td>\n",
              "      <td>1</td>\n",
              "      <td>129</td>\n",
              "    </tr>\n",
              "    <tr>\n",
              "      <th>...</th>\n",
              "      <td>...</td>\n",
              "      <td>...</td>\n",
              "      <td>...</td>\n",
              "      <td>...</td>\n",
              "      <td>...</td>\n",
              "      <td>...</td>\n",
              "      <td>...</td>\n",
              "      <td>...</td>\n",
              "      <td>...</td>\n",
              "      <td>...</td>\n",
              "      <td>...</td>\n",
              "      <td>...</td>\n",
              "      <td>...</td>\n",
              "      <td>...</td>\n",
              "    </tr>\n",
              "    <tr>\n",
              "      <th>48874</th>\n",
              "      <td>36484665</td>\n",
              "      <td>Encantador um quarto - Rowhouse recentemente r...</td>\n",
              "      <td>8232441</td>\n",
              "      <td>Sabrina</td>\n",
              "      <td>Brooklyn</td>\n",
              "      <td>Bedford-Stuyvesant</td>\n",
              "      <td>Sala privada</td>\n",
              "      <td>70.0</td>\n",
              "      <td>2</td>\n",
              "      <td>0</td>\n",
              "      <td>1980-01-01</td>\n",
              "      <td>0</td>\n",
              "      <td>2</td>\n",
              "      <td>9</td>\n",
              "    </tr>\n",
              "    <tr>\n",
              "      <th>48875</th>\n",
              "      <td>36485057</td>\n",
              "      <td>Quarto Acessível em Bushwick  East Williamsburg</td>\n",
              "      <td>6570630</td>\n",
              "      <td>Marisol</td>\n",
              "      <td>Brooklyn</td>\n",
              "      <td>Bushwick</td>\n",
              "      <td>Sala privada</td>\n",
              "      <td>40.0</td>\n",
              "      <td>4</td>\n",
              "      <td>0</td>\n",
              "      <td>1980-01-01</td>\n",
              "      <td>0</td>\n",
              "      <td>2</td>\n",
              "      <td>36</td>\n",
              "    </tr>\n",
              "    <tr>\n",
              "      <th>48876</th>\n",
              "      <td>36485431</td>\n",
              "      <td>Estúdio ensolarado na vizinhança histórica</td>\n",
              "      <td>23492952</td>\n",
              "      <td>Ilgar &amp; Aysel</td>\n",
              "      <td>Manhattan</td>\n",
              "      <td>Harlem</td>\n",
              "      <td>Casa / apto inteiro</td>\n",
              "      <td>115.0</td>\n",
              "      <td>10</td>\n",
              "      <td>0</td>\n",
              "      <td>1980-01-01</td>\n",
              "      <td>0</td>\n",
              "      <td>1</td>\n",
              "      <td>27</td>\n",
              "    </tr>\n",
              "    <tr>\n",
              "      <th>48877</th>\n",
              "      <td>36485609</td>\n",
              "      <td>43rd St. Time Square Aconchegante Solteiro Cama</td>\n",
              "      <td>30985759</td>\n",
              "      <td>Taz</td>\n",
              "      <td>Manhattan</td>\n",
              "      <td>Hell's Kitchen</td>\n",
              "      <td>Quarto compartilhado</td>\n",
              "      <td>55.0</td>\n",
              "      <td>1</td>\n",
              "      <td>0</td>\n",
              "      <td>1980-01-01</td>\n",
              "      <td>0</td>\n",
              "      <td>6</td>\n",
              "      <td>2</td>\n",
              "    </tr>\n",
              "    <tr>\n",
              "      <th>48878</th>\n",
              "      <td>36487245</td>\n",
              "      <td>Duplex na moda no coração da cozinha do inferno</td>\n",
              "      <td>68119814</td>\n",
              "      <td>Christophe</td>\n",
              "      <td>Manhattan</td>\n",
              "      <td>Hell's Kitchen</td>\n",
              "      <td>Sala privada</td>\n",
              "      <td>90.0</td>\n",
              "      <td>7</td>\n",
              "      <td>0</td>\n",
              "      <td>1980-01-01</td>\n",
              "      <td>0</td>\n",
              "      <td>1</td>\n",
              "      <td>23</td>\n",
              "    </tr>\n",
              "  </tbody>\n",
              "</table>\n",
              "<p>31347 rows × 14 columns</p>\n",
              "</div>\n",
              "      <button class=\"colab-df-convert\" onclick=\"convertToInteractive('df-df75bd1d-c3ae-4408-a9a4-064aebb4be97')\"\n",
              "              title=\"Convert this dataframe to an interactive table.\"\n",
              "              style=\"display:none;\">\n",
              "        \n",
              "  <svg xmlns=\"http://www.w3.org/2000/svg\" height=\"24px\"viewBox=\"0 0 24 24\"\n",
              "       width=\"24px\">\n",
              "    <path d=\"M0 0h24v24H0V0z\" fill=\"none\"/>\n",
              "    <path d=\"M18.56 5.44l.94 2.06.94-2.06 2.06-.94-2.06-.94-.94-2.06-.94 2.06-2.06.94zm-11 1L8.5 8.5l.94-2.06 2.06-.94-2.06-.94L8.5 2.5l-.94 2.06-2.06.94zm10 10l.94 2.06.94-2.06 2.06-.94-2.06-.94-.94-2.06-.94 2.06-2.06.94z\"/><path d=\"M17.41 7.96l-1.37-1.37c-.4-.4-.92-.59-1.43-.59-.52 0-1.04.2-1.43.59L10.3 9.45l-7.72 7.72c-.78.78-.78 2.05 0 2.83L4 21.41c.39.39.9.59 1.41.59.51 0 1.02-.2 1.41-.59l7.78-7.78 2.81-2.81c.8-.78.8-2.07 0-2.86zM5.41 20L4 18.59l7.72-7.72 1.47 1.35L5.41 20z\"/>\n",
              "  </svg>\n",
              "      </button>\n",
              "      \n",
              "  <style>\n",
              "    .colab-df-container {\n",
              "      display:flex;\n",
              "      flex-wrap:wrap;\n",
              "      gap: 12px;\n",
              "    }\n",
              "\n",
              "    .colab-df-convert {\n",
              "      background-color: #E8F0FE;\n",
              "      border: none;\n",
              "      border-radius: 50%;\n",
              "      cursor: pointer;\n",
              "      display: none;\n",
              "      fill: #1967D2;\n",
              "      height: 32px;\n",
              "      padding: 0 0 0 0;\n",
              "      width: 32px;\n",
              "    }\n",
              "\n",
              "    .colab-df-convert:hover {\n",
              "      background-color: #E2EBFA;\n",
              "      box-shadow: 0px 1px 2px rgba(60, 64, 67, 0.3), 0px 1px 3px 1px rgba(60, 64, 67, 0.15);\n",
              "      fill: #174EA6;\n",
              "    }\n",
              "\n",
              "    [theme=dark] .colab-df-convert {\n",
              "      background-color: #3B4455;\n",
              "      fill: #D2E3FC;\n",
              "    }\n",
              "\n",
              "    [theme=dark] .colab-df-convert:hover {\n",
              "      background-color: #434B5C;\n",
              "      box-shadow: 0px 1px 3px 1px rgba(0, 0, 0, 0.15);\n",
              "      filter: drop-shadow(0px 1px 2px rgba(0, 0, 0, 0.3));\n",
              "      fill: #FFFFFF;\n",
              "    }\n",
              "  </style>\n",
              "\n",
              "      <script>\n",
              "        const buttonEl =\n",
              "          document.querySelector('#df-df75bd1d-c3ae-4408-a9a4-064aebb4be97 button.colab-df-convert');\n",
              "        buttonEl.style.display =\n",
              "          google.colab.kernel.accessAllowed ? 'block' : 'none';\n",
              "\n",
              "        async function convertToInteractive(key) {\n",
              "          const element = document.querySelector('#df-df75bd1d-c3ae-4408-a9a4-064aebb4be97');\n",
              "          const dataTable =\n",
              "            await google.colab.kernel.invokeFunction('convertToInteractive',\n",
              "                                                     [key], {});\n",
              "          if (!dataTable) return;\n",
              "\n",
              "          const docLinkHtml = 'Like what you see? Visit the ' +\n",
              "            '<a target=\"_blank\" href=https://colab.research.google.com/notebooks/data_table.ipynb>data table notebook</a>'\n",
              "            + ' to learn more about interactive tables.';\n",
              "          element.innerHTML = '';\n",
              "          dataTable['output_type'] = 'display_data';\n",
              "          await google.colab.output.renderOutput(dataTable, element);\n",
              "          const docLink = document.createElement('div');\n",
              "          docLink.innerHTML = docLinkHtml;\n",
              "          element.appendChild(docLink);\n",
              "        }\n",
              "      </script>\n",
              "    </div>\n",
              "  </div>\n",
              "  "
            ],
            "text/plain": [
              "             id  ... disponibilidade_365\n",
              "0          2539  ...                 365\n",
              "1          2595  ...                 355\n",
              "2          3647  ...                 365\n",
              "3          3831  ...                 194\n",
              "5          5099  ...                 129\n",
              "...         ...  ...                 ...\n",
              "48874  36484665  ...                   9\n",
              "48875  36485057  ...                  36\n",
              "48876  36485431  ...                  27\n",
              "48877  36485609  ...                   2\n",
              "48878  36487245  ...                  23\n",
              "\n",
              "[31347 rows x 14 columns]"
            ]
          },
          "metadata": {},
          "execution_count": 38
        }
      ]
    },
    {
      "cell_type": "code",
      "execution_count": null,
      "metadata": {
        "id": "TN1f0GnPv3V4",
        "colab": {
          "base_uri": "https://localhost:8080/"
        },
        "outputId": "925ed405-0d39-4abd-b4bb-bfd6d59dd475"
      },
      "outputs": [
        {
          "output_type": "execute_result",
          "data": {
            "text/plain": [
              "id                             0\n",
              "nome                           0\n",
              "id_anfitriao                   0\n",
              "nome_anfitriao                 0\n",
              "grupo_bairro                   0\n",
              "bairro                         0\n",
              "tipo_de_quarto                 0\n",
              "preco                          0\n",
              "minimo_de_noites               0\n",
              "numero_de_avaliacoes           0\n",
              "ultima_avaliacao               0\n",
              "Qtde_avaliacoes_mes            0\n",
              "soma_propriedades_anfitriao    0\n",
              "disponibilidade_365            0\n",
              "dtype: int64"
            ]
          },
          "metadata": {},
          "execution_count": 39
        }
      ],
      "source": [
        "#verifico se ainda temos nulos\n",
        "#df.isnull()\n",
        "df4_traduzido.isnull().sum()"
      ]
    },
    {
      "cell_type": "markdown",
      "metadata": {
        "id": "SCt8kd2Mnzrp"
      },
      "source": [
        "# Algumas consultas\n",
        "Quanto um anuncio consegue atingir dependendo do grupo escolhido"
      ]
    },
    {
      "cell_type": "code",
      "execution_count": null,
      "metadata": {
        "id": "q4baUmYmqibN",
        "colab": {
          "base_uri": "https://localhost:8080/"
        },
        "outputId": "952510b9-ab69-40ec-93f7-7567445d0120"
      },
      "outputs": [
        {
          "output_type": "execute_result",
          "data": {
            "text/plain": [
              "grupo_bairro\n",
              "Bronx              911\n",
              "Brooklyn         12252\n",
              "Manhattan        13556\n",
              "Queens            4297\n",
              "Staten Island      331\n",
              "Name: bairro, dtype: int64"
            ]
          },
          "metadata": {},
          "execution_count": 40
        }
      ],
      "source": [
        "# quantos bairros em cada grupo\n",
        "df4_traduzido.groupby([\"grupo_bairro\"]).bairro.count()"
      ]
    },
    {
      "cell_type": "markdown",
      "metadata": {
        "id": "TFYZaLM__tnd"
      },
      "source": [
        "# **PLOTAGEM COM PANDAS -**  da quantidade de bairros que um anuncio consegue atender dependendo do grupo escolhido\n",
        "****No gráfico abaixo, observa-se que a maioria dos bairros está ligada ao grupo Manhattam\n",
        "****Assim o anúncio  de uma acomodação no grupo Manhattam vai atingir mais pessoas"
      ]
    },
    {
      "cell_type": "code",
      "execution_count": null,
      "metadata": {
        "id": "DplwnM6STJd3",
        "colab": {
          "base_uri": "https://localhost:8080/",
          "height": 353
        },
        "outputId": "bbfcfc42-23dc-4e65-da0a-778f348807a4"
      },
      "outputs": [
        {
          "output_type": "execute_result",
          "data": {
            "text/plain": [
              "<matplotlib.axes._subplots.AxesSubplot at 0x7ff031551b10>"
            ]
          },
          "metadata": {},
          "execution_count": 41
        },
        {
          "output_type": "display_data",
          "data": {
            "image/png": "[encoded data removed]",
            "text/plain": [
              "<Figure size 432x288 with 1 Axes>"
            ]
          },
          "metadata": {
            "needs_background": "light"
          }
        }
      ],
      "source": [
        "df4_traduzido.groupby([\"grupo_bairro\"]).bairro.count().sort_values()[-5:].plot(kind='bar')"
      ]
    },
    {
      "cell_type": "markdown",
      "metadata": {
        "id": "pD6WRuPOg8aj"
      },
      "source": [
        "O código abaixo identifica os valores minimos e máximo de preço em cada bairro"
      ]
    },
    {
      "cell_type": "code",
      "execution_count": null,
      "metadata": {
        "id": "4bbgcK5dd-98",
        "colab": {
          "base_uri": "https://localhost:8080/"
        },
        "outputId": "218322c1-c2b2-4995-be32-c8df7d393715"
      },
      "outputs": [
        {
          "output_type": "execute_result",
          "data": {
            "text/plain": [
              "grupo_bairro   bairro         \n",
              "Manhattan      Upper West Side    10000.0\n",
              "               Lower East Side     9999.0\n",
              "               Tribeca             8500.0\n",
              "Brooklyn       Clinton Hill        8000.0\n",
              "Manhattan      Upper East Side     7703.0\n",
              "                                   ...   \n",
              "Staten Island  Richmondtown          78.0\n",
              "               Rossville             75.0\n",
              "Bronx          Hunts Point           70.0\n",
              "               Mount Eden            55.0\n",
              "Staten Island  Port Richmond         55.0\n",
              "Name: preco, Length: 218, dtype: float64"
            ]
          },
          "metadata": {},
          "execution_count": 42
        }
      ],
      "source": [
        "df3 = df4_traduzido.groupby(['grupo_bairro','bairro'])['preco'].max().sort_values(ascending=False)\n",
        "df3"
      ]
    },
    {
      "cell_type": "code",
      "source": [
        "df4 = df4_traduzido.groupby(['grupo_bairro','bairro','preco'])['preco'].min().sort_values(ascending=True)\n",
        "df4"
      ],
      "metadata": {
        "id": "pzTH7BD0oyUm",
        "colab": {
          "base_uri": "https://localhost:8080/"
        },
        "outputId": "6feb60db-d225-4d56-fab6-b234e846152d"
      },
      "execution_count": null,
      "outputs": [
        {
          "output_type": "execute_result",
          "data": {
            "text/plain": [
              "grupo_bairro  bairro           preco  \n",
              "Brooklyn      Greenpoint       10.0          10.0\n",
              "Bronx         Highbridge       10.0          10.0\n",
              "Brooklyn      Sunset Park      10.0          10.0\n",
              "Manhattan     East Village     10.0          10.0\n",
              "              Kips Bay         10.0          10.0\n",
              "                                           ...   \n",
              "              Upper East Side  7703.0      7703.0\n",
              "Brooklyn      Clinton Hill     8000.0      8000.0\n",
              "Manhattan     Tribeca          8500.0      8500.0\n",
              "              Lower East Side  9999.0      9999.0\n",
              "              Upper West Side  10000.0    10000.0\n",
              "Name: preco, Length: 9437, dtype: float64"
            ]
          },
          "metadata": {},
          "execution_count": 43
        }
      ]
    },
    {
      "cell_type": "code",
      "source": [
        "\n",
        "print(df4_traduzido['preco'].describe())"
      ],
      "metadata": {
        "id": "I-kijMzpDkHk",
        "colab": {
          "base_uri": "https://localhost:8080/"
        },
        "outputId": "6379e2a6-39aa-4fa1-aaca-eb2aca48e7bc"
      },
      "execution_count": null,
      "outputs": [
        {
          "output_type": "stream",
          "name": "stdout",
          "text": [
            "count    31347.000000\n",
            "mean       162.095288\n",
            "std        254.467118\n",
            "min         10.000000\n",
            "25%         70.000000\n",
            "50%        112.000000\n",
            "75%        189.000000\n",
            "max      10000.000000\n",
            "Name: preco, dtype: float64\n"
          ]
        }
      ]
    },
    {
      "cell_type": "code",
      "source": [
        "# Calculada a média geral de preços\n",
        "media_geral = df4_traduzido['preco'].mean()\n",
        "print(media_geral)"
      ],
      "metadata": {
        "id": "yov1K1zPBlfw",
        "colab": {
          "base_uri": "https://localhost:8080/"
        },
        "outputId": "7d37566e-4dad-4db1-b218-34f01fe2b4f0"
      },
      "execution_count": null,
      "outputs": [
        {
          "output_type": "stream",
          "name": "stdout",
          "text": [
            "162.09528822534853\n"
          ]
        }
      ]
    },
    {
      "cell_type": "markdown",
      "metadata": {
        "id": "PlExgnd2p5M9"
      },
      "source": [
        "# **PLOTAGEM COM PANDAS -** os bairros que disponibilizam mais imóveis"
      ]
    },
    {
      "cell_type": "code",
      "execution_count": null,
      "metadata": {
        "id": "4L1CPxXK_Ymp",
        "colab": {
          "base_uri": "https://localhost:8080/",
          "height": 385
        },
        "outputId": "d22bf17d-2d9c-4b23-df0a-4466539051f5"
      },
      "outputs": [
        {
          "output_type": "execute_result",
          "data": {
            "text/plain": [
              "<matplotlib.axes._subplots.AxesSubplot at 0x7ff033aec690>"
            ]
          },
          "metadata": {},
          "execution_count": 46
        },
        {
          "output_type": "display_data",
          "data": {
            "image/png": "[encoded data removed]",
            "text/plain": [
              "<Figure size 432x288 with 1 Axes>"
            ]
          },
          "metadata": {
            "needs_background": "light"
          }
        }
      ],
      "source": [
        "df4_traduzido.groupby(['bairro']).nome.count().sort_values()[-5:].plot(kind='bar')"
      ]
    },
    {
      "cell_type": "markdown",
      "metadata": {
        "id": "CjDODSgUWt18"
      },
      "source": [
        "# `Salvando os arquivos`"
      ]
    },
    {
      "cell_type": "code",
      "source": [
        "df4_traduzido"
      ],
      "metadata": {
        "colab": {
          "base_uri": "https://localhost:8080/",
          "height": 973
        },
        "id": "T0D_DAEwYSXH",
        "outputId": "47d44c2e-cfe2-4cee-8a8c-d2819d22c11f"
      },
      "execution_count": null,
      "outputs": [
        {
          "output_type": "execute_result",
          "data": {
            "text/html": [
              "\n",
              "  <div id=\"df-a3dec3df-931e-4b13-8358-24d86c47d727\">\n",
              "    <div class=\"colab-df-container\">\n",
              "      <div>\n",
              "<style scoped>\n",
              "    .dataframe tbody tr th:only-of-type {\n",
              "        vertical-align: middle;\n",
              "    }\n",
              "\n",
              "    .dataframe tbody tr th {\n",
              "        vertical-align: top;\n",
              "    }\n",
              "\n",
              "    .dataframe thead th {\n",
              "        text-align: right;\n",
              "    }\n",
              "</style>\n",
              "<table border=\"1\" class=\"dataframe\">\n",
              "  <thead>\n",
              "    <tr style=\"text-align: right;\">\n",
              "      <th></th>\n",
              "      <th>id</th>\n",
              "      <th>nome</th>\n",
              "      <th>id_anfitriao</th>\n",
              "      <th>nome_anfitriao</th>\n",
              "      <th>grupo_bairro</th>\n",
              "      <th>bairro</th>\n",
              "      <th>tipo_de_quarto</th>\n",
              "      <th>preco</th>\n",
              "      <th>minimo_de_noites</th>\n",
              "      <th>numero_de_avaliacoes</th>\n",
              "      <th>ultima_avaliacao</th>\n",
              "      <th>Qtde_avaliacoes_mes</th>\n",
              "      <th>soma_propriedades_anfitriao</th>\n",
              "      <th>disponibilidade_365</th>\n",
              "    </tr>\n",
              "  </thead>\n",
              "  <tbody>\n",
              "    <tr>\n",
              "      <th>0</th>\n",
              "      <td>2539</td>\n",
              "      <td>Limpo e tranquilo apto casa pelo parque</td>\n",
              "      <td>2787</td>\n",
              "      <td>John</td>\n",
              "      <td>Brooklyn</td>\n",
              "      <td>Kensington</td>\n",
              "      <td>Sala privada</td>\n",
              "      <td>149.0</td>\n",
              "      <td>1</td>\n",
              "      <td>9</td>\n",
              "      <td>2018-10-19</td>\n",
              "      <td>0</td>\n",
              "      <td>6</td>\n",
              "      <td>365</td>\n",
              "    </tr>\n",
              "    <tr>\n",
              "      <th>1</th>\n",
              "      <td>2595</td>\n",
              "      <td>Castelo de Skylit Midtown.</td>\n",
              "      <td>2845</td>\n",
              "      <td>Jennifer</td>\n",
              "      <td>Manhattan</td>\n",
              "      <td>Midtown</td>\n",
              "      <td>Casa / apto inteiro</td>\n",
              "      <td>225.0</td>\n",
              "      <td>1</td>\n",
              "      <td>45</td>\n",
              "      <td>2019-05-21</td>\n",
              "      <td>0</td>\n",
              "      <td>2</td>\n",
              "      <td>355</td>\n",
              "    </tr>\n",
              "    <tr>\n",
              "      <th>2</th>\n",
              "      <td>3647</td>\n",
              "      <td>A aldeia de Harlem . Nova York!</td>\n",
              "      <td>4632</td>\n",
              "      <td>Elisabeth</td>\n",
              "      <td>Manhattan</td>\n",
              "      <td>Harlem</td>\n",
              "      <td>Sala privada</td>\n",
              "      <td>150.0</td>\n",
              "      <td>3</td>\n",
              "      <td>0</td>\n",
              "      <td>1980-01-01</td>\n",
              "      <td>0</td>\n",
              "      <td>1</td>\n",
              "      <td>365</td>\n",
              "    </tr>\n",
              "    <tr>\n",
              "      <th>3</th>\n",
              "      <td>3831</td>\n",
              "      <td>Aconchegante inteiro de quartoownstone</td>\n",
              "      <td>4869</td>\n",
              "      <td>LisaRoxanne</td>\n",
              "      <td>Brooklyn</td>\n",
              "      <td>Clinton Hill</td>\n",
              "      <td>Casa / apto inteiro</td>\n",
              "      <td>89.0</td>\n",
              "      <td>1</td>\n",
              "      <td>270</td>\n",
              "      <td>2019-07-05</td>\n",
              "      <td>4</td>\n",
              "      <td>1</td>\n",
              "      <td>194</td>\n",
              "    </tr>\n",
              "    <tr>\n",
              "      <th>5</th>\n",
              "      <td>5099</td>\n",
              "      <td>Grande apartamento aconchegante 1 quarto em Mi...</td>\n",
              "      <td>7322</td>\n",
              "      <td>Chris</td>\n",
              "      <td>Manhattan</td>\n",
              "      <td>Murray Hill</td>\n",
              "      <td>Casa / apto inteiro</td>\n",
              "      <td>200.0</td>\n",
              "      <td>3</td>\n",
              "      <td>74</td>\n",
              "      <td>2019-06-22</td>\n",
              "      <td>0</td>\n",
              "      <td>1</td>\n",
              "      <td>129</td>\n",
              "    </tr>\n",
              "    <tr>\n",
              "      <th>...</th>\n",
              "      <td>...</td>\n",
              "      <td>...</td>\n",
              "      <td>...</td>\n",
              "      <td>...</td>\n",
              "      <td>...</td>\n",
              "      <td>...</td>\n",
              "      <td>...</td>\n",
              "      <td>...</td>\n",
              "      <td>...</td>\n",
              "      <td>...</td>\n",
              "      <td>...</td>\n",
              "      <td>...</td>\n",
              "      <td>...</td>\n",
              "      <td>...</td>\n",
              "    </tr>\n",
              "    <tr>\n",
              "      <th>48874</th>\n",
              "      <td>36484665</td>\n",
              "      <td>Encantador um quarto - Rowhouse recentemente r...</td>\n",
              "      <td>8232441</td>\n",
              "      <td>Sabrina</td>\n",
              "      <td>Brooklyn</td>\n",
              "      <td>Bedford-Stuyvesant</td>\n",
              "      <td>Sala privada</td>\n",
              "      <td>70.0</td>\n",
              "      <td>2</td>\n",
              "      <td>0</td>\n",
              "      <td>1980-01-01</td>\n",
              "      <td>0</td>\n",
              "      <td>2</td>\n",
              "      <td>9</td>\n",
              "    </tr>\n",
              "    <tr>\n",
              "      <th>48875</th>\n",
              "      <td>36485057</td>\n",
              "      <td>Quarto Acessível em Bushwick  East Williamsburg</td>\n",
              "      <td>6570630</td>\n",
              "      <td>Marisol</td>\n",
              "      <td>Brooklyn</td>\n",
              "      <td>Bushwick</td>\n",
              "      <td>Sala privada</td>\n",
              "      <td>40.0</td>\n",
              "      <td>4</td>\n",
              "      <td>0</td>\n",
              "      <td>1980-01-01</td>\n",
              "      <td>0</td>\n",
              "      <td>2</td>\n",
              "      <td>36</td>\n",
              "    </tr>\n",
              "    <tr>\n",
              "      <th>48876</th>\n",
              "      <td>36485431</td>\n",
              "      <td>Estúdio ensolarado na vizinhança histórica</td>\n",
              "      <td>23492952</td>\n",
              "      <td>Ilgar &amp; Aysel</td>\n",
              "      <td>Manhattan</td>\n",
              "      <td>Harlem</td>\n",
              "      <td>Casa / apto inteiro</td>\n",
              "      <td>115.0</td>\n",
              "      <td>10</td>\n",
              "      <td>0</td>\n",
              "      <td>1980-01-01</td>\n",
              "      <td>0</td>\n",
              "      <td>1</td>\n",
              "      <td>27</td>\n",
              "    </tr>\n",
              "    <tr>\n",
              "      <th>48877</th>\n",
              "      <td>36485609</td>\n",
              "      <td>43rd St. Time Square Aconchegante Solteiro Cama</td>\n",
              "      <td>30985759</td>\n",
              "      <td>Taz</td>\n",
              "      <td>Manhattan</td>\n",
              "      <td>Hell's Kitchen</td>\n",
              "      <td>Quarto compartilhado</td>\n",
              "      <td>55.0</td>\n",
              "      <td>1</td>\n",
              "      <td>0</td>\n",
              "      <td>1980-01-01</td>\n",
              "      <td>0</td>\n",
              "      <td>6</td>\n",
              "      <td>2</td>\n",
              "    </tr>\n",
              "    <tr>\n",
              "      <th>48878</th>\n",
              "      <td>36487245</td>\n",
              "      <td>Duplex na moda no coração da cozinha do inferno</td>\n",
              "      <td>68119814</td>\n",
              "      <td>Christophe</td>\n",
              "      <td>Manhattan</td>\n",
              "      <td>Hell's Kitchen</td>\n",
              "      <td>Sala privada</td>\n",
              "      <td>90.0</td>\n",
              "      <td>7</td>\n",
              "      <td>0</td>\n",
              "      <td>1980-01-01</td>\n",
              "      <td>0</td>\n",
              "      <td>1</td>\n",
              "      <td>23</td>\n",
              "    </tr>\n",
              "  </tbody>\n",
              "</table>\n",
              "<p>31347 rows × 14 columns</p>\n",
              "</div>\n",
              "      <button class=\"colab-df-convert\" onclick=\"convertToInteractive('df-a3dec3df-931e-4b13-8358-24d86c47d727')\"\n",
              "              title=\"Convert this dataframe to an interactive table.\"\n",
              "              style=\"display:none;\">\n",
              "        \n",
              "  <svg xmlns=\"http://www.w3.org/2000/svg\" height=\"24px\"viewBox=\"0 0 24 24\"\n",
              "       width=\"24px\">\n",
              "    <path d=\"M0 0h24v24H0V0z\" fill=\"none\"/>\n",
              "    <path d=\"M18.56 5.44l.94 2.06.94-2.06 2.06-.94-2.06-.94-.94-2.06-.94 2.06-2.06.94zm-11 1L8.5 8.5l.94-2.06 2.06-.94-2.06-.94L8.5 2.5l-.94 2.06-2.06.94zm10 10l.94 2.06.94-2.06 2.06-.94-2.06-.94-.94-2.06-.94 2.06-2.06.94z\"/><path d=\"M17.41 7.96l-1.37-1.37c-.4-.4-.92-.59-1.43-.59-.52 0-1.04.2-1.43.59L10.3 9.45l-7.72 7.72c-.78.78-.78 2.05 0 2.83L4 21.41c.39.39.9.59 1.41.59.51 0 1.02-.2 1.41-.59l7.78-7.78 2.81-2.81c.8-.78.8-2.07 0-2.86zM5.41 20L4 18.59l7.72-7.72 1.47 1.35L5.41 20z\"/>\n",
              "  </svg>\n",
              "      </button>\n",
              "      \n",
              "  <style>\n",
              "    .colab-df-container {\n",
              "      display:flex;\n",
              "      flex-wrap:wrap;\n",
              "      gap: 12px;\n",
              "    }\n",
              "\n",
              "    .colab-df-convert {\n",
              "      background-color: #E8F0FE;\n",
              "      border: none;\n",
              "      border-radius: 50%;\n",
              "      cursor: pointer;\n",
              "      display: none;\n",
              "      fill: #1967D2;\n",
              "      height: 32px;\n",
              "      padding: 0 0 0 0;\n",
              "      width: 32px;\n",
              "    }\n",
              "\n",
              "    .colab-df-convert:hover {\n",
              "      background-color: #E2EBFA;\n",
              "      box-shadow: 0px 1px 2px rgba(60, 64, 67, 0.3), 0px 1px 3px 1px rgba(60, 64, 67, 0.15);\n",
              "      fill: #174EA6;\n",
              "    }\n",
              "\n",
              "    [theme=dark] .colab-df-convert {\n",
              "      background-color: #3B4455;\n",
              "      fill: #D2E3FC;\n",
              "    }\n",
              "\n",
              "    [theme=dark] .colab-df-convert:hover {\n",
              "      background-color: #434B5C;\n",
              "      box-shadow: 0px 1px 3px 1px rgba(0, 0, 0, 0.15);\n",
              "      filter: drop-shadow(0px 1px 2px rgba(0, 0, 0, 0.3));\n",
              "      fill: #FFFFFF;\n",
              "    }\n",
              "  </style>\n",
              "\n",
              "      <script>\n",
              "        const buttonEl =\n",
              "          document.querySelector('#df-a3dec3df-931e-4b13-8358-24d86c47d727 button.colab-df-convert');\n",
              "        buttonEl.style.display =\n",
              "          google.colab.kernel.accessAllowed ? 'block' : 'none';\n",
              "\n",
              "        async function convertToInteractive(key) {\n",
              "          const element = document.querySelector('#df-a3dec3df-931e-4b13-8358-24d86c47d727');\n",
              "          const dataTable =\n",
              "            await google.colab.kernel.invokeFunction('convertToInteractive',\n",
              "                                                     [key], {});\n",
              "          if (!dataTable) return;\n",
              "\n",
              "          const docLinkHtml = 'Like what you see? Visit the ' +\n",
              "            '<a target=\"_blank\" href=https://colab.research.google.com/notebooks/data_table.ipynb>data table notebook</a>'\n",
              "            + ' to learn more about interactive tables.';\n",
              "          element.innerHTML = '';\n",
              "          dataTable['output_type'] = 'display_data';\n",
              "          await google.colab.output.renderOutput(dataTable, element);\n",
              "          const docLink = document.createElement('div');\n",
              "          docLink.innerHTML = docLinkHtml;\n",
              "          element.appendChild(docLink);\n",
              "        }\n",
              "      </script>\n",
              "    </div>\n",
              "  </div>\n",
              "  "
            ],
            "text/plain": [
              "             id  ... disponibilidade_365\n",
              "0          2539  ...                 365\n",
              "1          2595  ...                 355\n",
              "2          3647  ...                 365\n",
              "3          3831  ...                 194\n",
              "5          5099  ...                 129\n",
              "...         ...  ...                 ...\n",
              "48874  36484665  ...                   9\n",
              "48875  36485057  ...                  36\n",
              "48876  36485431  ...                  27\n",
              "48877  36485609  ...                   2\n",
              "48878  36487245  ...                  23\n",
              "\n",
              "[31347 rows x 14 columns]"
            ]
          },
          "metadata": {},
          "execution_count": 47
        }
      ]
    },
    {
      "cell_type": "markdown",
      "metadata": {
        "id": "pSVpsc0_9wj9"
      },
      "source": [
        "salvando arquivo pandas com tratamento de limpeza no drive\n",
        "\n"
      ]
    },
    {
      "cell_type": "code",
      "execution_count": null,
      "metadata": {
        "id": "sr8Y7XFN9vq6"
      },
      "outputs": [],
      "source": [
        "df4_traduzido.to_csv(\"4_tratado.csv\", index=False)"
      ]
    },
    {
      "cell_type": "markdown",
      "metadata": {
        "id": "BmM0bm6ebIGZ"
      },
      "source": [
        "\n",
        "--------------------------------------------------------------------------------\n",
        "\n",
        "# **PYSPARK**\n",
        "\n",
        "**Nivel PySpark** \n",
        "(Funções básicas vistas em aula)\n",
        "Deverá ser montada a estrutura do DataFrame utilizando o StructType\n",
        "Realizar a mudança de nome de pelo menos 2 colunas\n",
        "Deverá criar pelo menos uma nova coluna contendo alguma informação relevante sobre as outras colunas já existentes(Use a sua capacidade analítica)\n",
        "Deverá utilizar as funções: where, filter, orderBy, groupBy, when - otherWise, sum e avg.\n",
        "Utilizar pelo menos uma Window Functions\n",
        "Exportar o arquivo final\n",
        "\n"
      ]
    },
    {
      "cell_type": "markdown",
      "metadata": {
        "id": "6yMSRlAWSGph"
      },
      "source": [
        "Instalação das bibliotecas necessárias"
      ]
    },
    {
      "cell_type": "code",
      "execution_count": null,
      "metadata": {
        "id": "XNGjPRsFbeUi",
        "colab": {
          "base_uri": "https://localhost:8080/"
        },
        "outputId": "e540c349-097f-4ec2-9268-e3edd5afd31f"
      },
      "outputs": [
        {
          "output_type": "stream",
          "name": "stdout",
          "text": [
            "Collecting pyspark\n",
            "  Downloading pyspark-3.2.0.tar.gz (281.3 MB)\n",
            "\u001b[K     |████████████████████████████████| 281.3 MB 38 kB/s \n",
            "\u001b[?25hCollecting py4j==0.10.9.2\n",
            "  Downloading py4j-0.10.9.2-py2.py3-none-any.whl (198 kB)\n",
            "\u001b[K     |████████████████████████████████| 198 kB 54.8 MB/s \n",
            "\u001b[?25hBuilding wheels for collected packages: pyspark\n",
            "  Building wheel for pyspark (setup.py) ... \u001b[?25l\u001b[?25hdone\n",
            "  Created wheel for pyspark: filename=pyspark-3.2.0-py2.py3-none-any.whl size=281805911 sha256=53fbc91eaf23ae32827ea24f908ff5baaa853cd1681756173d1ab4ce6a0d4638\n",
            "  Stored in directory: /root/.cache/pip/wheels/0b/de/d2/9be5d59d7331c6c2a7c1b6d1a4f463ce107332b1ecd4e80718\n",
            "Successfully built pyspark\n",
            "Installing collected packages: py4j, pyspark\n",
            "Successfully installed py4j-0.10.9.2 pyspark-3.2.0\n"
          ]
        }
      ],
      "source": [
        "pip install pyspark"
      ]
    },
    {
      "cell_type": "code",
      "execution_count": null,
      "metadata": {
        "id": "8OKVVmTsb_ZZ"
      },
      "outputs": [],
      "source": [
        "# Importando as bibliotecas e tipos para as variáveis\n",
        "from pyspark.sql import SparkSession\n",
        "import pandas as pd\n",
        "from pyspark.sql.types import *\n",
        "import pyspark.sql.functions as F\n",
        "from pyspark.sql.types import StructType, StructField, StringType, IntegerType, DoubleType\n",
        "from pyspark.sql.window import Window as w\n",
        "from pyspark.sql.functions import rank, dense_rank\n",
        "import numpy as np\n"
      ]
    },
    {
      "cell_type": "code",
      "execution_count": null,
      "metadata": {
        "id": "lmoNlFdrhhcl"
      },
      "outputs": [],
      "source": [
        "# Criando uma sessão para o SPARK\n",
        "spark = (\n",
        "    SparkSession.builder\n",
        "      .master('local')\n",
        "      .appName('aprimoramento_1')\n",
        "      .config('spark.ui.port', '4050')\n",
        "      .getOrCreate()\n",
        ")"
      ]
    },
    {
      "cell_type": "code",
      "execution_count": null,
      "metadata": {
        "id": "ypM7jQxpybIO",
        "colab": {
          "base_uri": "https://localhost:8080/",
          "height": 219
        },
        "outputId": "02b76139-d6c7-4076-9328-cd7ee52e9e0c"
      },
      "outputs": [
        {
          "output_type": "execute_result",
          "data": {
            "text/html": [
              "\n",
              "            <div>\n",
              "                <p><b>SparkSession - in-memory</b></p>\n",
              "                \n",
              "        <div>\n",
              "            <p><b>SparkContext</b></p>\n",
              "\n",
              "            <p><a href=\"http://f0055f266a80:4050\">Spark UI</a></p>\n",
              "\n",
              "            <dl>\n",
              "              <dt>Version</dt>\n",
              "                <dd><code>v3.2.0</code></dd>\n",
              "              <dt>Master</dt>\n",
              "                <dd><code>local</code></dd>\n",
              "              <dt>AppName</dt>\n",
              "                <dd><code>aprimoramento_1</code></dd>\n",
              "            </dl>\n",
              "        </div>\n",
              "        \n",
              "            </div>\n",
              "        "
            ],
            "text/plain": [
              "<pyspark.sql.session.SparkSession at 0x7ff02c725510>"
            ]
          },
          "metadata": {},
          "execution_count": 52
        }
      ],
      "source": [
        "spark"
      ]
    },
    {
      "cell_type": "code",
      "execution_count": null,
      "metadata": {
        "id": "jBSrF7tZlnBI"
      },
      "outputs": [],
      "source": [
        "# Definindo os tipos de dados e a ordem do cabeçalho\n",
        "esquema = StructType([ \n",
        "      StructField(\"id\",IntegerType(),False),\n",
        "      StructField(\"nome\",StringType(),False),\n",
        "      StructField(\"id_anfitriao\",IntegerType(),False),\n",
        "      StructField(\"nome_anfitriao\",StringType(),False),\n",
        "      StructField(\"grupo_bairro\",StringType(),False),\n",
        "      StructField(\"bairro\",StringType(),False),\n",
        "      StructField(\"tipo_de_quarto\",StringType(),False),\n",
        "      StructField(\"preco\",DoubleType(),False),\n",
        "      StructField(\"minimo_de_noites\",IntegerType(),False),\n",
        "      StructField(\"numero_de_avaliacoes\",StringType(),False),\n",
        "      StructField(\"ultima_avaliacao\",StringType(),False),\n",
        "      StructField(\"quantidade_avaliacoes\",IntegerType(),False),\n",
        "      StructField(\"soma_propriedades_anfitriao\",StringType(),False),\n",
        "      StructField(\"disponibilidade_365\",IntegerType(),False)\n",
        "])\n",
        "# Importando o CSV tratado no Pyspark\n",
        "local= (\"/content/4_tratado.csv\")\n",
        "df_pyspark = spark.read.load(local, format=\"csv\", header=\"True\", sep=',', schema=esquema)\n"
      ]
    },
    {
      "cell_type": "code",
      "execution_count": null,
      "metadata": {
        "id": "kjRnkHNbh_wn",
        "colab": {
          "base_uri": "https://localhost:8080/"
        },
        "outputId": "2203b4d9-15ed-4f65-ec35-28b591bcc845"
      },
      "outputs": [
        {
          "output_type": "stream",
          "name": "stdout",
          "text": [
            "root\n",
            " |-- id: integer (nullable = true)\n",
            " |-- nome: string (nullable = true)\n",
            " |-- id_anfitriao: integer (nullable = true)\n",
            " |-- nome_anfitriao: string (nullable = true)\n",
            " |-- grupo_bairro: string (nullable = true)\n",
            " |-- bairro: string (nullable = true)\n",
            " |-- tipo_de_quarto: string (nullable = true)\n",
            " |-- preco: double (nullable = true)\n",
            " |-- minimo_de_noites: integer (nullable = true)\n",
            " |-- numero_de_avaliacoes: string (nullable = true)\n",
            " |-- ultima_avaliacao: string (nullable = true)\n",
            " |-- quantidade_avaliacoes: integer (nullable = true)\n",
            " |-- soma_propriedades_anfitriao: string (nullable = true)\n",
            " |-- disponibilidade_365: integer (nullable = true)\n",
            "\n",
            "+----+--------------------+------------+----------------+------------+------------------+-------------------+-----+----------------+--------------------+----------------+---------------------+---------------------------+-------------------+\n",
            "|  id|                nome|id_anfitriao|  nome_anfitriao|grupo_bairro|            bairro|     tipo_de_quarto|preco|minimo_de_noites|numero_de_avaliacoes|ultima_avaliacao|quantidade_avaliacoes|soma_propriedades_anfitriao|disponibilidade_365|\n",
            "+----+--------------------+------------+----------------+------------+------------------+-------------------+-----+----------------+--------------------+----------------+---------------------+---------------------------+-------------------+\n",
            "|2539|Limpo e tranquilo...|        2787|            John|    Brooklyn|        Kensington|       Sala privada|149.0|               1|                   9|      2018-10-19|                    0|                          6|                365|\n",
            "|2595|Castelo de Skylit...|        2845|        Jennifer|   Manhattan|           Midtown|Casa / apto inteiro|225.0|               1|                  45|      2019-05-21|                    0|                          2|                355|\n",
            "|3647|A aldeia de Harle...|        4632|       Elisabeth|   Manhattan|            Harlem|       Sala privada|150.0|               3|                   0|      1980-01-01|                    0|                          1|                365|\n",
            "|3831|Aconchegante inte...|        4869|     LisaRoxanne|    Brooklyn|      Clinton Hill|Casa / apto inteiro| 89.0|               1|                 270|      2019-07-05|                    4|                          1|                194|\n",
            "|5099|Grande apartament...|        7322|           Chris|   Manhattan|       Murray Hill|Casa / apto inteiro|200.0|               3|                  74|      2019-06-22|                    0|                          1|                129|\n",
            "|5178|Grande quarto mob...|        8967|        Shunichi|   Manhattan|    Hell's Kitchen|       Sala privada| 79.0|               2|                 430|      2019-06-24|                    3|                          1|                220|\n",
            "|5238|Bonito e acolhedo...|        7549|             Ben|   Manhattan|         Chinatown|Casa / apto inteiro|150.0|               1|                 160|      2019-06-09|                    1|                          4|                188|\n",
            "|5295|Bela 1 quarto no ...|        7702|            Lena|   Manhattan|   Upper West Side|Casa / apto inteiro|135.0|               5|                  53|      2019-06-22|                    0|                          1|                  6|\n",
            "|5441|Manhattan central...|        7989|            Kate|   Manhattan|    Hell's Kitchen|       Sala privada| 85.0|               2|                 188|      2019-06-23|                    1|                          1|                 39|\n",
            "|5803|Encantador quarto...|        9744|          Laurie|    Brooklyn|       South Slope|       Sala privada| 89.0|               4|                 167|      2019-06-24|                    1|                          3|                314|\n",
            "|6021|Maravilhoso quart...|       11528|         Claudio|   Manhattan|   Upper West Side|       Sala privada| 85.0|               2|                 113|      2019-07-05|                    0|                          1|                333|\n",
            "|6848|Apenas 2 paragens...|       15991|   Allen & Irina|    Brooklyn|      Williamsburg|Casa / apto inteiro|140.0|               2|                 148|      2019-06-29|                    1|                          1|                 46|\n",
            "|7097|Perfeito para seu...|       17571|            Jane|    Brooklyn|       Fort Greene|Casa / apto inteiro|215.0|               2|                 198|      2019-06-28|                    1|                          1|                321|\n",
            "|7322|    Chelsea perfeito|       18946|            Doti|   Manhattan|           Chelsea|       Sala privada|140.0|               1|                 260|      2019-07-01|                    2|                          1|                 12|\n",
            "|7726|Apartamento histó...|       20950|Adam And Charity|    Brooklyn|     Crown Heights|Casa / apto inteiro| 99.0|               3|                  53|      2019-06-22|                    4|                          1|                 21|\n",
            "|7750|Enorme 2 quartos ...|       17985|            Sing|   Manhattan|       East Harlem|Casa / apto inteiro|190.0|               7|                   0|      1980-01-01|                    0|                          2|                249|\n",
            "|8024|CBG CTYBGD HELPSH...|       22486|           Lisel|    Brooklyn|        Park Slope|       Sala privada|130.0|               2|                 130|      2019-07-01|                    1|                          6|                347|\n",
            "|8025|CBG ajuda o quart...|       22486|           Lisel|    Brooklyn|        Park Slope|       Sala privada| 80.0|               1|                  39|      2019-01-01|                    0|                          6|                364|\n",
            "|8110|CBG ajuda o Haiti...|       22486|           Lisel|    Brooklyn|        Park Slope|       Sala privada|110.0|               2|                  71|      2019-07-02|                    0|                          6|                304|\n",
            "|8490|Maison des Sirene...|       25183|        Nathalie|    Brooklyn|Bedford-Stuyvesant|Casa / apto inteiro|120.0|               2|                  88|      2019-06-19|                    0|                          2|                233|\n",
            "+----+--------------------+------------+----------------+------------+------------------+-------------------+-----+----------------+--------------------+----------------+---------------------+---------------------------+-------------------+\n",
            "only showing top 20 rows\n",
            "\n"
          ]
        }
      ],
      "source": [
        "df_pyspark.printSchema()\n",
        "df_pyspark.show()"
      ]
    },
    {
      "cell_type": "code",
      "execution_count": null,
      "metadata": {
        "id": "f5GODrtOprWH"
      },
      "outputs": [],
      "source": [
        "# faz uma seleção apenas dos que têm pelo menos um imóvel\n",
        "#df_pyspark = df_pyspark[df_pyspark['soma_propriedades_anfitriao'] != '0'].show()"
      ]
    },
    {
      "cell_type": "code",
      "execution_count": null,
      "metadata": {
        "id": "gy_KqIQa1sPp",
        "colab": {
          "base_uri": "https://localhost:8080/"
        },
        "outputId": "688885b3-72f7-4edf-c08e-74f856919e27"
      },
      "outputs": [
        {
          "output_type": "stream",
          "name": "stdout",
          "text": [
            "+----+--------------------+------------+----------------+------------+------------------+-------------------+-----+----------------+----------------+----------------+--------------+---------------------------+-------------------+\n",
            "|  id|             anuncio|id_anfitriao|  nome_anfitriao|grupo_bairro|            bairro|     tipo_de_quarto|preco|minimo_de_noites|total_avaliacoes|ultima_avaliacao|avaliacoes_mes|soma_propriedades_anfitriao|disponibilidade_365|\n",
            "+----+--------------------+------------+----------------+------------+------------------+-------------------+-----+----------------+----------------+----------------+--------------+---------------------------+-------------------+\n",
            "|2539|Limpo e tranquilo...|        2787|            John|    Brooklyn|        Kensington|       Sala privada|149.0|               1|               9|      2018-10-19|             0|                          6|                365|\n",
            "|2595|Castelo de Skylit...|        2845|        Jennifer|   Manhattan|           Midtown|Casa / apto inteiro|225.0|               1|              45|      2019-05-21|             0|                          2|                355|\n",
            "|3647|A aldeia de Harle...|        4632|       Elisabeth|   Manhattan|            Harlem|       Sala privada|150.0|               3|               0|      1980-01-01|             0|                          1|                365|\n",
            "|3831|Aconchegante inte...|        4869|     LisaRoxanne|    Brooklyn|      Clinton Hill|Casa / apto inteiro| 89.0|               1|             270|      2019-07-05|             4|                          1|                194|\n",
            "|5099|Grande apartament...|        7322|           Chris|   Manhattan|       Murray Hill|Casa / apto inteiro|200.0|               3|              74|      2019-06-22|             0|                          1|                129|\n",
            "|5178|Grande quarto mob...|        8967|        Shunichi|   Manhattan|    Hell's Kitchen|       Sala privada| 79.0|               2|             430|      2019-06-24|             3|                          1|                220|\n",
            "|5238|Bonito e acolhedo...|        7549|             Ben|   Manhattan|         Chinatown|Casa / apto inteiro|150.0|               1|             160|      2019-06-09|             1|                          4|                188|\n",
            "|5295|Bela 1 quarto no ...|        7702|            Lena|   Manhattan|   Upper West Side|Casa / apto inteiro|135.0|               5|              53|      2019-06-22|             0|                          1|                  6|\n",
            "|5441|Manhattan central...|        7989|            Kate|   Manhattan|    Hell's Kitchen|       Sala privada| 85.0|               2|             188|      2019-06-23|             1|                          1|                 39|\n",
            "|5803|Encantador quarto...|        9744|          Laurie|    Brooklyn|       South Slope|       Sala privada| 89.0|               4|             167|      2019-06-24|             1|                          3|                314|\n",
            "|6021|Maravilhoso quart...|       11528|         Claudio|   Manhattan|   Upper West Side|       Sala privada| 85.0|               2|             113|      2019-07-05|             0|                          1|                333|\n",
            "|6848|Apenas 2 paragens...|       15991|   Allen & Irina|    Brooklyn|      Williamsburg|Casa / apto inteiro|140.0|               2|             148|      2019-06-29|             1|                          1|                 46|\n",
            "|7097|Perfeito para seu...|       17571|            Jane|    Brooklyn|       Fort Greene|Casa / apto inteiro|215.0|               2|             198|      2019-06-28|             1|                          1|                321|\n",
            "|7322|    Chelsea perfeito|       18946|            Doti|   Manhattan|           Chelsea|       Sala privada|140.0|               1|             260|      2019-07-01|             2|                          1|                 12|\n",
            "|7726|Apartamento histó...|       20950|Adam And Charity|    Brooklyn|     Crown Heights|Casa / apto inteiro| 99.0|               3|              53|      2019-06-22|             4|                          1|                 21|\n",
            "|7750|Enorme 2 quartos ...|       17985|            Sing|   Manhattan|       East Harlem|Casa / apto inteiro|190.0|               7|               0|      1980-01-01|             0|                          2|                249|\n",
            "|8024|CBG CTYBGD HELPSH...|       22486|           Lisel|    Brooklyn|        Park Slope|       Sala privada|130.0|               2|             130|      2019-07-01|             1|                          6|                347|\n",
            "|8025|CBG ajuda o quart...|       22486|           Lisel|    Brooklyn|        Park Slope|       Sala privada| 80.0|               1|              39|      2019-01-01|             0|                          6|                364|\n",
            "|8110|CBG ajuda o Haiti...|       22486|           Lisel|    Brooklyn|        Park Slope|       Sala privada|110.0|               2|              71|      2019-07-02|             0|                          6|                304|\n",
            "|8490|Maison des Sirene...|       25183|        Nathalie|    Brooklyn|Bedford-Stuyvesant|Casa / apto inteiro|120.0|               2|              88|      2019-06-19|             0|                          2|                233|\n",
            "+----+--------------------+------------+----------------+------------+------------------+-------------------+-----+----------------+----------------+----------------+--------------+---------------------------+-------------------+\n",
            "only showing top 20 rows\n",
            "\n"
          ]
        }
      ],
      "source": [
        "# RENOMEANDO COLUNAS\n",
        "df_pyspark = df_pyspark.withColumnRenamed(\"nome\", \"anuncio\")\n",
        "df_pyspark = df_pyspark.withColumnRenamed(\"numero_de_avaliacoes\", \"total_avaliacoes\")\n",
        "df_pyspark = df_pyspark.withColumnRenamed(\"quantidade_avaliacoes\", \"avaliacoes_mes\")\n",
        "df_pyspark.show()"
      ]
    },
    {
      "cell_type": "markdown",
      "metadata": {
        "id": "txqGpLuPfa7Z"
      },
      "source": [
        "O código abaixo verifica os preços médio, minimo e máximo dos quartos por bairro onde está disponível.:"
      ]
    },
    {
      "cell_type": "code",
      "execution_count": null,
      "metadata": {
        "id": "ogz9-A3KYHWs",
        "colab": {
          "base_uri": "https://localhost:8080/"
        },
        "outputId": "0d69f2e6-2969-4ff3-fab5-97ad2c643cd7"
      },
      "outputs": [
        {
          "output_type": "stream",
          "name": "stdout",
          "text": [
            "+------------------+---------+---------+------------------+\n",
            "|            bairro|max_preco|min_preco|       media_preco|\n",
            "+------------------+---------+---------+------------------+\n",
            "|            Corona|    359.0|     23.0|58.725806451612904|\n",
            "|      Richmondtown|     78.0|     78.0|              78.0|\n",
            "|      Prince's Bay|   1250.0|     85.0| 484.3333333333333|\n",
            "|       Westerleigh|    103.0|     40.0|              71.5|\n",
            "|        Mill Basin|    299.0|     85.0|            179.75|\n",
            "|      Civic Center|    950.0|     75.0|             236.0|\n",
            "|        Douglaston|    178.0|     40.0|             82.75|\n",
            "|        Mount Hope|    250.0|     30.0|            85.375|\n",
            "|       Marble Hill|    274.0|     40.0|110.66666666666667|\n",
            "|         Rego Park|    300.0|     30.0| 91.52941176470588|\n",
            "|     Dyker Heights|    170.0|     30.0|              97.7|\n",
            "| Kew Gardens Hills|    399.0|     40.0|124.26315789473684|\n",
            "|      Dongan Hills|     95.0|     37.0| 66.83333333333333|\n",
            "|Financial District|   3000.0|     52.0|240.36888111888112|\n",
            "|       Bay Terrace|    258.0|     32.0|             142.0|\n",
            "|           Midtown|   5100.0|     50.0| 302.2907083716651|\n",
            "|   Jackson Heights|    260.0|     24.0| 80.84666666666666|\n",
            "|           Bayside|   2600.0|     30.0|163.02777777777777|\n",
            "|    Hell's Kitchen|   4100.0|     15.0|213.18326417704012|\n",
            "|        Highbridge|    240.0|     10.0| 69.83333333333333|\n",
            "+------------------+---------+---------+------------------+\n",
            "only showing top 20 rows\n",
            "\n"
          ]
        }
      ],
      "source": [
        "# utilizei a função agg para nomear as colunas calculadas com as funções\n",
        "df_mediabairro = df_pyspark.groupBy(F.col(\"bairro\")).agg(\n",
        "            F.max(\"preco\").alias(\"max_preco\"),\n",
        "            F.min(\"preco\").alias(\"min_preco\"),\n",
        "            F.avg(\"preco\").alias(\"media_preco\"),        \n",
        ")\n",
        "df_mediabairro.show()"
      ]
    },
    {
      "cell_type": "code",
      "execution_count": null,
      "metadata": {
        "id": "fUPPFTOne6Mm",
        "colab": {
          "base_uri": "https://localhost:8080/"
        },
        "outputId": "17310a6b-a8b6-41a5-bd92-4dd26e34faee"
      },
      "outputs": [
        {
          "output_type": "stream",
          "name": "stdout",
          "text": [
            "+--------------------+---------+---------+-----------+----------------+\n",
            "|              bairro|max_preco|min_preco|media_preco|classifica_preco|\n",
            "+--------------------+---------+---------+-----------+----------------+\n",
            "|      Fort Wadsworth|    800.0|    800.0|      800.0|  Acima da Media|\n",
            "|            Sea Gate|   1485.0|     99.0|      570.0|  Acima da Media|\n",
            "|           Riverdale|   2500.0|     49.0|      567.0|  Acima da Media|\n",
            "|             Tribeca|   8500.0|     80.0|      561.0|  Acima da Media|\n",
            "|   Battery Park City|   7500.0|     55.0|      515.0|  Acima da Media|\n",
            "|        Prince's Bay|   1250.0|     85.0|      484.0|  Acima da Media|\n",
            "|   Flatiron District|   1750.0|     95.0|      382.0|  Acima da Media|\n",
            "|       Randall Manor|   5000.0|     13.0|      336.0|  Acima da Media|\n",
            "|                NoHo|   1795.0|     80.0|      331.0|  Acima da Media|\n",
            "|                SoHo|   3000.0|     64.0|      320.0|  Acima da Media|\n",
            "|             Midtown|   5100.0|     50.0|      302.0|  Acima da Media|\n",
            "|        West Village|   4000.0|     50.0|      299.0|  Acima da Media|\n",
            "|   Greenwich Village|   3900.0|     43.0|      283.0|  Acima da Media|\n",
            "|              Nolita|   5000.0|     59.0|      276.0|  Acima da Media|\n",
            "|            Neponsit|    350.0|    200.0|      275.0|  Acima da Media|\n",
            "|             Chelsea|   6800.0|     12.0|      264.0|  Acima da Media|\n",
            "|         Willowbrook|    249.0|    249.0|      249.0|  Acima da Media|\n",
            "|            Gramercy|   3000.0|     57.0|      248.0|  Acima da Media|\n",
            "|    Theater District|   3000.0|     40.0|      245.0|  Acima da Media|\n",
            "|         Cobble Hill|   1750.0|     70.0|      242.0|  Acima da Media|\n",
            "|  Financial District|   3000.0|     52.0|      240.0|  Acima da Media|\n",
            "|     Upper West Side|  10000.0|     11.0|      239.0|  Acima da Media|\n",
            "|    Brooklyn Heights|   1095.0|     45.0|      238.0|  Acima da Media|\n",
            "|        Civic Center|    950.0|     75.0|      236.0|  Acima da Media|\n",
            "|         Murray Hill|   1177.0|     43.0|      231.0|  Acima da Media|\n",
            "|               DUMBO|    400.0|    105.0|      216.0|  Acima da Media|\n",
            "|     Lower East Side|   9999.0|     29.0|      216.0|  Acima da Media|\n",
            "|      Hell's Kitchen|   4100.0|     15.0|      213.0|  Acima da Media|\n",
            "|        Breezy Point|    250.0|    195.0|      213.0|  Acima da Media|\n",
            "|            Kips Bay|    900.0|     10.0|      209.0|  Acima da Media|\n",
            "|    Prospect Heights|   4000.0|     35.0|      208.0|  Acima da Media|\n",
            "|        Clinton Hill|   8000.0|     35.0|      206.0|  Acima da Media|\n",
            "|     Upper East Side|   7703.0|     16.0|      206.0|  Acima da Media|\n",
            "|        East Village|   3518.0|     10.0|      202.0|  Acima da Media|\n",
            "|         Boerum Hill|    900.0|     59.0|      201.0|  Acima da Media|\n",
            "|          Park Slope|   2626.0|     45.0|      199.0|  Acima da Media|\n",
            "|     Carroll Gardens|   1395.0|     49.0|      188.0|  Acima da Media|\n",
            "|         Columbia St|   1080.0|     55.0|      186.0|  Acima da Media|\n",
            "|        Vinegar Hill|    550.0|     69.0|      185.0|  Acima da Media|\n",
            "|          Mill Basin|    299.0|     85.0|      180.0|  Acima da Media|\n",
            "|           Chinatown|   1500.0|     50.0|      178.0|  Acima da Media|\n",
            "|         City Island|   1000.0|     29.0|      178.0|  Acima da Media|\n",
            "|             Gowanus|   1333.0|     35.0|      177.0|  Acima da Media|\n",
            "|             Arverne|   1500.0|     35.0|      174.0|  Acima da Media|\n",
            "|   Downtown Brooklyn|    650.0|     39.0|      173.0|  Acima da Media|\n",
            "|        Belle Harbor|    350.0|     85.0|      172.0|  Acima da Media|\n",
            "|        Little Italy|    699.0|     51.0|      171.0|  Acima da Media|\n",
            "|           Bay Ridge|   4200.0|     30.0|      170.0|  Acima da Media|\n",
            "|        Far Rockaway|    900.0|     35.0|      167.0|  Acima da Media|\n",
            "|             Bayside|   2600.0|     30.0|      163.0|  Acima da Media|\n",
            "|        Williamsburg|   4500.0|     10.0|      161.0| Abaixo da Media|\n",
            "|     Lighthouse Hill|    200.0|    115.0|      158.0| Abaixo da Media|\n",
            "|         Fort Greene|    999.0|     25.0|      158.0| Abaixo da Media|\n",
            "|       Jamaica Hills|    325.0|     65.0|      157.0| Abaixo da Media|\n",
            "|      Spuyten Duyvil|    360.0|     60.0|      155.0| Abaixo da Media|\n",
            "|          Greenpoint|    975.0|     10.0|      154.0| Abaixo da Media|\n",
            "|         Grymes Hill|    300.0|     89.0|      152.0| Abaixo da Media|\n",
            "|     Jamaica Estates|    398.0|     35.0|      151.0| Abaixo da Media|\n",
            "|         South Slope|    500.0|     40.0|      150.0| Abaixo da Media|\n",
            "|          Holliswood|    239.0|     79.0|      148.0| Abaixo da Media|\n",
            "|            Red Hook|    750.0|     38.0|      148.0| Abaixo da Media|\n",
            "|    Roosevelt Island|   1400.0|     43.0|      147.0| Abaixo da Media|\n",
            "|           Navy Yard|    175.0|    125.0|      146.0| Abaixo da Media|\n",
            "|         Tottenville|    299.0|     70.0|      145.0| Abaixo da Media|\n",
            "|         Eastchester|    475.0|     45.0|      142.0| Abaixo da Media|\n",
            "|         Bay Terrace|    258.0|     32.0|      142.0| Abaixo da Media|\n",
            "|         Eltingville|    299.0|     56.0|      142.0| Abaixo da Media|\n",
            "|     Windsor Terrace|    450.0|     38.0|      142.0| Abaixo da Media|\n",
            "|      Brighton Beach|   3000.0|     30.0|      138.0| Abaixo da Media|\n",
            "|        Coney Island|    450.0|     25.0|      138.0| Abaixo da Media|\n",
            "|           Unionport|    450.0|     60.0|      137.0| Abaixo da Media|\n",
            "|    Long Island City|   2000.0|     30.0|      137.0| Abaixo da Media|\n",
            "|      Rockaway Beach|    545.0|     49.0|      136.0| Abaixo da Media|\n",
            "|   Castleton Corners|    299.0|     45.0|      136.0| Abaixo da Media|\n",
            "|        Forest Hills|   2350.0|     16.0|      133.0| Abaixo da Media|\n",
            "|         East Harlem|   2000.0|     34.0|      133.0| Abaixo da Media|\n",
            "|     Stuyvesant Town|    279.0|     55.0|      131.0| Abaixo da Media|\n",
            "|              Harlem|   5000.0|     16.0|      130.0| Abaixo da Media|\n",
            "|           Flatlands|   1700.0|     22.0|      130.0| Abaixo da Media|\n",
            "|  Westchester Square|    670.0|     28.0|      130.0| Abaixo da Media|\n",
            "| Morningside Heights|   1200.0|     34.0|      129.0| Abaixo da Media|\n",
            "|       Crown Heights|   2500.0|     24.0|      128.0| Abaixo da Media|\n",
            "|         Two Bridges|    320.0|     55.0|      127.0| Abaixo da Media|\n",
            "|        Howard Beach|    250.0|     40.0|      126.0| Abaixo da Media|\n",
            "|          St. George|   1000.0|     29.0|      124.0| Abaixo da Media|\n",
            "|   Kew Gardens Hills|    399.0|     40.0|      124.0| Abaixo da Media|\n",
            "|          West Farms|    165.0|     79.0|      122.0| Abaixo da Media|\n",
            "|Prospect-Lefferts...|   2545.0|     22.0|      122.0| Abaixo da Media|\n",
            "|         Shore Acres|    300.0|     54.0|      121.0| Abaixo da Media|\n",
            "|         Sunset Park|   2000.0|     10.0|      118.0| Abaixo da Media|\n",
            "|            Huguenot|    180.0|     75.0|      118.0| Abaixo da Media|\n",
            "|            Arrochar|    625.0|     32.0|      115.0| Abaixo da Media|\n",
            "|  Bedford-Stuyvesant|   5000.0|     19.0|      115.0| Abaixo da Media|\n",
            "|            Van Nest|    425.0|     20.0|      114.0| Abaixo da Media|\n",
            "|          Whitestone|    400.0|     35.0|      114.0| Abaixo da Media|\n",
            "|           Briarwood|   1000.0|     30.0|      113.0| Abaixo da Media|\n",
            "|         Marble Hill|    274.0|     40.0|      111.0| Abaixo da Media|\n",
            "|      Middle Village|    265.0|     28.0|      111.0| Abaixo da Media|\n",
            "|      Sheepshead Bay|   2000.0|     20.0|      111.0| Abaixo da Media|\n",
            "|             Astoria|   1800.0|     25.0|      110.0| Abaixo da Media|\n",
            "+--------------------+---------+---------+-----------+----------------+\n",
            "only showing top 100 rows\n",
            "\n"
          ]
        }
      ],
      "source": [
        "# com os comandos when , otherwise e whithcolumn\n",
        "# Esta celula de código cria uma coluna que identifica quais os estabelecimentos mais caros e mais baratos por bairro\n",
        "# A média geral de preços é 161.40 então, os mais baratos estão abaixo desta média e os mais caros acima dela.(acima da média e abaixo da média)\n",
        "df_mediabairro = (\n",
        "df_mediabairro.withColumn('classifica_preco', F.when(df_mediabairro['media_preco'] > 162.09, 'Acima da Media').otherwise('Abaixo da Media')))\n",
        "# seleciono duas casas decimais e ordeno a média de preço por bairro em ordem decrescente de valor\n",
        "df_mediabairro = df_mediabairro[df_mediabairro['bairro']!='2'].withColumn(\"media_preco\", F.round(df_mediabairro[\"media_preco\"])\n",
        ").orderBy(F.col('media_preco').desc()).show(100)"
      ]
    },
    {
      "cell_type": "markdown",
      "metadata": {
        "id": "tKnGHsniJZXQ"
      },
      "source": [
        "\n",
        "\n",
        "\n",
        "**Com esta análise na célula abaixo, verifiquei que alguns diferentes proprietários possuem o mesmo tipo e a mesma quantidade de quartos/salas, mas o número de avaliações recebidas é muito diferente.**(tendo o mesmo tipo de quarto e a mensma quantidade de imóveis, um tem 0 avaliações e outro mais de 500 avaliaçoes e outros com muitos imóveis também não têm avaliações)\n",
        "\n",
        "\n",
        "\n"
      ]
    },
    {
      "cell_type": "code",
      "execution_count": null,
      "metadata": {
        "id": "pEamOCnBJY3E",
        "colab": {
          "base_uri": "https://localhost:8080/"
        },
        "outputId": "4a3ee4fc-fc2f-4be0-cabb-47086480f41f"
      },
      "outputs": [
        {
          "output_type": "stream",
          "name": "stdout",
          "text": [
            "+------------+-------------------+--------------------+----------------+---------------------+\n",
            "|id_anfitriao|     nome_anfitriao|      tipo_de_quarto|total_avaliacoes|total_de_propriedades|\n",
            "+------------+-------------------+--------------------+----------------+---------------------+\n",
            "|     5532810|              Sandy|        Sala privada|              99|                  2.0|\n",
            "|    31304940|               John|        Sala privada|              99|                 16.0|\n",
            "|    78164397|               Mike|        Sala privada|              99|                  1.0|\n",
            "|   151146788|              Rohit| Casa / apto inteiro|              99|                  2.0|\n",
            "|    24982374|              David| Casa / apto inteiro|              99|                  1.0|\n",
            "|    12342828|              Marco|        Sala privada|              99|                  2.0|\n",
            "|    45416627|             Lolita|        Sala privada|              99|                  9.0|\n",
            "|    20243795|               Tony|        Sala privada|              99|                  3.0|\n",
            "|    71241926|               Mike| Casa / apto inteiro|              99|                  1.0|\n",
            "|    14942276|              Susan| Casa / apto inteiro|              99|                  2.0|\n",
            "|       21475|              Milan|        Sala privada|              99|                  1.0|\n",
            "|    81510823|     Ndeye Aissatou|Quarto compartilhado|              99|                  1.0|\n",
            "|      921500|Boubacar And Pattee|        Sala privada|              99|                  1.0|\n",
            "|   106197923|             Huilin| Casa / apto inteiro|              99|                  1.0|\n",
            "|      524730|                 Oz| Casa / apto inteiro|              99|                  2.0|\n",
            "|     3370169|              Lydia| Casa / apto inteiro|              99|                  1.0|\n",
            "|    64825610| Michel And Antoine| Casa / apto inteiro|              99|                  2.0|\n",
            "|    19259290|               Minh|        Sala privada|              99|                  1.0|\n",
            "|   135073646|                Joy| Casa / apto inteiro|              99|                  1.0|\n",
            "|    49082748|             Robert|        Sala privada|              99|                  1.0|\n",
            "+------------+-------------------+--------------------+----------------+---------------------+\n",
            "only showing top 20 rows\n",
            "\n"
          ]
        }
      ],
      "source": [
        "df_propriedade = df_pyspark.groupBy(F.col(\"id_anfitriao\"),F.col(\"nome_anfitriao\"),F.col(\"tipo_de_quarto\"),F.col(\"total_avaliacoes\")).agg(\n",
        "    F.sum(\"soma_propriedades_anfitriao\").alias(\"total_de_propriedades\")).orderBy(F.col('total_avaliacoes').desc()).show()"
      ]
    },
    {
      "cell_type": "code",
      "execution_count": null,
      "metadata": {
        "id": "WsoT1-PeMyDh",
        "colab": {
          "base_uri": "https://localhost:8080/",
          "height": 70
        },
        "outputId": "725be796-3025-4721-9fce-0caf8c48f15b"
      },
      "outputs": [
        {
          "output_type": "execute_result",
          "data": {
            "application/vnd.google.colaboratory.intrinsic+json": {
              "type": "string"
            },
            "text/plain": [
              "\"\\n# windowFunction - particionando o datarame por tipo de quarto e criando um ranking\\nw1 = w.partitionBy(F.col('tipo_de_quarto')).orderBy(F.col('total_avaliacoes').desc())\\ndf_propriedade.groupby(F.col('tipo_de_quarto')).count()\\ndf_propriedade.withColumn('dense_rank', F.dense_rank().over(w1)).show()\\n\""
            ]
          },
          "metadata": {},
          "execution_count": 60
        }
      ],
      "source": [
        "'''\n",
        "# windowFunction - particionando o datarame por tipo de quarto e criando um ranking\n",
        "w1 = w.partitionBy(F.col('tipo_de_quarto')).orderBy(F.col('total_avaliacoes').desc())\n",
        "df_propriedade.groupby(F.col('tipo_de_quarto')).count()\n",
        "df_propriedade.withColumn('dense_rank', F.dense_rank().over(w1)).show()\n",
        "'''"
      ]
    },
    {
      "cell_type": "markdown",
      "metadata": {
        "id": "Fcmx2zA9KPhM"
      },
      "source": [
        "Já nesta outra análise, verifica-se que a quantidade de avaliações está diretamente ligada aos locais onde são disponibilizadas, sendo que os maiores números de avaliações estão em Manhattan ou no Brooklyn"
      ]
    },
    {
      "cell_type": "code",
      "execution_count": null,
      "metadata": {
        "id": "bBIA3fRnBUAV",
        "colab": {
          "base_uri": "https://localhost:8080/"
        },
        "outputId": "dc47846d-4842-406f-cc6e-e2318bc363ab"
      },
      "outputs": [
        {
          "output_type": "stream",
          "name": "stdout",
          "text": [
            "+---------------+---------------------------+----------------+------------+\n",
            "| nome_anfitriao|soma_propriedades_anfitriao|total_avaliacoes|grupo_bairro|\n",
            "+---------------+---------------------------+----------------+------------+\n",
            "|    LisaRoxanne|                          1|             270|    Brooklyn|\n",
            "|       Shunichi|                          1|             430|   Manhattan|\n",
            "|            Ben|                          4|             160|   Manhattan|\n",
            "|           Kate|                          1|             188|   Manhattan|\n",
            "|         Laurie|                          3|             167|    Brooklyn|\n",
            "|        Claudio|                          1|             113|   Manhattan|\n",
            "|  Allen & Irina|                          1|             148|    Brooklyn|\n",
            "|           Jane|                          1|             198|    Brooklyn|\n",
            "|           Doti|                          1|             260|   Manhattan|\n",
            "|          Lisel|                          6|             130|    Brooklyn|\n",
            "|           Shon|                          3|             108|   Manhattan|\n",
            "|Ssameer Or Trip|                          3|             242|   Manhattan|\n",
            "|         Andrea|                          3|             197|    Brooklyn|\n",
            "|Ssameer Or Trip|                          3|             273|   Manhattan|\n",
            "|         Laurie|                          3|             168|    Brooklyn|\n",
            "|         Tyrome|                          2|             231|    Brooklyn|\n",
            "|            Ben|                          4|             214|   Manhattan|\n",
            "|         Edward|                          2|             245|   Manhattan|\n",
            "|        Orestes|                          1|             248|      Queens|\n",
            "|      Alexander|                          2|             135|    Brooklyn|\n",
            "+---------------+---------------------------+----------------+------------+\n",
            "only showing top 20 rows\n",
            "\n"
          ]
        }
      ],
      "source": [
        "# Apenas os registros que tiveram a partir de 100 avaliações no ano\n",
        "df_avaliacao = df_pyspark.select(F.col(\"nome_anfitriao\"),F.col(\"soma_propriedades_anfitriao\"),F.col(\"total_avaliacoes\"),F.col(\"grupo_bairro\")).filter(\"total_avaliacoes > 100\" )\n",
        "df_avaliacao.show()\n"
      ]
    },
    {
      "cell_type": "markdown",
      "metadata": {
        "id": "19HEVAvxpmgj"
      },
      "source": [
        "\n",
        "\n",
        "A consulta abaixo determina os imóveis que estão disponíveis por  6 meses ou um ano, caso a pessoa necessite do imóvel por um periodo maior. e podemos ver que são do tipo apartamento inteiro ou sala privada.\n",
        "\n"
      ]
    },
    {
      "cell_type": "code",
      "execution_count": null,
      "metadata": {
        "id": "uyDZQrqTozl7",
        "colab": {
          "base_uri": "https://localhost:8080/"
        },
        "outputId": "1e85ed6f-79bc-471e-d0df-bd34b6a5611b"
      },
      "outputs": [
        {
          "output_type": "stream",
          "name": "stdout",
          "text": [
            "+----+--------------------+------------+----------------+------------+------------------+-------------------+-----+----------------+----------------+----------------+--------------+---------------------------+-------------------+\n",
            "|  id|             anuncio|id_anfitriao|  nome_anfitriao|grupo_bairro|            bairro|     tipo_de_quarto|preco|minimo_de_noites|total_avaliacoes|ultima_avaliacao|avaliacoes_mes|soma_propriedades_anfitriao|disponibilidade_365|\n",
            "+----+--------------------+------------+----------------+------------+------------------+-------------------+-----+----------------+----------------+----------------+--------------+---------------------------+-------------------+\n",
            "|2539|Limpo e tranquilo...|        2787|            John|    Brooklyn|        Kensington|       Sala privada|149.0|               1|               9|      2018-10-19|             0|                          6|                365|\n",
            "|2595|Castelo de Skylit...|        2845|        Jennifer|   Manhattan|           Midtown|Casa / apto inteiro|225.0|               1|              45|      2019-05-21|             0|                          2|                355|\n",
            "|3647|A aldeia de Harle...|        4632|       Elisabeth|   Manhattan|            Harlem|       Sala privada|150.0|               3|               0|      1980-01-01|             0|                          1|                365|\n",
            "|3831|Aconchegante inte...|        4869|     LisaRoxanne|    Brooklyn|      Clinton Hill|Casa / apto inteiro| 89.0|               1|             270|      2019-07-05|             4|                          1|                194|\n",
            "|5099|Grande apartament...|        7322|           Chris|   Manhattan|       Murray Hill|Casa / apto inteiro|200.0|               3|              74|      2019-06-22|             0|                          1|                129|\n",
            "|5178|Grande quarto mob...|        8967|        Shunichi|   Manhattan|    Hell's Kitchen|       Sala privada| 79.0|               2|             430|      2019-06-24|             3|                          1|                220|\n",
            "|5238|Bonito e acolhedo...|        7549|             Ben|   Manhattan|         Chinatown|Casa / apto inteiro|150.0|               1|             160|      2019-06-09|             1|                          4|                188|\n",
            "|5295|Bela 1 quarto no ...|        7702|            Lena|   Manhattan|   Upper West Side|Casa / apto inteiro|135.0|               5|              53|      2019-06-22|             0|                          1|                  6|\n",
            "|5441|Manhattan central...|        7989|            Kate|   Manhattan|    Hell's Kitchen|       Sala privada| 85.0|               2|             188|      2019-06-23|             1|                          1|                 39|\n",
            "|5803|Encantador quarto...|        9744|          Laurie|    Brooklyn|       South Slope|       Sala privada| 89.0|               4|             167|      2019-06-24|             1|                          3|                314|\n",
            "|6021|Maravilhoso quart...|       11528|         Claudio|   Manhattan|   Upper West Side|       Sala privada| 85.0|               2|             113|      2019-07-05|             0|                          1|                333|\n",
            "|6848|Apenas 2 paragens...|       15991|   Allen & Irina|    Brooklyn|      Williamsburg|Casa / apto inteiro|140.0|               2|             148|      2019-06-29|             1|                          1|                 46|\n",
            "|7097|Perfeito para seu...|       17571|            Jane|    Brooklyn|       Fort Greene|Casa / apto inteiro|215.0|               2|             198|      2019-06-28|             1|                          1|                321|\n",
            "|7322|    Chelsea perfeito|       18946|            Doti|   Manhattan|           Chelsea|       Sala privada|140.0|               1|             260|      2019-07-01|             2|                          1|                 12|\n",
            "|7726|Apartamento histó...|       20950|Adam And Charity|    Brooklyn|     Crown Heights|Casa / apto inteiro| 99.0|               3|              53|      2019-06-22|             4|                          1|                 21|\n",
            "|7750|Enorme 2 quartos ...|       17985|            Sing|   Manhattan|       East Harlem|Casa / apto inteiro|190.0|               7|               0|      1980-01-01|             0|                          2|                249|\n",
            "|8024|CBG CTYBGD HELPSH...|       22486|           Lisel|    Brooklyn|        Park Slope|       Sala privada|130.0|               2|             130|      2019-07-01|             1|                          6|                347|\n",
            "|8025|CBG ajuda o quart...|       22486|           Lisel|    Brooklyn|        Park Slope|       Sala privada| 80.0|               1|              39|      2019-01-01|             0|                          6|                364|\n",
            "|8110|CBG ajuda o Haiti...|       22486|           Lisel|    Brooklyn|        Park Slope|       Sala privada|110.0|               2|              71|      2019-07-02|             0|                          6|                304|\n",
            "|8490|Maison des Sirene...|       25183|        Nathalie|    Brooklyn|Bedford-Stuyvesant|Casa / apto inteiro|120.0|               2|              88|      2019-06-19|             0|                          2|                233|\n",
            "+----+--------------------+------------+----------------+------------+------------------+-------------------+-----+----------------+----------------+----------------+--------------+---------------------------+-------------------+\n",
            "only showing top 20 rows\n",
            "\n"
          ]
        }
      ],
      "source": [
        "#  com a função where verifico apenas os imóveis que têm disponibilidade de 6 meses ou 1 ano\n",
        "from pyspark.sql.functions import col\n",
        "\n",
        "df_pyspark.where(col(\"disponibilidade_365\").isin({\"365\" , \"183\"})).count()\n",
        "df_pyspark.show()"
      ]
    },
    {
      "cell_type": "markdown",
      "metadata": {
        "id": "3-kxKwUbtoBF"
      },
      "source": [
        "Partindo do princípio que existe um minimo de noites para cada preço lançado para os quartos, criei a coluna valor_minimo já com o valor minimo que a pessoa vai gastar "
      ]
    },
    {
      "cell_type": "code",
      "execution_count": null,
      "metadata": {
        "id": "U0az9rUDodZd"
      },
      "outputs": [],
      "source": [
        "# cria uma nova coluna no dataframe com o calculo da quantidade minima de noites pelo preço lançado.\n",
        "df_pyspark=df_pyspark.withColumn('valor_minimo', df_pyspark.preco * df_pyspark.minimo_de_noites)"
      ]
    },
    {
      "cell_type": "code",
      "source": [
        "#visualizando a nova coluna\n",
        "df_pyspark.show(4)"
      ],
      "metadata": {
        "id": "kuwECPNT7vmt",
        "colab": {
          "base_uri": "https://localhost:8080/"
        },
        "outputId": "e0260a83-fd3d-4ef6-9682-0f6ba1bc245b"
      },
      "execution_count": null,
      "outputs": [
        {
          "output_type": "stream",
          "name": "stdout",
          "text": [
            "+----+--------------------+------------+--------------+------------+------------+-------------------+-----+----------------+----------------+----------------+--------------+---------------------------+-------------------+------------+\n",
            "|  id|             anuncio|id_anfitriao|nome_anfitriao|grupo_bairro|      bairro|     tipo_de_quarto|preco|minimo_de_noites|total_avaliacoes|ultima_avaliacao|avaliacoes_mes|soma_propriedades_anfitriao|disponibilidade_365|valor_minimo|\n",
            "+----+--------------------+------------+--------------+------------+------------+-------------------+-----+----------------+----------------+----------------+--------------+---------------------------+-------------------+------------+\n",
            "|2539|Limpo e tranquilo...|        2787|          John|    Brooklyn|  Kensington|       Sala privada|149.0|               1|               9|      2018-10-19|             0|                          6|                365|       149.0|\n",
            "|2595|Castelo de Skylit...|        2845|      Jennifer|   Manhattan|     Midtown|Casa / apto inteiro|225.0|               1|              45|      2019-05-21|             0|                          2|                355|       225.0|\n",
            "|3647|A aldeia de Harle...|        4632|     Elisabeth|   Manhattan|      Harlem|       Sala privada|150.0|               3|               0|      1980-01-01|             0|                          1|                365|       450.0|\n",
            "|3831|Aconchegante inte...|        4869|   LisaRoxanne|    Brooklyn|Clinton Hill|Casa / apto inteiro| 89.0|               1|             270|      2019-07-05|             4|                          1|                194|        89.0|\n",
            "+----+--------------------+------------+--------------+------------+------------+-------------------+-----+----------------+----------------+----------------+--------------+---------------------------+-------------------+------------+\n",
            "only showing top 4 rows\n",
            "\n"
          ]
        }
      ]
    },
    {
      "cell_type": "markdown",
      "metadata": {
        "id": "kTLb-vMDa8dU"
      },
      "source": [
        "\n",
        "# Conclusão em resposta aos questionamentos iniciais\n",
        "Conclui-se com estas consultas que:\n",
        "\n",
        "1 - É possível identificar e comparar todos os preços, bem como identificar  a localização de cada um destes imóveis e ter uma pré avaliação de seus dados tomando como base outros ofertados em iguais condiçoes.\n"
      ]
    },
    {
      "cell_type": "markdown",
      "metadata": {
        "id": "aKPqhN1gDdG2"
      },
      "source": [
        "\n",
        "\n",
        "---\n",
        "\n",
        "\n",
        "# **Salvando o Arquivo Final** \n"
      ]
    },
    {
      "cell_type": "markdown",
      "metadata": {
        "id": "FxHSakhvFHNz"
      },
      "source": [
        "No Google Drive"
      ]
    },
    {
      "cell_type": "code",
      "source": [
        "# Converto pyspark para pandas e salvo como csv para trazer também as colunas criadas com withcolumn\n",
        "df_pyspark.toPandas().to_csv(\"aprimoramento_4.csv\", header=True, index=False)"
      ],
      "metadata": {
        "id": "9HiH22S1FiiT"
      },
      "execution_count": null,
      "outputs": []
    },
    {
      "cell_type": "markdown",
      "metadata": {
        "id": "N3STpwlZEfUn"
      },
      "source": [
        "No Bucket do cloud storage"
      ]
    },
    {
      "cell_type": "code",
      "execution_count": null,
      "metadata": {
        "id": "wEheVu5JDnwG"
      },
      "outputs": [],
      "source": [
        "# arquivo final Tratado  Foi salvo no Bucket (pasta saída)\n",
        "#!gsutil cp /content/aprimoramento_4.csv gs://ingest-wallace.appspot.com/Saida_Aprimoramento/aprimoramento_4.csv"
      ]
    },
    {
      "cell_type": "markdown",
      "metadata": {
        "id": "M0G1cOQlMQRH"
      },
      "source": [
        "--------------------------------------------------------------------------------\n",
        "\n",
        "# **SQL**\n",
        "\n",
        "\n"
      ]
    },
    {
      "cell_type": "markdown",
      "metadata": {
        "id": "hXtKKWaRMaOH"
      },
      "source": [
        "Testando algumas consultas"
      ]
    },
    {
      "cell_type": "markdown",
      "metadata": {
        "id": "6auRUPceVbdT"
      },
      "source": [
        "**As consultas abaixo em SQL foram testadas no Workbench** - Conteúdo visto em aula - e foram executadas no BigQuery  também  *  - obs - não irão rodar neste colab*"
      ]
    },
    {
      "cell_type": "code",
      "execution_count": null,
      "metadata": {
        "id": "pXb0u1-gMiIU",
        "colab": {
          "base_uri": "https://localhost:8080/",
          "height": 70
        },
        "outputId": "8ccaf618-25f2-4803-a69a-ae26c155779b"
      },
      "outputs": [
        {
          "output_type": "execute_result",
          "data": {
            "application/vnd.google.colaboratory.intrinsic+json": {
              "type": "string"
            },
            "text/plain": [
              "'\\n# Caso uma pessoa queira ficar no local por um periodo maior, quantos imóveis\\n# estão disponiveis por um periodo acima de 6 meses nos bairros mais procurados (entre os milhares anunciados)\\n#SELECT * FROM aprimoramento_4;\\nSELECT tipo_de_quarto,grupo_bairro,disponibilidade_365 FROM aprimoramento_4\\nWHERE grupo_bairro = (\"Manhattan\" or \"Brooklyn\") and disponibilidade_365 > 183 group by tipo_de_quarto;\\n'"
            ]
          },
          "metadata": {},
          "execution_count": 67
        }
      ],
      "source": [
        "'''\n",
        "# Caso uma pessoa queira ficar no local por um periodo maior, quantos imóveis\n",
        "# estão disponiveis por um periodo acima de 6 meses nos bairros mais procurados (entre os milhares anunciados)\n",
        "#SELECT * FROM aprimoramento_4;\n",
        "SELECT tipo_de_quarto,grupo_bairro,disponibilidade_365 FROM aprimoramento_4\n",
        "WHERE grupo_bairro = (\"Manhattan\" or \"Brooklyn\") and disponibilidade_365 > 183 group by tipo_de_quarto;\n",
        "'''"
      ]
    },
    {
      "cell_type": "code",
      "execution_count": null,
      "metadata": {
        "id": "gCKCP-RGMroc",
        "colab": {
          "base_uri": "https://localhost:8080/",
          "height": 87
        },
        "outputId": "5e8e4634-9960-484f-f64f-080edf698831"
      },
      "outputs": [
        {
          "output_type": "execute_result",
          "data": {
            "application/vnd.google.colaboratory.intrinsic+json": {
              "type": "string"
            },
            "text/plain": [
              "'\\n#/*  esta consulta mostra o numero de vezes que um anfitrião aparece com mais de 100 avaliações no ano.\\n#Agrupo por id do anfitrião para não ter nomes iguais Em seguida filtra trazendo apenas os que aparecem 3 ou\\n#mais vezes - assim sabemos quais anfitrioes são mais conhecidos-*/\\nSELECT nome_anfitriao,sum(numero_de_avaliacoes),Qtde_avaliacoes_mes, count(id_anfitriao) AS avaliacoes_ano\\nFROM aprimoramento_4 WHERE numero_de_avaliacoes > 100\\nGROUP BY id_anfitriao\\nHAVING COUNT(*) >= 3\\n'"
            ]
          },
          "metadata": {},
          "execution_count": 68
        }
      ],
      "source": [
        "'''\n",
        "#/*  esta consulta mostra o numero de vezes que um anfitrião aparece com mais de 100 avaliações no ano.\n",
        "#Agrupo por id do anfitrião para não ter nomes iguais Em seguida filtra trazendo apenas os que aparecem 3 ou\n",
        "#mais vezes - assim sabemos quais anfitrioes são mais conhecidos-*/\n",
        "SELECT nome_anfitriao,sum(numero_de_avaliacoes),Qtde_avaliacoes_mes, count(id_anfitriao) AS avaliacoes_ano\n",
        "FROM aprimoramento_4 WHERE numero_de_avaliacoes > 100\n",
        "GROUP BY id_anfitriao\n",
        "HAVING COUNT(*) >= 3\n",
        "'''"
      ]
    },
    {
      "cell_type": "code",
      "execution_count": null,
      "metadata": {
        "id": "hmSCZdupNTPQ",
        "colab": {
          "base_uri": "https://localhost:8080/",
          "height": 70
        },
        "outputId": "28a8037b-9b96-46f7-e1ce-ed70ad34862c"
      },
      "outputs": [
        {
          "output_type": "execute_result",
          "data": {
            "application/vnd.google.colaboratory.intrinsic+json": {
              "type": "string"
            },
            "text/plain": [
              "'\\n# /* Verificar os que foram avaliados mais recentemente e a quantidade recebida porque um numero alto de avaliações\\n# pode se referir a tempos muito antigos*/\\nSELECT aprimoramento_4.nome, aprimoramento_4.ultima_avaliacao, aprimoramento_4.numero_de_avaliacoes as recentes\\nFROM aprimoramento_4 where aprimoramento_4.ultima_avaliacao > \"2018/12/31\"\\ngroup by ultima_avaliacao\\nhaving ultima_avaliacao != 0 order by ultima_avaliacao desc\\n'"
            ]
          },
          "metadata": {},
          "execution_count": 69
        }
      ],
      "source": [
        "'''\n",
        "# /* Verificar os que foram avaliados mais recentemente e a quantidade recebida porque um numero alto de avaliações\n",
        "# pode se referir a tempos muito antigos*/\n",
        "SELECT aprimoramento_4.nome, aprimoramento_4.ultima_avaliacao, aprimoramento_4.numero_de_avaliacoes as recentes\n",
        "FROM aprimoramento_4 where aprimoramento_4.ultima_avaliacao > \"2018/12/31\"\n",
        "group by ultima_avaliacao\n",
        "having ultima_avaliacao != 0 order by ultima_avaliacao desc\n",
        "'''"
      ]
    },
    {
      "cell_type": "code",
      "execution_count": null,
      "metadata": {
        "id": "-5SGic0nNptr",
        "colab": {
          "base_uri": "https://localhost:8080/",
          "height": 53
        },
        "outputId": "4f2031c2-55a9-4771-9298-b23e72d4d4eb"
      },
      "outputs": [
        {
          "output_type": "execute_result",
          "data": {
            "application/vnd.google.colaboratory.intrinsic+json": {
              "type": "string"
            },
            "text/plain": [
              "'\\n# /* Seleciona apenas Casas com o preço e o bairro onde estão localizadas por pelo menos 6 meses mas apenas os que contém jardim*/\\nSELECT bairro, grupo_bairro, preco,nome\\nFROM aprimoramento_4\\nwhere nome LIKE \"%jardim%\" and disponibilidade_365 >= \"183\"\\n'"
            ]
          },
          "metadata": {},
          "execution_count": 70
        }
      ],
      "source": [
        "'''\n",
        "# /* Seleciona apenas Casas com o preço e o bairro onde estão localizadas por pelo menos 6 meses mas apenas os que contém jardim*/\n",
        "SELECT bairro, grupo_bairro, preco,nome\n",
        "FROM aprimoramento_4\n",
        "where nome LIKE \"%jardim%\" and disponibilidade_365 >= \"183\"\n",
        "'''"
      ]
    },
    {
      "cell_type": "markdown",
      "metadata": {
        "id": "gq6bwABRBg9a"
      },
      "source": [
        "\n",
        "# ***FIM***\n",
        "\n",
        "---\n",
        "\n",
        "\n",
        "\n"
      ]
    }
  ],
  "metadata": {
    "colab": {
      "collapsed_sections": [],
      "name": "Analise_imoveis_de_aluguel.ipynb",
      "provenance": [],
      "include_colab_link": true
    },
    "kernelspec": {
      "display_name": "Python 3",
      "name": "python3"
    },
    "language_info": {
      "name": "python"
    }
  },
  "nbformat": 4,
  "nbformat_minor": 0
}